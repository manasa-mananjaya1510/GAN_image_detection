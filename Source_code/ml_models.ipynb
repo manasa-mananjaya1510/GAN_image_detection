{
 "cells": [
  {
   "cell_type": "code",
   "execution_count": 1,
   "id": "fb2d6182",
   "metadata": {},
   "outputs": [],
   "source": [
    "import re,sys,os,numpy as np, pandas as pd\n",
    "os.environ['TF_CPP_MIN_LOG_LEVEL'] = '3' \n",
    "import tensorflow as tf\n",
    "from sklearn.metrics import confusion_matrix\n",
    "import cv2\n",
    "from sklearn.preprocessing import LabelEncoder\n",
    "from tensorflow.keras.models import Sequential, load_model\n",
    "from tensorflow.keras.layers import Dense, Conv2D, MaxPooling2D, Flatten, Dropout, Convolution2D, Activation\n",
    "from sklearn.neighbors import KNeighborsClassifier\n",
    "from sklearn.naive_bayes import GaussianNB\n",
    "from sklearn.metrics import accuracy_score\n",
    "import wandb\n",
    "import matplotlib.pyplot as plt\n",
    "import pandas as pd\n",
    "from sklearn.metrics import confusion_matrix\n",
    "from sklearn import datasets, neighbors\n",
    "from mlxtend.plotting import plot_decision_regions\n",
    "from matplotlib import pyplot\n",
    "from sklearn.metrics import mean_squared_error\n",
    "import seaborn as sns\n",
    "tf.compat.v1.logging.set_verbosity(tf.compat.v1.logging.ERROR)\n",
    "from sklearn import svm\n",
    "from sklearn.metrics import classification_report\n",
    "from sklearn.ensemble import RandomForestRegressor\n",
    "from sklearn.svm import SVC\n",
    "\n"
   ]
  },
  {
   "cell_type": "code",
   "execution_count": 61,
   "id": "4041f462",
   "metadata": {},
   "outputs": [],
   "source": [
    "def get_train_data():\n",
    "\n",
    "    train_images = []\n",
    "    train_labels = []\n",
    "    \n",
    "    img_path= \"../project/data/normal/train/\"\n",
    "    #img_path= \"../project/data/pneumonia/train/\"\n",
    "    \n",
    "    dirss = os.listdir(img_path)\n",
    "    \n",
    "    for item in dirss:\n",
    "        if(item=='desktop.ini'):continue\n",
    "        #print((img_path+item))\n",
    "        if os.path.isfile(img_path+item):\n",
    "         #   print(item)\n",
    "            img_name=img_path+item\n",
    "            label, filename,img_no = item.split('_')\n",
    "            filename=filename+img_no\n",
    "            #print(filename)\n",
    "            img=cv2.imread(img_name)\n",
    "            \n",
    "            train_images.append(img)\n",
    "            if label==\"fake\":\n",
    "                train_labels.append(0)\n",
    "            elif label==\"real\":\n",
    "                train_labels.append(1)\n",
    "            \n",
    "    train_images = np.array(train_images)    \n",
    "    train_labels = np.array(train_labels)\n",
    "    #print(train_images)\n",
    "    #print(train_labels)\n",
    "    return train_images, train_labels\n",
    "      \n",
    "\n",
    "\n",
    "\n"
   ]
  },
  {
   "cell_type": "code",
   "execution_count": 62,
   "id": "a9bae9f2",
   "metadata": {},
   "outputs": [],
   "source": [
    "def get_test_data():\n",
    "\n",
    "    test_images = []\n",
    "    test_labels = []\n",
    "    \n",
    "    \n",
    "    img_path= \"../project/data/normal/test/\"\n",
    "    #img_path= \"../project/data/pneumonia/test/\"\n",
    "    \n",
    "    dirss = os.listdir(img_path)\n",
    "     \n",
    "    for item in dirss:\n",
    "        if(item=='desktop.ini'):continue\n",
    "        \n",
    "        if os.path.isfile(img_path+item):\n",
    "            #print(item)\n",
    "            img_name=img_path+item\n",
    "            label, filename,img_no = item.split('_')\n",
    "            filename=filename+img_no\n",
    "            #print(filename)\n",
    "            img=cv2.imread(img_name)\n",
    "            \n",
    "            test_images.append(img)\n",
    "            if label==\"fake\":\n",
    "                test_labels.append(0)\n",
    "            elif label==\"real\":\n",
    "                test_labels.append(1)\n",
    "            \n",
    "    test_images = np.array(test_images)    \n",
    "    test_labels = np.array(test_labels)\n",
    "    #print(test_images)\n",
    "    #print(test_labels)\n",
    "    return test_images, test_labels\n",
    "      \n",
    "    \n",
    "\n",
    "\n",
    "\n"
   ]
  },
  {
   "cell_type": "code",
   "execution_count": 63,
   "id": "68dbf7c5",
   "metadata": {},
   "outputs": [],
   "source": [
    "def get_val_data():\n",
    "\n",
    "    val_images = []\n",
    "    val_labels = []\n",
    "    \n",
    "    \n",
    "    img_path= \"../project/data/normal/val/\"\n",
    "    #img_path= \"../project/data/pneumonia/val/\"\n",
    "    \n",
    "    dirss = os.listdir(img_path)\n",
    "     \n",
    "    for item in dirss:\n",
    "        #print((img_path+item))\n",
    "        if os.path.isfile(img_path+item):\n",
    "            #print(item)\n",
    "            img_name=img_path+item\n",
    "            label, filename,img_no = item.split('_')\n",
    "            filename=filename+img_no\n",
    "            #print(filename)\n",
    "            img=cv2.imread(img_name)\n",
    "            \n",
    "            val_images.append(img)\n",
    "            if label==\"fake\":\n",
    "                val_labels.append(0)\n",
    "            elif label==\"real\":\n",
    "                val_labels.append(1)\n",
    "            \n",
    "    val_images = np.array(val_images)    \n",
    "    val_labels = np.array(val_labels)\n",
    "    #print(val_images)\n",
    "    #print(val_labels)\n",
    "    return val_images, val_labels\n",
    "      \n",
    "    \n"
   ]
  },
  {
   "cell_type": "code",
   "execution_count": 59,
   "id": "5b9bbc8d",
   "metadata": {},
   "outputs": [
    {
     "name": "stdout",
     "output_type": "stream",
     "text": [
      "Epoch 1/20\n",
      "113/113 [==============================] - 3s 23ms/step - loss: 0.8812 - accuracy: 0.9688\n",
      "Epoch 2/20\n",
      "113/113 [==============================] - 2s 21ms/step - loss: 0.0840 - accuracy: 0.9822\n",
      "Epoch 3/20\n",
      "113/113 [==============================] - 3s 23ms/step - loss: 0.0770 - accuracy: 0.9831\n",
      "Epoch 4/20\n",
      "113/113 [==============================] - 2s 21ms/step - loss: 0.0705 - accuracy: 0.9822\n",
      "Epoch 5/20\n",
      "113/113 [==============================] - 3s 22ms/step - loss: 0.0613 - accuracy: 0.9866\n",
      "Epoch 6/20\n",
      "113/113 [==============================] - 2s 21ms/step - loss: 0.0417 - accuracy: 0.9866\n",
      "Epoch 7/20\n",
      "113/113 [==============================] - 2s 21ms/step - loss: 0.0423 - accuracy: 0.9893\n",
      "Epoch 8/20\n",
      "113/113 [==============================] - 2s 21ms/step - loss: 0.0190 - accuracy: 0.9946 0s - los\n",
      "Epoch 9/20\n",
      "113/113 [==============================] - 2s 22ms/step - loss: 0.0033 - accuracy: 0.9991\n",
      "Epoch 10/20\n",
      "113/113 [==============================] - 2s 22ms/step - loss: 0.0034 - accuracy: 0.9982\n",
      "Epoch 11/20\n",
      "113/113 [==============================] - 2s 21ms/step - loss: 5.3917e-04 - accuracy: 1.0000\n",
      "Epoch 12/20\n",
      "113/113 [==============================] - 2s 22ms/step - loss: 0.0302 - accuracy: 0.9938\n",
      "Epoch 13/20\n",
      "113/113 [==============================] - 3s 27ms/step - loss: 0.0322 - accuracy: 0.9920\n",
      "Epoch 14/20\n",
      "113/113 [==============================] - 3s 26ms/step - loss: 0.0237 - accuracy: 0.9929\n",
      "Epoch 15/20\n",
      "113/113 [==============================] - 2s 22ms/step - loss: 0.0238 - accuracy: 0.9929\n",
      "Epoch 16/20\n",
      "113/113 [==============================] - 3s 23ms/step - loss: 0.0335 - accuracy: 0.9920\n",
      "Epoch 17/20\n",
      "113/113 [==============================] - 3s 28ms/step - loss: 0.0562 - accuracy: 0.9857\n",
      "Epoch 18/20\n",
      "113/113 [==============================] - 3s 22ms/step - loss: 0.0171 - accuracy: 0.9946\n",
      "Epoch 19/20\n",
      "113/113 [==============================] - 2s 21ms/step - loss: 0.0153 - accuracy: 0.9946\n",
      "Epoch 20/20\n",
      "113/113 [==============================] - 2s 22ms/step - loss: 0.0175 - accuracy: 0.9938\n",
      "CNN Accuracy= 79.87499833106995\n"
     ]
    },
    {
     "data": {
      "image/png": "[encoded data removed]",
      "text/plain": [
       "<Figure size 432x288 with 1 Axes>"
      ]
     },
     "metadata": {
      "needs_background": "light"
     },
     "output_type": "display_data"
    },
    {
     "name": "stdout",
     "output_type": "stream",
     "text": [
      "[[239 161]\n",
      " [  0 400]]\n"
     ]
    },
    {
     "data": {
      "image/png": "[encoded data removed]",
      "text/plain": [
       "<Figure size 432x288 with 1 Axes>"
      ]
     },
     "metadata": {
      "needs_background": "light"
     },
     "output_type": "display_data"
    }
   ],
   "source": [
    "def cnn():\n",
    "     \n",
    "    train_data,train_labels=get_train_data()\n",
    "    test_data,test_labels=get_test_data()\n",
    "    #val_data,val_labels=get_val_data()\n",
    "   \n",
    "    train_data = train_data.reshape(train_data.shape[0], 64, 64, 3)\n",
    "    test_data = test_data.reshape(test_data.shape[0], 64, 64, 3)\n",
    "   \n",
    "    model=Sequential()\n",
    "    \n",
    "    model.add(Conv2D(16, kernel_size=(3, 3), activation='relu',padding='same', input_shape=(64,64,3)))\n",
    "    model.add(MaxPooling2D(pool_size=(2, 2)))\n",
    "    \n",
    "    model.add(Conv2D(32, kernel_size=(3, 3), activation='relu',padding='same'))\n",
    "    model.add(MaxPooling2D(pool_size=(2, 2)))\n",
    "    \n",
    "    model.add(Conv2D(64, kernel_size=(3, 3), activation='relu',padding='same'))\n",
    "    model.add(MaxPooling2D(pool_size=(2, 2)))\n",
    "    \n",
    "    model.add(Conv2D(128, kernel_size=(3, 3), activation='relu',padding='same'))\n",
    "    model.add(MaxPooling2D(pool_size=(2, 2)))\n",
    "    model.add(Dropout(0.25))\n",
    "\n",
    "    model.add(Flatten())\n",
    "    model.add(Dense(512, activation='relu'))\n",
    "    model.add(Dense(25, activation='softmax'))\n",
    "\n",
    "    model.compile(optimizer='adam',loss='sparse_categorical_crossentropy',metrics=['accuracy'])\n",
    "    history= model.fit(train_data,train_labels,epochs=20,batch_size=10,verbose=1)\n",
    "    \n",
    "    predictions = model.predict(test_data)\n",
    "    \n",
    "    # predicted labels\n",
    "    y_pred = np.argmax(predictions, axis=1)\n",
    "    \n",
    "    test_loss, test_acc = model.evaluate(test_data,test_labels,verbose=0)\n",
    "    \n",
    "    \n",
    "    print(\"CNN Accuracy=\",test_acc*100)\n",
    "\n",
    "    plt.plot(history.history['accuracy'])\n",
    "    plt.xlabel('epochs')\n",
    "    plt.ylabel('training accuracy')\n",
    "    plt.show()\n",
    "    \n",
    "    matrix = confusion_matrix(test_labels, y_pred)\n",
    "    print(matrix)\n",
    "    data1=[]\n",
    "    data2=[]\n",
    "    for i in range(2):\n",
    "        total=0\n",
    "        for j in range(2):\n",
    "            \n",
    "            if i==j:\n",
    "                data1.append(matrix[i][j])\n",
    "            elif matrix[i][j]!=0:\n",
    "                total=total+matrix[i][j]\n",
    "        data2.append(total)\n",
    "    \n",
    "    plt.bar(range(len(data1)), data1)\n",
    "    plt.bar(range(len(data2)), data2, bottom=data1)\n",
    "    plt.xlabel('categories (Fake, Real)')\n",
    "    plt.ylabel('number of images')\n",
    "    plt.show()\n",
    "    \n",
    "    \n",
    "cnn()"
   ]
  },
  {
   "cell_type": "code",
   "execution_count": 64,
   "id": "ac1d841b",
   "metadata": {},
   "outputs": [
    {
     "name": "stdout",
     "output_type": "stream",
     "text": [
      "KNN Accuracy= 57.833333333333336\n",
      "[[ 94 506]\n",
      " [  0 600]]\n"
     ]
    },
    {
     "data": {
      "image/png": "[encoded data removed]",
      "text/plain": [
       "<Figure size 432x288 with 1 Axes>"
      ]
     },
     "metadata": {
      "needs_background": "light"
     },
     "output_type": "display_data"
    }
   ],
   "source": [
    "def knn():\n",
    "    \n",
    "    model = KNeighborsClassifier(n_neighbors=3)\n",
    "\n",
    "    train_data,train_labels=get_train_data()\n",
    "    test_data,test_labels=get_test_data()\n",
    "    val_data,val_labels=get_val_data()\n",
    "\n",
    "    train_data=train_data.reshape(train_data.shape[0],-1)\n",
    "    test_data=test_data.reshape(test_data.shape[0],-1)\n",
    "\n",
    "    model.fit(train_data,train_labels)\n",
    "    test_acc = model.score(test_data,test_labels)\n",
    "    y_pred = model.predict(test_data)\n",
    "        \n",
    "    print(\"KNN Accuracy=\",test_acc*100)\n",
    "    matrix = confusion_matrix(test_labels, y_pred)\n",
    "    \n",
    "    data1=[]\n",
    "    data2=[]\n",
    "    for i in range(2):\n",
    "        total=0\n",
    "        for j in range(2):\n",
    "            \n",
    "            if i==j:\n",
    "                data1.append(matrix[i][j])\n",
    "            elif matrix[i][j]!=0:\n",
    "                total=total+matrix[i][j]\n",
    "        data2.append(total)\n",
    "    print(matrix)\n",
    "    plt.bar(range(len(data1)), data1)\n",
    "    plt.bar(range(len(data2)), data2, bottom=data1)\n",
    "    plt.xlabel('categories (Fake, Real)')\n",
    "    plt.ylabel('number of images')\n",
    "    plt.show()\n",
    "    \n",
    "knn()"
   ]
  },
  {
   "cell_type": "code",
   "execution_count": 65,
   "id": "0830f06e",
   "metadata": {},
   "outputs": [
    {
     "name": "stdout",
     "output_type": "stream",
     "text": [
      "              precision    recall  f1-score   support\n",
      "\n",
      "           0       1.00      0.52      0.68       600\n",
      "           1       0.67      1.00      0.81       600\n",
      "\n",
      "    accuracy                           0.76      1200\n",
      "   macro avg       0.84      0.76      0.74      1200\n",
      "weighted avg       0.84      0.76      0.74      1200\n",
      "\n",
      "0.7583333333333333\n",
      "The model is 75.83333333333333% accurate\n",
      "[[310 290]\n",
      " [  0 600]]\n"
     ]
    },
    {
     "data": {
      "image/png": "[encoded data removed]",
      "text/plain": [
       "<Figure size 432x288 with 1 Axes>"
      ]
     },
     "metadata": {
      "needs_background": "light"
     },
     "output_type": "display_data"
    }
   ],
   "source": [
    "def svm():\n",
    "    from sklearn import svm\n",
    "\n",
    "    train_data,train_labels=get_train_data()\n",
    "    test_data,test_labels=get_test_data()\n",
    "    val_data,val_labels=get_val_data()\n",
    "\n",
    "    train_data=train_data.reshape(train_data.shape[0],-1)\n",
    "    test_data=test_data.reshape(test_data.shape[0],-1)\n",
    "\n",
    "    clf = svm.SVC(kernel='linear', C=1,gamma=1)\n",
    "    clf.fit(train_data, train_labels)\n",
    "    y_pred = clf.predict(test_data)\n",
    "    cm = confusion_matrix(test_labels,y_pred)\n",
    "    print(classification_report(test_labels,y_pred))\n",
    "    print(clf.score(test_data,test_labels))\n",
    "\n",
    "    print(f\"The model is {accuracy_score(y_pred,test_labels)*100}% accurate\")\n",
    "\n",
    "\n",
    "    matrix = confusion_matrix(test_labels, y_pred)\n",
    "    print(matrix)\n",
    "    data1=[]\n",
    "    data2=[]\n",
    "    for i in range(2):\n",
    "        total=0\n",
    "        for j in range(2):\n",
    "\n",
    "            if i==j:\n",
    "                data1.append(matrix[i][j])\n",
    "            elif matrix[i][j]>0:\n",
    "                total=total+matrix[i][j]\n",
    "        data2.append(total)\n",
    "\n",
    "    plt.bar(range(len(data1)), data1)\n",
    "    plt.bar(range(len(data2)), data2, bottom=data1)\n",
    "    plt.xlabel('categories (Fake, Real)')\n",
    "    plt.ylabel('number of images')\n",
    "    plt.show()\n",
    "    \n",
    "svm()\n",
    "\n"
   ]
  },
  {
   "cell_type": "code",
   "execution_count": 66,
   "id": "bf21b622",
   "metadata": {},
   "outputs": [
    {
     "name": "stdout",
     "output_type": "stream",
     "text": [
      "0.3157053333333334\n",
      "The model is 76.75% accurate\n",
      "[[321 279]\n",
      " [  0 600]]\n"
     ]
    },
    {
     "data": {
      "image/png": "[encoded data removed]",
      "text/plain": [
       "<Figure size 432x288 with 1 Axes>"
      ]
     },
     "metadata": {
      "needs_background": "light"
     },
     "output_type": "display_data"
    }
   ],
   "source": [
    "def rf():\n",
    "\n",
    "    train_data,train_labels=get_train_data()\n",
    "    test_data,test_labels=get_test_data()\n",
    "    val_data,val_labels=get_val_data()\n",
    "\n",
    "    train_data=train_data.reshape(train_data.shape[0],-1)\n",
    "    test_data=test_data.reshape(test_data.shape[0],-1)\n",
    "\n",
    "    rf = RandomForestRegressor(n_estimators=50,random_state = 33)\n",
    "    rf.fit(train_data, train_labels)\n",
    "    y_pred = rf.predict(test_data)\n",
    "    #print(y_pred)\n",
    "\n",
    "    for i in range(len(y_pred)):\n",
    "        y_pred[i]=round(y_pred[i])\n",
    "\n",
    "    #print(y_pred)\n",
    "\n",
    "    print(rf.score(test_data,test_labels))\n",
    "\n",
    "\n",
    "    print(f\"The model is {accuracy_score(y_pred,test_labels)*100}% accurate\")\n",
    "\n",
    "\n",
    "    matrix = confusion_matrix(test_labels, y_pred)\n",
    "    print(matrix)\n",
    "    data1=[]\n",
    "    data2=[]\n",
    "    for i in range(2):\n",
    "        total=0\n",
    "        for j in range(2):\n",
    "\n",
    "            if i==j:\n",
    "                data1.append(matrix[i][j])\n",
    "            elif matrix[i][j]>0:\n",
    "                total=total+matrix[i][j]\n",
    "        data2.append(total)\n",
    "\n",
    "    plt.bar(range(len(data1)), data1)\n",
    "    plt.bar(range(len(data2)), data2, bottom=data1)\n",
    "    plt.xlabel('categories (Fake, Real)')\n",
    "    plt.ylabel('number of images')\n",
    "    plt.show()\n",
    "    \n",
    "rf()\n",
    "\n"
   ]
  },
  {
   "cell_type": "code",
   "execution_count": null,
   "id": "b37395f9",
   "metadata": {},
   "outputs": [],
   "source": [
    "\n"
   ]
  },
  {
   "cell_type": "code",
   "execution_count": 78,
   "id": "2f994495",
   "metadata": {},
   "outputs": [
    {
     "data": {
      "image/png": "[encoded data removed]",
      "text/plain": [
       "<Figure size 720x360 with 1 Axes>"
      ]
     },
     "metadata": {
      "needs_background": "light"
     },
     "output_type": "display_data"
    }
   ],
   "source": [
    "#data = {'CNN':79.87, 'SVM':94.75, 'KNN':78.25, 'RF':83.37}\n",
    "data = {'CNN':83.99, 'SVM':75.83, 'KNN':57.83, 'RF':76.75}\n",
    "courses = list(data.keys())\n",
    "values = list(data.values())\n",
    "  \n",
    "fig = plt.figure(figsize = (10, 5))\n",
    " \n",
    "# creating the bar plot\n",
    "plt.bar(courses, values, color ='blue',\n",
    "        width = 0.4)\n",
    " \n",
    "plt.xlabel(\"ML Models\")\n",
    "plt.ylabel(\"Accuracy\")\n",
    "plt.title(\"Pneumonic chest x-ray images\")\n",
    "\n",
    "plt.show()"
   ]
  },
  {
   "cell_type": "code",
   "execution_count": null,
   "id": "42e933f4",
   "metadata": {},
   "outputs": [],
   "source": []
  }
 ],
 "metadata": {
  "kernelspec": {
   "display_name": "Python 3 (ipykernel)",
   "language": "python",
   "name": "python3"
  },
  "language_info": {
   "codemirror_mode": {
    "name": "ipython",
    "version": 3
   },
   "file_extension": ".py",
   "mimetype": "text/x-python",
   "name": "python",
   "nbconvert_exporter": "python",
   "pygments_lexer": "ipython3",
   "version": "3.9.7"
  }
 },
 "nbformat": 4,
 "nbformat_minor": 5
}
