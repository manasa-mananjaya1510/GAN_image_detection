{
 "cells": [
  {
   "cell_type": "markdown",
   "id": "37ec782d",
   "metadata": {},
   "source": [
    "# Resize real images to 64x64"
   ]
  },
  {
   "cell_type": "code",
   "execution_count": null,
   "id": "e02abb51",
   "metadata": {},
   "outputs": [],
   "source": [
    "from PIL import Image\n",
    "import os, sys\n",
    "\n",
    "#path = \"../project/data/normal/real_1300/\"\n",
    "path = \"../project/data/pneumonia/real_2000/\"\n",
    "\n",
    "dirs = os.listdir( path )\n",
    "\n",
    "def resize():\n",
    "    count=1\n",
    "    for item in dirs:\n",
    "        if os.path.isfile(path+item):\n",
    "            im = Image.open(path+item)\n",
    "            f, e = os.path.splitext(path+item)\n",
    "            imResize = im.resize((64,64), Image.ANTIALIAS)\n",
    "            \n",
    "            #save_folder='../project/data/normal/real_images/' +'real_nr_'\n",
    "            save_folder='../project/data/pneumonia/real_images/' +'real_nr_'\n",
    "            \n",
    "            imResize.save(save_folder+str(count)+'.jpeg', quality=90)\n",
    "            count=count+1\n",
    "            print(count)\n",
    "\n",
    "resize()"
   ]
  },
  {
   "cell_type": "markdown",
   "id": "cbf8b6b1",
   "metadata": {},
   "source": [
    "\n",
    "# Resize fake images to 64x64"
   ]
  },
  {
   "cell_type": "code",
   "execution_count": 3,
   "id": "a0dffe02",
   "metadata": {},
   "outputs": [
    {
     "name": "stderr",
     "output_type": "stream",
     "text": [
      "C:\\Users\\Manasa Mananjaya\\AppData\\Local\\Temp/ipykernel_28636/185496602.py:12: DeprecationWarning: ANTIALIAS is deprecated and will be removed in Pillow 10 (2023-07-01). Use Resampling.LANCZOS instead.\n",
      "  imResize = im.resize((64,64), Image.ANTIALIAS)\n"
     ]
    }
   ],
   "source": [
    "from PIL import Image\n",
    "import os\n",
    "\n",
    "path = \"../project/new_fake_images/\"\n",
    "dirs = os.listdir( path )\n",
    "\n",
    "def resize():\n",
    "        for item in dirs:\n",
    "            if os.path.isfile(path+item):\n",
    "            \n",
    "                im = Image.open(path+item)\n",
    "                imResize = im.resize((64,64), Image.ANTIALIAS)\n",
    "                save_folder=\"../project/data/normal/fake_images/\"\n",
    "                #save_folder=\"../project/data/pneumonia/fake_images/\"\n",
    "                imResize.save(save_folder+item, quality=90)\n",
    "                \n",
    "\n",
    "resize()"
   ]
  },
  {
   "cell_type": "code",
   "execution_count": null,
   "id": "97a3bc32",
   "metadata": {},
   "outputs": [],
   "source": []
  }
 ],
 "metadata": {
  "kernelspec": {
   "display_name": "Python 3",
   "language": "python",
   "name": "python3"
  },
  "language_info": {
   "codemirror_mode": {
    "name": "ipython",
    "version": 3
   },
   "file_extension": ".py",
   "mimetype": "text/x-python",
   "name": "python",
   "nbconvert_exporter": "python",
   "pygments_lexer": "ipython3",
   "version": "3.8.8"
  }
 },
 "nbformat": 4,
 "nbformat_minor": 5
}
