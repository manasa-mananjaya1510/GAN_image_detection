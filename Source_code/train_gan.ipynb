{
 "cells": [
  {
   "cell_type": "code",
   "execution_count": 1,
   "id": "43f672ec",
   "metadata": {},
   "outputs": [],
   "source": [
    "from __future__ import print_function\n",
    "#%matplotlib inline\n",
    "import argparse\n",
    "import datetime\n",
    "import os\n",
    "import os.path\n",
    "import random\n",
    "import torch\n",
    "import torch.nn as nn\n",
    "import torch.nn.parallel\n",
    "import torch.backends.cudnn as cudnn\n",
    "import torch.optim as optim\n",
    "import torch.utils.data\n",
    "import torchvision.datasets as datasets\n",
    "import torchvision.transforms as transforms\n",
    "import torchvision.utils as vutils\n",
    "from torchvision.utils import save_image\n",
    "from torch.utils.data import SubsetRandomSampler\n",
    "import numpy as np\n",
    "import matplotlib.pyplot as plt\n",
    "import matplotlib.animation as animation\n",
    "from IPython.display import HTML\n",
    "from IPython.display import clear_output\n",
    "from tqdm import tqdm\n",
    "from torchvision.utils import save_image\n",
    "import torch\n",
    "import torchvision\n",
    "from PIL import Image"
   ]
  },
  {
   "cell_type": "code",
   "execution_count": 2,
   "id": "fdd745fe",
   "metadata": {},
   "outputs": [],
   "source": [
    "device = torch.device('cuda' if torch.cuda.is_available() else 'cpu')\n",
    "batch_size = 32\n",
    "# Number of training epochs\n",
    "num_epochs = 500\n",
    "\n",
    "#All images will be resized to this size using a transformer.\n",
    "image_size = 64\n",
    "\n",
    "# Number of channels in the training images. For color images this is 3\n",
    "nc = 1\n",
    "\n",
    "# Size of z latent vector (i.e. size of generator input)\n",
    "nz = 100\n",
    "\n",
    "# Size of feature maps in generator\n",
    "ngf = 64\n",
    "\n",
    "# Size of feature maps in discriminator\n",
    "ndf = 64\n",
    "\n",
    "# Learning rate for optimizers\n",
    "lr = 0.002\n",
    "lr_d = 0.0002\n",
    "# Beta1 hyperparam for Adam optimizers\n",
    "beta1 = 0.5\n",
    "# Beta2 hyperparam for Adam optimizers\n",
    "beta2 = 0.999\n",
    "\n",
    "real_label = 1.\n",
    "fake_label = 0.\n",
    "# Input to generator\n",
    "fixed_noise = torch.randn(64, nz, 1, 1, device=device) #batch of 64\n",
    "# Define Loss function\n",
    "criterion = nn.BCELoss()"
   ]
  },
  {
   "cell_type": "code",
   "execution_count": 3,
   "id": "9b5a3a6f",
   "metadata": {},
   "outputs": [],
   "source": [
    "def weights_init(m):\n",
    "    classname = m.__class__.__name__\n",
    "    if classname.find('Conv') != -1:\n",
    "        nn.init.normal_(m.weight.data, 0.0, 0.02)\n",
    "    elif classname.find('BatchNorm') != -1:\n",
    "        nn.init.normal_(m.weight.data, 1.0, 0.02)\n",
    "        nn.init.constant_(m.bias.data, 0)"
   ]
  },
  {
   "cell_type": "code",
   "execution_count": 4,
   "id": "9e689be5",
   "metadata": {},
   "outputs": [],
   "source": [
    "class Generator(nn.Module):\n",
    "    def __init__(self):\n",
    "        super(Generator, self).__init__()\n",
    "        self.main = nn.Sequential(\n",
    "            # input is Z, going into a convolution\n",
    "            nn.ConvTranspose2d( nz, ngf * 8, 4, 1, 0, bias=False),\n",
    "            nn.BatchNorm2d(ngf * 8),\n",
    "            nn.ReLU(True),\n",
    "            # state size. (ngf*8) x 4 x 4\n",
    "            nn.ConvTranspose2d(ngf * 8, ngf * 4, 4, 2, 1, bias=False),\n",
    "            nn.BatchNorm2d(ngf * 4),\n",
    "            nn.ReLU(True),\n",
    "            # state size. (ngf*4) x 8 x 8\n",
    "            nn.ConvTranspose2d( ngf * 4, ngf * 2, 4, 2, 1, bias=False),\n",
    "            nn.BatchNorm2d(ngf * 2),\n",
    "            nn.ReLU(True),\n",
    "            # state size. (ngf*2) x 16 x 16\n",
    "            nn.ConvTranspose2d( ngf * 2, ngf, 4, 2, 1, bias=False),\n",
    "            nn.BatchNorm2d(ngf),\n",
    "            nn.ReLU(True),\n",
    "            # state size. (ngf) x 32 x 32\n",
    "            nn.ConvTranspose2d( ngf, nc, 4, 2, 1, bias=False),\n",
    "            nn.Tanh()\n",
    "            # state size. (nc) x 64 x 64\n",
    "        )\n",
    "\n",
    "    def forward(self, input):\n",
    "        return self.main(input)"
   ]
  },
  {
   "cell_type": "code",
   "execution_count": 5,
   "id": "c91b843f",
   "metadata": {},
   "outputs": [],
   "source": [
    "class Discriminator(nn.Module):\n",
    "    def __init__(self):\n",
    "        super(Discriminator, self).__init__()\n",
    "        self.main = nn.Sequential(\n",
    "            # input is (nc) x 64 x 64\n",
    "            nn.Conv2d(nc, ndf, 4, 2, 1, bias=False),\n",
    "            nn.LeakyReLU(0.2, inplace=True),\n",
    "            nn.Dropout(p=0.5),\n",
    "            # state size. (ndf) x 32 x 32\n",
    "            nn.Conv2d(ndf, ndf * 2, 4, 2, 1, bias=False),\n",
    "            nn.BatchNorm2d(ndf * 2),\n",
    "            nn.LeakyReLU(0.2, inplace=True),\n",
    "            # state size. (ndf*2) x 16 x 16\n",
    "            nn.Conv2d(ndf * 2, ndf * 4, 4, 2, 1, bias=False),\n",
    "            nn.BatchNorm2d(ndf * 4),\n",
    "            nn.LeakyReLU(0.2, inplace=True),\n",
    "            nn.Dropout(p=0.5),\n",
    "            # state size. (ndf*4) x 8 x 8\n",
    "            nn.Conv2d(ndf * 4, ndf * 8, 4, 2, 1, bias=False),\n",
    "            nn.BatchNorm2d(ndf * 8),\n",
    "            nn.Dropout(p=0.25),\n",
    "            nn.LeakyReLU(0.2, inplace=True),\n",
    "            # state size. (ndf*8) x 4 x 4\n",
    "            nn.Conv2d(ndf * 8, 1, 4, 1, 0, bias=False),\n",
    "            nn.Sigmoid()\n",
    "        )\n",
    "\n",
    "    def forward(self, input):\n",
    "        return self.main(input)"
   ]
  },
  {
   "cell_type": "code",
   "execution_count": 6,
   "id": "2e92e2de",
   "metadata": {},
   "outputs": [],
   "source": [
    "def plot(name, train_epoch, values, path, save):\n",
    "    clear_output(wait=True)\n",
    "    plt.close('all')\n",
    "    fig = plt.figure()\n",
    "    fig = plt.ion()\n",
    "    fig = plt.subplot(1, 1, 1)\n",
    "    fig = plt.title('epoch: %s -> %s: %s' % (train_epoch, name, values[-1]))\n",
    "    fig = plt.ylabel(name)\n",
    "    fig = plt.xlabel('train_set')\n",
    "    fig = plt.plot(values)\n",
    "    fig = plt.grid()\n",
    "    get_fig = plt.gcf()\n",
    "    fig = plt.draw()  # draw the plot\n",
    "    fig = plt.pause(1)  # show it for 1 second\n",
    "    if save:\n",
    "        now = datetime.datetime.now()\n",
    "        get_fig.savefig('%s/%s_%.3f_%d_%s.png' %\n",
    "                        (path, name, train_epoch, values[-1], now.strftime(\"%Y-%m-%d_%H:%M:%S\")))"
   ]
  },
  {
   "cell_type": "code",
   "execution_count": 7,
   "id": "46267a4c",
   "metadata": {},
   "outputs": [],
   "source": [
    "def save_model(generator, discriminator, gen_optimizer, dis_optimizer, metrics, num_epochs):\n",
    "    now = datetime.datetime.now()\n",
    "    g_losses = metrics['train.G_losses'][-1]\n",
    "    d_losses = metrics['train.D_losses'][-1]\n",
    "    \n",
    "    fn='../project/model/model_n.dat'\n",
    "    #fn='../project/model/model_n.dat'\n",
    "    file_n='model_n.dat'\n",
    "    #file_n='model_p.dat'\n",
    "    \n",
    "    f=open(fn,'w')\n",
    "    \n",
    "    fname = os.path.join('../project/model/',file_n )\n",
    "    \n",
    "    \n",
    "    states = {\n",
    "            'state_dict_generator': generator.state_dict(),\n",
    "            'state_dict_discriminator': discriminator.state_dict(),\n",
    "            'gen_optimizer': gen_optimizer.state_dict(),\n",
    "            'dis_optimizer': dis_optimizer.state_dict(),\n",
    "            'metrics': metrics,\n",
    "            'train_epoch': num_epochs,\n",
    "            'date': now.strftime(\"%Y-%m-%d_%H:%M:%S\"),\n",
    "    }\n",
    "    torch.save(states, fname)\n",
    "    "
   ]
  },
  {
   "cell_type": "code",
   "execution_count": 8,
   "id": "13881298",
   "metadata": {},
   "outputs": [],
   "source": [
    "img_list = []\n",
    "G_losses = []\n",
    "D_losses = []\n",
    "\n",
    "def train_gan(generator, discriminator, gen_optimizer, dis_optimizer, train_loader, num_epochs, metrics):\n",
    "        iters = 0\n",
    "        print(\"GAN training started :D...\")\n",
    "\n",
    "        for epoch in range(num_epochs):\n",
    "            print(\"Epoch %d\" %(epoch+1))\n",
    "            # For each batch in the dataloader\n",
    "            for i, data in enumerate(tqdm(train_loader, 0)):\n",
    "                # (1) Update D network: maximize log(D(x)) + log(1 - D(G(z)))\n",
    "                ## Train with all-real batch\n",
    "                discriminator.zero_grad()\n",
    "                # Format batch\n",
    "                b_real = data[0].to(device)\n",
    "                b_size = b_real.size(0)\n",
    "                label = torch.full((b_size,), real_label, device=device)\n",
    "                # Forward pass real batch through D\n",
    "                output = discriminator(b_real).view(-1)\n",
    "                # Calculate loss on all-real batch\n",
    "                errD_real = criterion(output, label)\n",
    "                # Calculate gradients for D in backward pass\n",
    "                errD_real.backward()\n",
    "                D_x = output.mean().item()\n",
    "                metrics['train.D_x'].append(D_x)\n",
    "\n",
    "                ## Train with all-fake batch\n",
    "                # Generate batch of latent vectors\n",
    "                noise = torch.randn(b_size, nz, 1, 1, device=device)\n",
    "                # Generate fake image batch with G\n",
    "                fake = generator(noise)\n",
    "                label.fill_(fake_label)\n",
    "                # Classify all fake batch with D\n",
    "                output = discriminator(fake.detach()).view(-1)\n",
    "                # Calculate D's loss on the all-fake batch\n",
    "                errD_fake = criterion(output, label)\n",
    "                # Calculate the gradients for this batch\n",
    "                errD_fake.backward()\n",
    "                D_G_z1 = output.mean().item()\n",
    "                metrics['train.D_G_z1'].append(D_G_z1)\n",
    "                # Add the gradients from the all-real and all-fake batches\n",
    "                errD = errD_real + errD_fake\n",
    "                # Update D\n",
    "                dis_optimizer.step()\n",
    "                # if i>0:\n",
    "                #     if errD.item()>G_losses[i-1]:\n",
    "                #         dis_optimizer.step()\n",
    "                # else:\n",
    "                #     dis_optimizer.step()\n",
    "\n",
    "                # (2) Update G network: maximize log(D(G(z)))\n",
    "                generator.zero_grad()\n",
    "                label.fill_(real_label)  # fake labels are real for generator cost\n",
    "                # Since we just updated D, perform another forward pass of all-fake batch through D\n",
    "                output = discriminator(fake).view(-1)\n",
    "                # Calculate G's loss based on this output\n",
    "                errG = criterion(output, label)\n",
    "                # Calculate gradients for G\n",
    "                errG.backward()\n",
    "                D_G_z2 = output.mean().item()\n",
    "                metrics['train.D_G_z2'].append(D_G_z2)\n",
    "                # Update G\n",
    "                gen_optimizer.step()\n",
    "\n",
    "                # Save Losses for plotting later\n",
    "                G_losses.append(errG.item())\n",
    "                D_losses.append(errD.item())\n",
    "                metrics['train.G_losses'].append(errG.item())\n",
    "                metrics['train.D_losses'].append(errD.item())\n",
    "\n",
    "                # Check how the generator is doing by saving G's output on fixed_noise\n",
    "                if (iters % 500 == 0) or ((epoch == num_epochs-1) and (i == len(train_loader)-1)):\n",
    "                    with torch.no_grad():\n",
    "                        fake = generator(fixed_noise).detach().cpu()\n",
    "                    img_list.append(vutils.make_grid(fake, padding=2, normalize=True))\n",
    "\n",
    "                iters += 1\n",
    "            print('[%d/%d][%d/%d]\\tLoss_D: %.4f\\tLoss_G: %.4f\\tD(x): %.4f\\tD(G(z)): %.4f / %.4f'\n",
    "                  % (epoch+1, num_epochs, i, len(train_loader),\n",
    "                    errD.item(), errG.item(), D_x, D_G_z1, D_G_z2))\n",
    "        save_model(generator, discriminator, gen_optimizer, dis_optimizer, metrics, num_epochs)"
   ]
  },
  {
   "cell_type": "code",
   "execution_count": 9,
   "id": "8d97f3eb",
   "metadata": {},
   "outputs": [
    {
     "name": "stdout",
     "output_type": "stream",
     "text": [
      "GAN training started :D...\n",
      "Epoch 1\n"
     ]
    },
    {
     "name": "stderr",
     "output_type": "stream",
     "text": [
      "100%|██████████████████████████████████████████████████████████████████████████████████| 16/16 [00:37<00:00,  2.32s/it]\n"
     ]
    },
    {
     "name": "stdout",
     "output_type": "stream",
     "text": [
      "[1/500][15/16]\tLoss_D: 0.6278\tLoss_G: 6.3597\tD(x): 0.9852\tD(G(z)): 0.3734 / 0.0061\n",
      "Epoch 2\n"
     ]
    },
    {
     "name": "stderr",
     "output_type": "stream",
     "text": [
      "100%|██████████████████████████████████████████████████████████████████████████████████| 16/16 [00:31<00:00,  1.98s/it]\n"
     ]
    },
    {
     "name": "stdout",
     "output_type": "stream",
     "text": [
      "[2/500][15/16]\tLoss_D: 1.5773\tLoss_G: 2.8525\tD(x): 0.7040\tD(G(z)): 0.2917 / 0.2614\n",
      "Epoch 3\n"
     ]
    },
    {
     "name": "stderr",
     "output_type": "stream",
     "text": [
      "100%|██████████████████████████████████████████████████████████████████████████████████| 16/16 [00:32<00:00,  2.01s/it]\n"
     ]
    },
    {
     "name": "stdout",
     "output_type": "stream",
     "text": [
      "[3/500][15/16]\tLoss_D: 3.1961\tLoss_G: 3.5136\tD(x): 0.5697\tD(G(z)): 0.8567 / 0.0725\n",
      "Epoch 4\n"
     ]
    },
    {
     "name": "stderr",
     "output_type": "stream",
     "text": [
      "100%|██████████████████████████████████████████████████████████████████████████████████| 16/16 [00:30<00:00,  1.93s/it]\n"
     ]
    },
    {
     "name": "stdout",
     "output_type": "stream",
     "text": [
      "[4/500][15/16]\tLoss_D: 2.4396\tLoss_G: 2.1810\tD(x): 0.4766\tD(G(z)): 0.6460 / 0.1796\n",
      "Epoch 5\n"
     ]
    },
    {
     "name": "stderr",
     "output_type": "stream",
     "text": [
      "100%|██████████████████████████████████████████████████████████████████████████████████| 16/16 [00:30<00:00,  1.88s/it]\n"
     ]
    },
    {
     "name": "stdout",
     "output_type": "stream",
     "text": [
      "[5/500][15/16]\tLoss_D: 1.9335\tLoss_G: 2.1791\tD(x): 0.4590\tD(G(z)): 0.4839 / 0.1672\n",
      "Epoch 6\n"
     ]
    },
    {
     "name": "stderr",
     "output_type": "stream",
     "text": [
      "100%|██████████████████████████████████████████████████████████████████████████████████| 16/16 [00:31<00:00,  1.97s/it]\n"
     ]
    },
    {
     "name": "stdout",
     "output_type": "stream",
     "text": [
      "[6/500][15/16]\tLoss_D: 2.9298\tLoss_G: 1.5052\tD(x): 0.3206\tD(G(z)): 0.6462 / 0.2884\n",
      "Epoch 7\n"
     ]
    },
    {
     "name": "stderr",
     "output_type": "stream",
     "text": [
      "100%|██████████████████████████████████████████████████████████████████████████████████| 16/16 [00:29<00:00,  1.85s/it]\n"
     ]
    },
    {
     "name": "stdout",
     "output_type": "stream",
     "text": [
      "[7/500][15/16]\tLoss_D: 1.9629\tLoss_G: 1.6046\tD(x): 0.5129\tD(G(z)): 0.6020 / 0.2854\n",
      "Epoch 8\n"
     ]
    },
    {
     "name": "stderr",
     "output_type": "stream",
     "text": [
      "100%|██████████████████████████████████████████████████████████████████████████████████| 16/16 [00:31<00:00,  1.94s/it]\n"
     ]
    },
    {
     "name": "stdout",
     "output_type": "stream",
     "text": [
      "[8/500][15/16]\tLoss_D: 2.4079\tLoss_G: 2.7131\tD(x): 0.5698\tD(G(z)): 0.6838 / 0.1047\n",
      "Epoch 9\n"
     ]
    },
    {
     "name": "stderr",
     "output_type": "stream",
     "text": [
      "100%|██████████████████████████████████████████████████████████████████████████████████| 16/16 [00:31<00:00,  1.95s/it]\n"
     ]
    },
    {
     "name": "stdout",
     "output_type": "stream",
     "text": [
      "[9/500][15/16]\tLoss_D: 2.3966\tLoss_G: 2.2293\tD(x): 0.3503\tD(G(z)): 0.5433 / 0.1795\n",
      "Epoch 10\n"
     ]
    },
    {
     "name": "stderr",
     "output_type": "stream",
     "text": [
      "100%|██████████████████████████████████████████████████████████████████████████████████| 16/16 [00:30<00:00,  1.94s/it]\n"
     ]
    },
    {
     "name": "stdout",
     "output_type": "stream",
     "text": [
      "[10/500][15/16]\tLoss_D: 1.8881\tLoss_G: 2.7143\tD(x): 0.4794\tD(G(z)): 0.5548 / 0.0977\n",
      "Epoch 11\n"
     ]
    },
    {
     "name": "stderr",
     "output_type": "stream",
     "text": [
      "100%|██████████████████████████████████████████████████████████████████████████████████| 16/16 [00:31<00:00,  1.96s/it]\n"
     ]
    },
    {
     "name": "stdout",
     "output_type": "stream",
     "text": [
      "[11/500][15/16]\tLoss_D: 2.7707\tLoss_G: 1.5295\tD(x): 0.2661\tD(G(z)): 0.5363 / 0.3146\n",
      "Epoch 12\n"
     ]
    },
    {
     "name": "stderr",
     "output_type": "stream",
     "text": [
      "100%|██████████████████████████████████████████████████████████████████████████████████| 16/16 [00:32<00:00,  2.02s/it]\n"
     ]
    },
    {
     "name": "stdout",
     "output_type": "stream",
     "text": [
      "[12/500][15/16]\tLoss_D: 1.7037\tLoss_G: 2.4783\tD(x): 0.5664\tD(G(z)): 0.5238 / 0.1187\n",
      "Epoch 13\n"
     ]
    },
    {
     "name": "stderr",
     "output_type": "stream",
     "text": [
      "100%|██████████████████████████████████████████████████████████████████████████████████| 16/16 [00:30<00:00,  1.91s/it]\n"
     ]
    },
    {
     "name": "stdout",
     "output_type": "stream",
     "text": [
      "[13/500][15/16]\tLoss_D: 2.5368\tLoss_G: 1.3852\tD(x): 0.2397\tD(G(z)): 0.4243 / 0.3200\n",
      "Epoch 14\n"
     ]
    },
    {
     "name": "stderr",
     "output_type": "stream",
     "text": [
      "100%|██████████████████████████████████████████████████████████████████████████████████| 16/16 [00:29<00:00,  1.86s/it]\n"
     ]
    },
    {
     "name": "stdout",
     "output_type": "stream",
     "text": [
      "[14/500][15/16]\tLoss_D: 1.9070\tLoss_G: 1.7918\tD(x): 0.4715\tD(G(z)): 0.5762 / 0.2385\n",
      "Epoch 15\n"
     ]
    },
    {
     "name": "stderr",
     "output_type": "stream",
     "text": [
      "100%|██████████████████████████████████████████████████████████████████████████████████| 16/16 [00:30<00:00,  1.91s/it]\n"
     ]
    },
    {
     "name": "stdout",
     "output_type": "stream",
     "text": [
      "[15/500][15/16]\tLoss_D: 1.6747\tLoss_G: 2.8312\tD(x): 0.5530\tD(G(z)): 0.5499 / 0.0874\n",
      "Epoch 16\n"
     ]
    },
    {
     "name": "stderr",
     "output_type": "stream",
     "text": [
      "100%|██████████████████████████████████████████████████████████████████████████████████| 16/16 [00:32<00:00,  2.01s/it]\n"
     ]
    },
    {
     "name": "stdout",
     "output_type": "stream",
     "text": [
      "[16/500][15/16]\tLoss_D: 1.8386\tLoss_G: 1.6442\tD(x): 0.3654\tD(G(z)): 0.4206 / 0.2673\n",
      "Epoch 17\n"
     ]
    },
    {
     "name": "stderr",
     "output_type": "stream",
     "text": [
      "100%|██████████████████████████████████████████████████████████████████████████████████| 16/16 [00:31<00:00,  1.94s/it]\n"
     ]
    },
    {
     "name": "stdout",
     "output_type": "stream",
     "text": [
      "[17/500][15/16]\tLoss_D: 1.4689\tLoss_G: 2.7704\tD(x): 0.5906\tD(G(z)): 0.4461 / 0.1059\n",
      "Epoch 18\n"
     ]
    },
    {
     "name": "stderr",
     "output_type": "stream",
     "text": [
      "100%|██████████████████████████████████████████████████████████████████████████████████| 16/16 [00:31<00:00,  1.95s/it]\n"
     ]
    },
    {
     "name": "stdout",
     "output_type": "stream",
     "text": [
      "[18/500][15/16]\tLoss_D: 1.7918\tLoss_G: 2.1218\tD(x): 0.4958\tD(G(z)): 0.5181 / 0.1652\n",
      "Epoch 19\n"
     ]
    },
    {
     "name": "stderr",
     "output_type": "stream",
     "text": [
      "100%|██████████████████████████████████████████████████████████████████████████████████| 16/16 [00:31<00:00,  1.96s/it]\n"
     ]
    },
    {
     "name": "stdout",
     "output_type": "stream",
     "text": [
      "[19/500][15/16]\tLoss_D: 1.4701\tLoss_G: 3.2850\tD(x): 0.6537\tD(G(z)): 0.5225 / 0.0525\n",
      "Epoch 20\n"
     ]
    },
    {
     "name": "stderr",
     "output_type": "stream",
     "text": [
      "100%|██████████████████████████████████████████████████████████████████████████████████| 16/16 [00:31<00:00,  1.99s/it]\n"
     ]
    },
    {
     "name": "stdout",
     "output_type": "stream",
     "text": [
      "[20/500][15/16]\tLoss_D: 1.6788\tLoss_G: 2.4543\tD(x): 0.4771\tD(G(z)): 0.3371 / 0.1187\n",
      "Epoch 21\n"
     ]
    },
    {
     "name": "stderr",
     "output_type": "stream",
     "text": [
      "100%|██████████████████████████████████████████████████████████████████████████████████| 16/16 [00:30<00:00,  1.90s/it]\n"
     ]
    },
    {
     "name": "stdout",
     "output_type": "stream",
     "text": [
      "[21/500][15/16]\tLoss_D: 0.9271\tLoss_G: 2.5262\tD(x): 0.7278\tD(G(z)): 0.3798 / 0.1023\n",
      "Epoch 22\n"
     ]
    },
    {
     "name": "stderr",
     "output_type": "stream",
     "text": [
      "100%|██████████████████████████████████████████████████████████████████████████████████| 16/16 [00:31<00:00,  1.97s/it]\n"
     ]
    },
    {
     "name": "stdout",
     "output_type": "stream",
     "text": [
      "[22/500][15/16]\tLoss_D: 1.1433\tLoss_G: 3.3612\tD(x): 0.7474\tD(G(z)): 0.5174 / 0.0635\n",
      "Epoch 23\n"
     ]
    },
    {
     "name": "stderr",
     "output_type": "stream",
     "text": [
      "100%|██████████████████████████████████████████████████████████████████████████████████| 16/16 [00:31<00:00,  1.95s/it]\n"
     ]
    },
    {
     "name": "stdout",
     "output_type": "stream",
     "text": [
      "[23/500][15/16]\tLoss_D: 0.8701\tLoss_G: 2.8569\tD(x): 0.7361\tD(G(z)): 0.3693 / 0.0852\n",
      "Epoch 24\n"
     ]
    },
    {
     "name": "stderr",
     "output_type": "stream",
     "text": [
      "100%|██████████████████████████████████████████████████████████████████████████████████| 16/16 [00:31<00:00,  1.96s/it]\n"
     ]
    },
    {
     "name": "stdout",
     "output_type": "stream",
     "text": [
      "[24/500][15/16]\tLoss_D: 1.0161\tLoss_G: 2.7822\tD(x): 0.6572\tD(G(z)): 0.2968 / 0.1097\n",
      "Epoch 25\n"
     ]
    },
    {
     "name": "stderr",
     "output_type": "stream",
     "text": [
      "100%|██████████████████████████████████████████████████████████████████████████████████| 16/16 [00:31<00:00,  1.98s/it]\n"
     ]
    },
    {
     "name": "stdout",
     "output_type": "stream",
     "text": [
      "[25/500][15/16]\tLoss_D: 1.2816\tLoss_G: 1.2874\tD(x): 0.4524\tD(G(z)): 0.2881 / 0.3554\n",
      "Epoch 26\n"
     ]
    },
    {
     "name": "stderr",
     "output_type": "stream",
     "text": [
      "100%|██████████████████████████████████████████████████████████████████████████████████| 16/16 [00:31<00:00,  1.96s/it]\n"
     ]
    },
    {
     "name": "stdout",
     "output_type": "stream",
     "text": [
      "[26/500][15/16]\tLoss_D: 2.1633\tLoss_G: 1.2706\tD(x): 0.4108\tD(G(z)): 0.5914 / 0.3256\n",
      "Epoch 27\n"
     ]
    },
    {
     "name": "stderr",
     "output_type": "stream",
     "text": [
      "100%|██████████████████████████████████████████████████████████████████████████████████| 16/16 [00:31<00:00,  1.97s/it]\n"
     ]
    },
    {
     "name": "stdout",
     "output_type": "stream",
     "text": [
      "[27/500][15/16]\tLoss_D: 1.4094\tLoss_G: 1.4916\tD(x): 0.5134\tD(G(z)): 0.4317 / 0.2866\n",
      "Epoch 28\n"
     ]
    },
    {
     "name": "stderr",
     "output_type": "stream",
     "text": [
      "100%|██████████████████████████████████████████████████████████████████████████████████| 16/16 [00:31<00:00,  1.99s/it]\n"
     ]
    },
    {
     "name": "stdout",
     "output_type": "stream",
     "text": [
      "[28/500][15/16]\tLoss_D: 1.4136\tLoss_G: 1.2365\tD(x): 0.4648\tD(G(z)): 0.3153 / 0.3258\n",
      "Epoch 29\n"
     ]
    },
    {
     "name": "stderr",
     "output_type": "stream",
     "text": [
      "100%|██████████████████████████████████████████████████████████████████████████████████| 16/16 [00:31<00:00,  1.94s/it]\n"
     ]
    },
    {
     "name": "stdout",
     "output_type": "stream",
     "text": [
      "[29/500][15/16]\tLoss_D: 1.4768\tLoss_G: 1.1053\tD(x): 0.4660\tD(G(z)): 0.3887 / 0.3946\n",
      "Epoch 30\n"
     ]
    },
    {
     "name": "stderr",
     "output_type": "stream",
     "text": [
      "100%|██████████████████████████████████████████████████████████████████████████████████| 16/16 [00:31<00:00,  1.94s/it]\n"
     ]
    },
    {
     "name": "stdout",
     "output_type": "stream",
     "text": [
      "[30/500][15/16]\tLoss_D: 1.6209\tLoss_G: 1.3847\tD(x): 0.5358\tD(G(z)): 0.5423 / 0.2793\n",
      "Epoch 31\n"
     ]
    },
    {
     "name": "stderr",
     "output_type": "stream",
     "text": [
      "100%|██████████████████████████████████████████████████████████████████████████████████| 16/16 [00:31<00:00,  1.99s/it]\n"
     ]
    },
    {
     "name": "stdout",
     "output_type": "stream",
     "text": [
      "[31/500][15/16]\tLoss_D: 1.6107\tLoss_G: 1.6019\tD(x): 0.5098\tD(G(z)): 0.4960 / 0.2341\n",
      "Epoch 32\n"
     ]
    },
    {
     "name": "stderr",
     "output_type": "stream",
     "text": [
      "100%|██████████████████████████████████████████████████████████████████████████████████| 16/16 [00:31<00:00,  1.96s/it]\n"
     ]
    },
    {
     "name": "stdout",
     "output_type": "stream",
     "text": [
      "[32/500][15/16]\tLoss_D: 1.4447\tLoss_G: 1.2184\tD(x): 0.5524\tD(G(z)): 0.4828 / 0.3417\n",
      "Epoch 33\n"
     ]
    },
    {
     "name": "stderr",
     "output_type": "stream",
     "text": [
      "100%|██████████████████████████████████████████████████████████████████████████████████| 16/16 [00:30<00:00,  1.92s/it]\n"
     ]
    },
    {
     "name": "stdout",
     "output_type": "stream",
     "text": [
      "[33/500][15/16]\tLoss_D: 1.3414\tLoss_G: 1.4858\tD(x): 0.5445\tD(G(z)): 0.4437 / 0.2877\n",
      "Epoch 34\n"
     ]
    },
    {
     "name": "stderr",
     "output_type": "stream",
     "text": [
      "100%|██████████████████████████████████████████████████████████████████████████████████| 16/16 [00:30<00:00,  1.92s/it]\n"
     ]
    },
    {
     "name": "stdout",
     "output_type": "stream",
     "text": [
      "[34/500][15/16]\tLoss_D: 1.4160\tLoss_G: 0.9620\tD(x): 0.4475\tD(G(z)): 0.3816 / 0.4049\n",
      "Epoch 35\n"
     ]
    },
    {
     "name": "stderr",
     "output_type": "stream",
     "text": [
      "100%|██████████████████████████████████████████████████████████████████████████████████| 16/16 [00:31<00:00,  1.97s/it]\n"
     ]
    },
    {
     "name": "stdout",
     "output_type": "stream",
     "text": [
      "[35/500][15/16]\tLoss_D: 1.1556\tLoss_G: 1.3824\tD(x): 0.6176\tD(G(z)): 0.4284 / 0.2886\n",
      "Epoch 36\n"
     ]
    },
    {
     "name": "stderr",
     "output_type": "stream",
     "text": [
      "100%|██████████████████████████████████████████████████████████████████████████████████| 16/16 [00:31<00:00,  1.98s/it]\n"
     ]
    },
    {
     "name": "stdout",
     "output_type": "stream",
     "text": [
      "[36/500][15/16]\tLoss_D: 1.4850\tLoss_G: 1.0069\tD(x): 0.6120\tD(G(z)): 0.5630 / 0.4021\n",
      "Epoch 37\n"
     ]
    },
    {
     "name": "stderr",
     "output_type": "stream",
     "text": [
      "100%|██████████████████████████████████████████████████████████████████████████████████| 16/16 [00:32<00:00,  2.01s/it]\n"
     ]
    },
    {
     "name": "stdout",
     "output_type": "stream",
     "text": [
      "[37/500][15/16]\tLoss_D: 1.4492\tLoss_G: 1.6857\tD(x): 0.6492\tD(G(z)): 0.5668 / 0.2286\n",
      "Epoch 38\n"
     ]
    },
    {
     "name": "stderr",
     "output_type": "stream",
     "text": [
      "100%|██████████████████████████████████████████████████████████████████████████████████| 16/16 [00:31<00:00,  1.94s/it]\n"
     ]
    },
    {
     "name": "stdout",
     "output_type": "stream",
     "text": [
      "[38/500][15/16]\tLoss_D: 1.4267\tLoss_G: 1.0695\tD(x): 0.5443\tD(G(z)): 0.4734 / 0.3720\n",
      "Epoch 39\n"
     ]
    },
    {
     "name": "stderr",
     "output_type": "stream",
     "text": [
      "100%|██████████████████████████████████████████████████████████████████████████████████| 16/16 [00:31<00:00,  1.96s/it]\n"
     ]
    },
    {
     "name": "stdout",
     "output_type": "stream",
     "text": [
      "[39/500][15/16]\tLoss_D: 1.2507\tLoss_G: 1.2974\tD(x): 0.6087\tD(G(z)): 0.4572 / 0.3149\n",
      "Epoch 40\n"
     ]
    },
    {
     "name": "stderr",
     "output_type": "stream",
     "text": [
      "100%|██████████████████████████████████████████████████████████████████████████████████| 16/16 [00:31<00:00,  1.96s/it]\n"
     ]
    },
    {
     "name": "stdout",
     "output_type": "stream",
     "text": [
      "[40/500][15/16]\tLoss_D: 1.3721\tLoss_G: 1.1838\tD(x): 0.5405\tD(G(z)): 0.4707 / 0.3449\n",
      "Epoch 41\n"
     ]
    },
    {
     "name": "stderr",
     "output_type": "stream",
     "text": [
      "100%|██████████████████████████████████████████████████████████████████████████████████| 16/16 [00:30<00:00,  1.92s/it]\n"
     ]
    },
    {
     "name": "stdout",
     "output_type": "stream",
     "text": [
      "[41/500][15/16]\tLoss_D: 1.6051\tLoss_G: 1.0827\tD(x): 0.4928\tD(G(z)): 0.5426 / 0.3817\n",
      "Epoch 42\n"
     ]
    },
    {
     "name": "stderr",
     "output_type": "stream",
     "text": [
      "100%|██████████████████████████████████████████████████████████████████████████████████| 16/16 [00:31<00:00,  1.96s/it]\n"
     ]
    },
    {
     "name": "stdout",
     "output_type": "stream",
     "text": [
      "[42/500][15/16]\tLoss_D: 1.5002\tLoss_G: 0.8450\tD(x): 0.4885\tD(G(z)): 0.4677 / 0.4646\n",
      "Epoch 43\n"
     ]
    },
    {
     "name": "stderr",
     "output_type": "stream",
     "text": [
      "100%|██████████████████████████████████████████████████████████████████████████████████| 16/16 [00:31<00:00,  1.98s/it]\n"
     ]
    },
    {
     "name": "stdout",
     "output_type": "stream",
     "text": [
      "[43/500][15/16]\tLoss_D: 1.6062\tLoss_G: 1.0358\tD(x): 0.5121\tD(G(z)): 0.5371 / 0.4054\n",
      "Epoch 44\n"
     ]
    },
    {
     "name": "stderr",
     "output_type": "stream",
     "text": [
      "100%|██████████████████████████████████████████████████████████████████████████████████| 16/16 [00:30<00:00,  1.93s/it]\n"
     ]
    },
    {
     "name": "stdout",
     "output_type": "stream",
     "text": [
      "[44/500][15/16]\tLoss_D: 1.5899\tLoss_G: 1.1250\tD(x): 0.4700\tD(G(z)): 0.4904 / 0.3536\n",
      "Epoch 45\n"
     ]
    },
    {
     "name": "stderr",
     "output_type": "stream",
     "text": [
      "100%|██████████████████████████████████████████████████████████████████████████████████| 16/16 [00:30<00:00,  1.89s/it]\n"
     ]
    },
    {
     "name": "stdout",
     "output_type": "stream",
     "text": [
      "[45/500][15/16]\tLoss_D: 1.5145\tLoss_G: 0.8066\tD(x): 0.4208\tD(G(z)): 0.3974 / 0.4714\n",
      "Epoch 46\n"
     ]
    },
    {
     "name": "stderr",
     "output_type": "stream",
     "text": [
      "100%|██████████████████████████████████████████████████████████████████████████████████| 16/16 [00:27<00:00,  1.74s/it]\n"
     ]
    },
    {
     "name": "stdout",
     "output_type": "stream",
     "text": [
      "[46/500][15/16]\tLoss_D: 1.9582\tLoss_G: 1.1349\tD(x): 0.4920\tD(G(z)): 0.6480 / 0.3621\n",
      "Epoch 47\n"
     ]
    },
    {
     "name": "stderr",
     "output_type": "stream",
     "text": [
      "100%|██████████████████████████████████████████████████████████████████████████████████| 16/16 [00:28<00:00,  1.80s/it]\n"
     ]
    },
    {
     "name": "stdout",
     "output_type": "stream",
     "text": [
      "[47/500][15/16]\tLoss_D: 1.2928\tLoss_G: 0.9423\tD(x): 0.5800\tD(G(z)): 0.4653 / 0.4141\n",
      "Epoch 48\n"
     ]
    },
    {
     "name": "stderr",
     "output_type": "stream",
     "text": [
      "100%|██████████████████████████████████████████████████████████████████████████████████| 16/16 [00:29<00:00,  1.85s/it]\n"
     ]
    },
    {
     "name": "stdout",
     "output_type": "stream",
     "text": [
      "[48/500][15/16]\tLoss_D: 1.5550\tLoss_G: 0.9442\tD(x): 0.4133\tD(G(z)): 0.4274 / 0.4125\n",
      "Epoch 49\n"
     ]
    },
    {
     "name": "stderr",
     "output_type": "stream",
     "text": [
      "100%|██████████████████████████████████████████████████████████████████████████████████| 16/16 [00:28<00:00,  1.77s/it]\n"
     ]
    },
    {
     "name": "stdout",
     "output_type": "stream",
     "text": [
      "[49/500][15/16]\tLoss_D: 1.5145\tLoss_G: 0.9437\tD(x): 0.4300\tD(G(z)): 0.4182 / 0.4065\n",
      "Epoch 50\n"
     ]
    },
    {
     "name": "stderr",
     "output_type": "stream",
     "text": [
      "100%|██████████████████████████████████████████████████████████████████████████████████| 16/16 [00:29<00:00,  1.87s/it]\n"
     ]
    },
    {
     "name": "stdout",
     "output_type": "stream",
     "text": [
      "[50/500][15/16]\tLoss_D: 1.4264\tLoss_G: 0.9029\tD(x): 0.4817\tD(G(z)): 0.4525 / 0.4295\n",
      "Epoch 51\n"
     ]
    },
    {
     "name": "stderr",
     "output_type": "stream",
     "text": [
      "100%|██████████████████████████████████████████████████████████████████████████████████| 16/16 [00:29<00:00,  1.85s/it]\n"
     ]
    },
    {
     "name": "stdout",
     "output_type": "stream",
     "text": [
      "[51/500][15/16]\tLoss_D: 1.2728\tLoss_G: 1.0430\tD(x): 0.6158\tD(G(z)): 0.5021 / 0.3803\n",
      "Epoch 52\n"
     ]
    },
    {
     "name": "stderr",
     "output_type": "stream",
     "text": [
      "100%|██████████████████████████████████████████████████████████████████████████████████| 16/16 [00:29<00:00,  1.87s/it]\n"
     ]
    },
    {
     "name": "stdout",
     "output_type": "stream",
     "text": [
      "[52/500][15/16]\tLoss_D: 1.3641\tLoss_G: 1.0733\tD(x): 0.5368\tD(G(z)): 0.4885 / 0.3737\n",
      "Epoch 53\n"
     ]
    },
    {
     "name": "stderr",
     "output_type": "stream",
     "text": [
      "100%|██████████████████████████████████████████████████████████████████████████████████| 16/16 [00:29<00:00,  1.84s/it]\n"
     ]
    },
    {
     "name": "stdout",
     "output_type": "stream",
     "text": [
      "[53/500][15/16]\tLoss_D: 1.5169\tLoss_G: 0.6864\tD(x): 0.4660\tD(G(z)): 0.4928 / 0.5234\n",
      "Epoch 54\n"
     ]
    },
    {
     "name": "stderr",
     "output_type": "stream",
     "text": [
      "100%|██████████████████████████████████████████████████████████████████████████████████| 16/16 [00:30<00:00,  1.88s/it]\n"
     ]
    },
    {
     "name": "stdout",
     "output_type": "stream",
     "text": [
      "[54/500][15/16]\tLoss_D: 1.4426\tLoss_G: 0.7771\tD(x): 0.4869\tD(G(z)): 0.4722 / 0.4873\n",
      "Epoch 55\n"
     ]
    },
    {
     "name": "stderr",
     "output_type": "stream",
     "text": [
      "100%|██████████████████████████████████████████████████████████████████████████████████| 16/16 [00:31<00:00,  1.99s/it]\n"
     ]
    },
    {
     "name": "stdout",
     "output_type": "stream",
     "text": [
      "[55/500][15/16]\tLoss_D: 1.5413\tLoss_G: 0.7999\tD(x): 0.4078\tD(G(z)): 0.4152 / 0.4699\n",
      "Epoch 56\n"
     ]
    },
    {
     "name": "stderr",
     "output_type": "stream",
     "text": [
      "100%|██████████████████████████████████████████████████████████████████████████████████| 16/16 [00:31<00:00,  2.00s/it]\n"
     ]
    },
    {
     "name": "stdout",
     "output_type": "stream",
     "text": [
      "[56/500][15/16]\tLoss_D: 1.5683\tLoss_G: 1.0052\tD(x): 0.5666\tD(G(z)): 0.5924 / 0.3910\n",
      "Epoch 57\n"
     ]
    },
    {
     "name": "stderr",
     "output_type": "stream",
     "text": [
      "100%|██████████████████████████████████████████████████████████████████████████████████| 16/16 [00:31<00:00,  1.95s/it]\n"
     ]
    },
    {
     "name": "stdout",
     "output_type": "stream",
     "text": [
      "[57/500][15/16]\tLoss_D: 1.4220\tLoss_G: 0.9795\tD(x): 0.4708\tD(G(z)): 0.4344 / 0.4077\n",
      "Epoch 58\n"
     ]
    },
    {
     "name": "stderr",
     "output_type": "stream",
     "text": [
      "100%|██████████████████████████████████████████████████████████████████████████████████| 16/16 [00:31<00:00,  1.95s/it]\n"
     ]
    },
    {
     "name": "stdout",
     "output_type": "stream",
     "text": [
      "[58/500][15/16]\tLoss_D: 1.4325\tLoss_G: 1.1941\tD(x): 0.4540\tD(G(z)): 0.4254 / 0.3242\n",
      "Epoch 59\n"
     ]
    },
    {
     "name": "stderr",
     "output_type": "stream",
     "text": [
      "100%|██████████████████████████████████████████████████████████████████████████████████| 16/16 [00:32<00:00,  2.03s/it]\n"
     ]
    },
    {
     "name": "stdout",
     "output_type": "stream",
     "text": [
      "[59/500][15/16]\tLoss_D: 1.6715\tLoss_G: 0.9383\tD(x): 0.4855\tD(G(z)): 0.5599 / 0.4211\n",
      "Epoch 60\n"
     ]
    },
    {
     "name": "stderr",
     "output_type": "stream",
     "text": [
      "100%|██████████████████████████████████████████████████████████████████████████████████| 16/16 [00:31<00:00,  1.95s/it]\n"
     ]
    },
    {
     "name": "stdout",
     "output_type": "stream",
     "text": [
      "[60/500][15/16]\tLoss_D: 1.4319\tLoss_G: 0.9591\tD(x): 0.4697\tD(G(z)): 0.4411 / 0.4221\n",
      "Epoch 61\n"
     ]
    },
    {
     "name": "stderr",
     "output_type": "stream",
     "text": [
      "100%|██████████████████████████████████████████████████████████████████████████████████| 16/16 [00:31<00:00,  1.98s/it]\n"
     ]
    },
    {
     "name": "stdout",
     "output_type": "stream",
     "text": [
      "[61/500][15/16]\tLoss_D: 1.3889\tLoss_G: 0.9608\tD(x): 0.5195\tD(G(z)): 0.4766 / 0.4140\n",
      "Epoch 62\n"
     ]
    },
    {
     "name": "stderr",
     "output_type": "stream",
     "text": [
      "100%|██████████████████████████████████████████████████████████████████████████████████| 16/16 [00:32<00:00,  2.00s/it]\n"
     ]
    },
    {
     "name": "stdout",
     "output_type": "stream",
     "text": [
      "[62/500][15/16]\tLoss_D: 1.2278\tLoss_G: 0.9445\tD(x): 0.5588\tD(G(z)): 0.4271 / 0.4198\n",
      "Epoch 63\n"
     ]
    },
    {
     "name": "stderr",
     "output_type": "stream",
     "text": [
      "100%|██████████████████████████████████████████████████████████████████████████████████| 16/16 [00:31<00:00,  1.96s/it]\n"
     ]
    },
    {
     "name": "stdout",
     "output_type": "stream",
     "text": [
      "[63/500][15/16]\tLoss_D: 1.3621\tLoss_G: 0.6816\tD(x): 0.5491\tD(G(z)): 0.4827 / 0.5239\n",
      "Epoch 64\n"
     ]
    },
    {
     "name": "stderr",
     "output_type": "stream",
     "text": [
      "100%|██████████████████████████████████████████████████████████████████████████████████| 16/16 [00:32<00:00,  2.01s/it]\n"
     ]
    },
    {
     "name": "stdout",
     "output_type": "stream",
     "text": [
      "[64/500][15/16]\tLoss_D: 1.2739\tLoss_G: 1.2111\tD(x): 0.6658\tD(G(z)): 0.5403 / 0.3241\n",
      "Epoch 65\n"
     ]
    },
    {
     "name": "stderr",
     "output_type": "stream",
     "text": [
      "100%|██████████████████████████████████████████████████████████████████████████████████| 16/16 [00:31<00:00,  1.99s/it]\n"
     ]
    },
    {
     "name": "stdout",
     "output_type": "stream",
     "text": [
      "[65/500][15/16]\tLoss_D: 1.2886\tLoss_G: 1.0041\tD(x): 0.6071\tD(G(z)): 0.5132 / 0.4066\n",
      "Epoch 66\n"
     ]
    },
    {
     "name": "stderr",
     "output_type": "stream",
     "text": [
      "100%|██████████████████████████████████████████████████████████████████████████████████| 16/16 [00:31<00:00,  1.96s/it]\n"
     ]
    },
    {
     "name": "stdout",
     "output_type": "stream",
     "text": [
      "[66/500][15/16]\tLoss_D: 1.7267\tLoss_G: 0.8830\tD(x): 0.4194\tD(G(z)): 0.5392 / 0.4398\n",
      "Epoch 67\n"
     ]
    },
    {
     "name": "stderr",
     "output_type": "stream",
     "text": [
      "100%|██████████████████████████████████████████████████████████████████████████████████| 16/16 [00:31<00:00,  1.97s/it]\n"
     ]
    },
    {
     "name": "stdout",
     "output_type": "stream",
     "text": [
      "[67/500][15/16]\tLoss_D: 1.6051\tLoss_G: 0.9469\tD(x): 0.5108\tD(G(z)): 0.5746 / 0.4011\n",
      "Epoch 68\n"
     ]
    },
    {
     "name": "stderr",
     "output_type": "stream",
     "text": [
      "100%|██████████████████████████████████████████████████████████████████████████████████| 16/16 [00:31<00:00,  1.98s/it]\n"
     ]
    },
    {
     "name": "stdout",
     "output_type": "stream",
     "text": [
      "[68/500][15/16]\tLoss_D: 1.6301\tLoss_G: 0.9878\tD(x): 0.4474\tD(G(z)): 0.5146 / 0.3965\n",
      "Epoch 69\n"
     ]
    },
    {
     "name": "stderr",
     "output_type": "stream",
     "text": [
      "100%|██████████████████████████████████████████████████████████████████████████████████| 16/16 [00:31<00:00,  1.94s/it]\n"
     ]
    },
    {
     "name": "stdout",
     "output_type": "stream",
     "text": [
      "[69/500][15/16]\tLoss_D: 1.5890\tLoss_G: 0.9505\tD(x): 0.5247\tD(G(z)): 0.5525 / 0.4142\n",
      "Epoch 70\n"
     ]
    },
    {
     "name": "stderr",
     "output_type": "stream",
     "text": [
      "100%|██████████████████████████████████████████████████████████████████████████████████| 16/16 [00:31<00:00,  1.98s/it]\n"
     ]
    },
    {
     "name": "stdout",
     "output_type": "stream",
     "text": [
      "[70/500][15/16]\tLoss_D: 1.4936\tLoss_G: 1.2812\tD(x): 0.5379\tD(G(z)): 0.5490 / 0.3029\n",
      "Epoch 71\n"
     ]
    },
    {
     "name": "stderr",
     "output_type": "stream",
     "text": [
      "100%|██████████████████████████████████████████████████████████████████████████████████| 16/16 [00:31<00:00,  1.95s/it]\n"
     ]
    },
    {
     "name": "stdout",
     "output_type": "stream",
     "text": [
      "[71/500][15/16]\tLoss_D: 1.5809\tLoss_G: 1.0601\tD(x): 0.4828\tD(G(z)): 0.5366 / 0.3751\n",
      "Epoch 72\n"
     ]
    },
    {
     "name": "stderr",
     "output_type": "stream",
     "text": [
      "100%|██████████████████████████████████████████████████████████████████████████████████| 16/16 [00:29<00:00,  1.86s/it]\n"
     ]
    },
    {
     "name": "stdout",
     "output_type": "stream",
     "text": [
      "[72/500][15/16]\tLoss_D: 1.5450\tLoss_G: 0.7122\tD(x): 0.4967\tD(G(z)): 0.5295 / 0.5241\n",
      "Epoch 73\n"
     ]
    },
    {
     "name": "stderr",
     "output_type": "stream",
     "text": [
      "100%|██████████████████████████████████████████████████████████████████████████████████| 16/16 [00:27<00:00,  1.75s/it]\n"
     ]
    },
    {
     "name": "stdout",
     "output_type": "stream",
     "text": [
      "[73/500][15/16]\tLoss_D: 1.5374\tLoss_G: 0.7961\tD(x): 0.4167\tD(G(z)): 0.4145 / 0.4799\n",
      "Epoch 74\n"
     ]
    },
    {
     "name": "stderr",
     "output_type": "stream",
     "text": [
      "100%|██████████████████████████████████████████████████████████████████████████████████| 16/16 [00:27<00:00,  1.74s/it]\n"
     ]
    },
    {
     "name": "stdout",
     "output_type": "stream",
     "text": [
      "[74/500][15/16]\tLoss_D: 1.4684\tLoss_G: 0.7101\tD(x): 0.4178\tD(G(z)): 0.3617 / 0.5080\n",
      "Epoch 75\n"
     ]
    },
    {
     "name": "stderr",
     "output_type": "stream",
     "text": [
      "100%|██████████████████████████████████████████████████████████████████████████████████| 16/16 [00:28<00:00,  1.76s/it]\n"
     ]
    },
    {
     "name": "stdout",
     "output_type": "stream",
     "text": [
      "[75/500][15/16]\tLoss_D: 1.4265\tLoss_G: 1.0451\tD(x): 0.5938\tD(G(z)): 0.5593 / 0.3678\n",
      "Epoch 76\n"
     ]
    },
    {
     "name": "stderr",
     "output_type": "stream",
     "text": [
      "100%|██████████████████████████████████████████████████████████████████████████████████| 16/16 [00:27<00:00,  1.75s/it]\n"
     ]
    },
    {
     "name": "stdout",
     "output_type": "stream",
     "text": [
      "[76/500][15/16]\tLoss_D: 1.4886\tLoss_G: 0.7974\tD(x): 0.4572\tD(G(z)): 0.4570 / 0.4684\n",
      "Epoch 77\n"
     ]
    },
    {
     "name": "stderr",
     "output_type": "stream",
     "text": [
      "100%|██████████████████████████████████████████████████████████████████████████████████| 16/16 [00:27<00:00,  1.73s/it]\n"
     ]
    },
    {
     "name": "stdout",
     "output_type": "stream",
     "text": [
      "[77/500][15/16]\tLoss_D: 1.4279\tLoss_G: 0.8636\tD(x): 0.4593\tD(G(z)): 0.4404 / 0.4437\n",
      "Epoch 78\n"
     ]
    },
    {
     "name": "stderr",
     "output_type": "stream",
     "text": [
      "100%|██████████████████████████████████████████████████████████████████████████████████| 16/16 [00:28<00:00,  1.78s/it]\n"
     ]
    },
    {
     "name": "stdout",
     "output_type": "stream",
     "text": [
      "[78/500][15/16]\tLoss_D: 1.4626\tLoss_G: 0.9402\tD(x): 0.5968\tD(G(z)): 0.5744 / 0.4099\n",
      "Epoch 79\n"
     ]
    },
    {
     "name": "stderr",
     "output_type": "stream",
     "text": [
      "100%|██████████████████████████████████████████████████████████████████████████████████| 16/16 [00:28<00:00,  1.77s/it]\n"
     ]
    },
    {
     "name": "stdout",
     "output_type": "stream",
     "text": [
      "[79/500][15/16]\tLoss_D: 1.3741\tLoss_G: 0.9033\tD(x): 0.5579\tD(G(z)): 0.5079 / 0.4209\n",
      "Epoch 80\n"
     ]
    },
    {
     "name": "stderr",
     "output_type": "stream",
     "text": [
      "100%|██████████████████████████████████████████████████████████████████████████████████| 16/16 [00:28<00:00,  1.79s/it]\n"
     ]
    },
    {
     "name": "stdout",
     "output_type": "stream",
     "text": [
      "[80/500][15/16]\tLoss_D: 1.4370\tLoss_G: 0.6578\tD(x): 0.4452\tD(G(z)): 0.4233 / 0.5345\n",
      "Epoch 81\n"
     ]
    },
    {
     "name": "stderr",
     "output_type": "stream",
     "text": [
      "100%|██████████████████████████████████████████████████████████████████████████████████| 16/16 [00:29<00:00,  1.86s/it]\n"
     ]
    },
    {
     "name": "stdout",
     "output_type": "stream",
     "text": [
      "[81/500][15/16]\tLoss_D: 1.2420\tLoss_G: 1.1975\tD(x): 0.5587\tD(G(z)): 0.4471 / 0.3294\n",
      "Epoch 82\n"
     ]
    },
    {
     "name": "stderr",
     "output_type": "stream",
     "text": [
      "100%|██████████████████████████████████████████████████████████████████████████████████| 16/16 [00:29<00:00,  1.82s/it]\n"
     ]
    },
    {
     "name": "stdout",
     "output_type": "stream",
     "text": [
      "[82/500][15/16]\tLoss_D: 1.3387\tLoss_G: 0.9068\tD(x): 0.5306\tD(G(z)): 0.4772 / 0.4311\n",
      "Epoch 83\n"
     ]
    },
    {
     "name": "stderr",
     "output_type": "stream",
     "text": [
      "100%|██████████████████████████████████████████████████████████████████████████████████| 16/16 [00:29<00:00,  1.83s/it]\n"
     ]
    },
    {
     "name": "stdout",
     "output_type": "stream",
     "text": [
      "[83/500][15/16]\tLoss_D: 1.4003\tLoss_G: 0.8946\tD(x): 0.4803\tD(G(z)): 0.4615 / 0.4235\n",
      "Epoch 84\n"
     ]
    },
    {
     "name": "stderr",
     "output_type": "stream",
     "text": [
      "100%|██████████████████████████████████████████████████████████████████████████████████| 16/16 [00:30<00:00,  1.91s/it]\n"
     ]
    },
    {
     "name": "stdout",
     "output_type": "stream",
     "text": [
      "[84/500][15/16]\tLoss_D: 1.3942\tLoss_G: 0.8083\tD(x): 0.4717\tD(G(z)): 0.4247 / 0.4623\n",
      "Epoch 85\n"
     ]
    },
    {
     "name": "stderr",
     "output_type": "stream",
     "text": [
      "100%|██████████████████████████████████████████████████████████████████████████████████| 16/16 [00:29<00:00,  1.84s/it]\n"
     ]
    },
    {
     "name": "stdout",
     "output_type": "stream",
     "text": [
      "[85/500][15/16]\tLoss_D: 1.4072\tLoss_G: 0.8682\tD(x): 0.4594\tD(G(z)): 0.4288 / 0.4407\n",
      "Epoch 86\n"
     ]
    },
    {
     "name": "stderr",
     "output_type": "stream",
     "text": [
      "100%|██████████████████████████████████████████████████████████████████████████████████| 16/16 [00:28<00:00,  1.78s/it]\n"
     ]
    },
    {
     "name": "stdout",
     "output_type": "stream",
     "text": [
      "[86/500][15/16]\tLoss_D: 1.4971\tLoss_G: 0.7970\tD(x): 0.4129\tD(G(z)): 0.4293 / 0.4813\n",
      "Epoch 87\n"
     ]
    },
    {
     "name": "stderr",
     "output_type": "stream",
     "text": [
      "100%|██████████████████████████████████████████████████████████████████████████████████| 16/16 [00:30<00:00,  1.88s/it]\n"
     ]
    },
    {
     "name": "stdout",
     "output_type": "stream",
     "text": [
      "[87/500][15/16]\tLoss_D: 1.4579\tLoss_G: 0.8761\tD(x): 0.5442\tD(G(z)): 0.5343 / 0.4367\n",
      "Epoch 88\n"
     ]
    },
    {
     "name": "stderr",
     "output_type": "stream",
     "text": [
      "100%|██████████████████████████████████████████████████████████████████████████████████| 16/16 [00:30<00:00,  1.90s/it]\n"
     ]
    },
    {
     "name": "stdout",
     "output_type": "stream",
     "text": [
      "[88/500][15/16]\tLoss_D: 1.5076\tLoss_G: 0.7783\tD(x): 0.4768\tD(G(z)): 0.5080 / 0.4752\n",
      "Epoch 89\n"
     ]
    },
    {
     "name": "stderr",
     "output_type": "stream",
     "text": [
      "100%|██████████████████████████████████████████████████████████████████████████████████| 16/16 [00:30<00:00,  1.90s/it]\n"
     ]
    },
    {
     "name": "stdout",
     "output_type": "stream",
     "text": [
      "[89/500][15/16]\tLoss_D: 1.4727\tLoss_G: 1.1552\tD(x): 0.4593\tD(G(z)): 0.4475 / 0.3315\n",
      "Epoch 90\n"
     ]
    },
    {
     "name": "stderr",
     "output_type": "stream",
     "text": [
      "100%|██████████████████████████████████████████████████████████████████████████████████| 16/16 [00:30<00:00,  1.88s/it]\n"
     ]
    },
    {
     "name": "stdout",
     "output_type": "stream",
     "text": [
      "[90/500][15/16]\tLoss_D: 1.3950\tLoss_G: 0.7473\tD(x): 0.4987\tD(G(z)): 0.4647 / 0.4861\n",
      "Epoch 91\n"
     ]
    },
    {
     "name": "stderr",
     "output_type": "stream",
     "text": [
      "100%|██████████████████████████████████████████████████████████████████████████████████| 16/16 [00:29<00:00,  1.87s/it]\n"
     ]
    },
    {
     "name": "stdout",
     "output_type": "stream",
     "text": [
      "[91/500][15/16]\tLoss_D: 1.3157\tLoss_G: 1.2142\tD(x): 0.6011\tD(G(z)): 0.5344 / 0.3090\n",
      "Epoch 92\n"
     ]
    },
    {
     "name": "stderr",
     "output_type": "stream",
     "text": [
      "100%|██████████████████████████████████████████████████████████████████████████████████| 16/16 [00:30<00:00,  1.90s/it]\n"
     ]
    },
    {
     "name": "stdout",
     "output_type": "stream",
     "text": [
      "[92/500][15/16]\tLoss_D: 1.4469\tLoss_G: 0.6906\tD(x): 0.4021\tD(G(z)): 0.3701 / 0.5175\n",
      "Epoch 93\n"
     ]
    },
    {
     "name": "stderr",
     "output_type": "stream",
     "text": [
      "100%|██████████████████████████████████████████████████████████████████████████████████| 16/16 [00:29<00:00,  1.85s/it]\n"
     ]
    },
    {
     "name": "stdout",
     "output_type": "stream",
     "text": [
      "[93/500][15/16]\tLoss_D: 1.3883\tLoss_G: 0.9930\tD(x): 0.4978\tD(G(z)): 0.4481 / 0.4007\n",
      "Epoch 94\n"
     ]
    },
    {
     "name": "stderr",
     "output_type": "stream",
     "text": [
      "100%|██████████████████████████████████████████████████████████████████████████████████| 16/16 [00:29<00:00,  1.83s/it]\n"
     ]
    },
    {
     "name": "stdout",
     "output_type": "stream",
     "text": [
      "[94/500][15/16]\tLoss_D: 1.3878\tLoss_G: 1.2019\tD(x): 0.6588\tD(G(z)): 0.5848 / 0.3134\n",
      "Epoch 95\n"
     ]
    },
    {
     "name": "stderr",
     "output_type": "stream",
     "text": [
      "100%|██████████████████████████████████████████████████████████████████████████████████| 16/16 [00:29<00:00,  1.86s/it]\n"
     ]
    },
    {
     "name": "stdout",
     "output_type": "stream",
     "text": [
      "[95/500][15/16]\tLoss_D: 1.2835\tLoss_G: 1.6189\tD(x): 0.6089\tD(G(z)): 0.5166 / 0.2112\n",
      "Epoch 96\n"
     ]
    },
    {
     "name": "stderr",
     "output_type": "stream",
     "text": [
      "100%|██████████████████████████████████████████████████████████████████████████████████| 16/16 [00:28<00:00,  1.77s/it]\n"
     ]
    },
    {
     "name": "stdout",
     "output_type": "stream",
     "text": [
      "[96/500][15/16]\tLoss_D: 1.6543\tLoss_G: 1.2444\tD(x): 0.5589\tD(G(z)): 0.6191 / 0.3135\n",
      "Epoch 97\n"
     ]
    },
    {
     "name": "stderr",
     "output_type": "stream",
     "text": [
      "100%|██████████████████████████████████████████████████████████████████████████████████| 16/16 [00:30<00:00,  1.90s/it]\n"
     ]
    },
    {
     "name": "stdout",
     "output_type": "stream",
     "text": [
      "[97/500][15/16]\tLoss_D: 1.2334\tLoss_G: 1.2873\tD(x): 0.5248\tD(G(z)): 0.4112 / 0.2942\n",
      "Epoch 98\n"
     ]
    },
    {
     "name": "stderr",
     "output_type": "stream",
     "text": [
      "100%|██████████████████████████████████████████████████████████████████████████████████| 16/16 [00:29<00:00,  1.87s/it]\n"
     ]
    },
    {
     "name": "stdout",
     "output_type": "stream",
     "text": [
      "[98/500][15/16]\tLoss_D: 1.1758\tLoss_G: 0.8462\tD(x): 0.5482\tD(G(z)): 0.4114 / 0.4443\n",
      "Epoch 99\n"
     ]
    },
    {
     "name": "stderr",
     "output_type": "stream",
     "text": [
      "100%|██████████████████████████████████████████████████████████████████████████████████| 16/16 [00:29<00:00,  1.84s/it]\n"
     ]
    },
    {
     "name": "stdout",
     "output_type": "stream",
     "text": [
      "[99/500][15/16]\tLoss_D: 1.5051\tLoss_G: 0.7415\tD(x): 0.4978\tD(G(z)): 0.5162 / 0.4901\n",
      "Epoch 100\n"
     ]
    },
    {
     "name": "stderr",
     "output_type": "stream",
     "text": [
      "100%|██████████████████████████████████████████████████████████████████████████████████| 16/16 [00:28<00:00,  1.76s/it]\n"
     ]
    },
    {
     "name": "stdout",
     "output_type": "stream",
     "text": [
      "[100/500][15/16]\tLoss_D: 1.4171\tLoss_G: 0.8374\tD(x): 0.4508\tD(G(z)): 0.3668 / 0.4553\n",
      "Epoch 101\n"
     ]
    },
    {
     "name": "stderr",
     "output_type": "stream",
     "text": [
      "100%|██████████████████████████████████████████████████████████████████████████████████| 16/16 [00:28<00:00,  1.77s/it]\n"
     ]
    },
    {
     "name": "stdout",
     "output_type": "stream",
     "text": [
      "[101/500][15/16]\tLoss_D: 1.3093\tLoss_G: 1.3401\tD(x): 0.5867\tD(G(z)): 0.5023 / 0.2891\n",
      "Epoch 102\n"
     ]
    },
    {
     "name": "stderr",
     "output_type": "stream",
     "text": [
      "100%|██████████████████████████████████████████████████████████████████████████████████| 16/16 [00:28<00:00,  1.80s/it]\n"
     ]
    },
    {
     "name": "stdout",
     "output_type": "stream",
     "text": [
      "[102/500][15/16]\tLoss_D: 1.2188\tLoss_G: 0.8660\tD(x): 0.5574\tD(G(z)): 0.4393 / 0.4537\n",
      "Epoch 103\n"
     ]
    },
    {
     "name": "stderr",
     "output_type": "stream",
     "text": [
      "100%|██████████████████████████████████████████████████████████████████████████████████| 16/16 [00:28<00:00,  1.77s/it]\n"
     ]
    },
    {
     "name": "stdout",
     "output_type": "stream",
     "text": [
      "[103/500][15/16]\tLoss_D: 1.3048\tLoss_G: 0.7173\tD(x): 0.4675\tD(G(z)): 0.3733 / 0.5113\n",
      "Epoch 104\n"
     ]
    },
    {
     "name": "stderr",
     "output_type": "stream",
     "text": [
      "100%|██████████████████████████████████████████████████████████████████████████████████| 16/16 [00:29<00:00,  1.82s/it]\n"
     ]
    },
    {
     "name": "stdout",
     "output_type": "stream",
     "text": [
      "[104/500][15/16]\tLoss_D: 1.3836\tLoss_G: 0.8404\tD(x): 0.4327\tD(G(z)): 0.3813 / 0.4480\n",
      "Epoch 105\n"
     ]
    },
    {
     "name": "stderr",
     "output_type": "stream",
     "text": [
      "100%|██████████████████████████████████████████████████████████████████████████████████| 16/16 [00:28<00:00,  1.78s/it]\n"
     ]
    },
    {
     "name": "stdout",
     "output_type": "stream",
     "text": [
      "[105/500][15/16]\tLoss_D: 1.3330\tLoss_G: 0.9452\tD(x): 0.5135\tD(G(z)): 0.4470 / 0.4148\n",
      "Epoch 106\n"
     ]
    },
    {
     "name": "stderr",
     "output_type": "stream",
     "text": [
      "100%|██████████████████████████████████████████████████████████████████████████████████| 16/16 [00:28<00:00,  1.79s/it]\n"
     ]
    },
    {
     "name": "stdout",
     "output_type": "stream",
     "text": [
      "[106/500][15/16]\tLoss_D: 1.4983\tLoss_G: 0.8602\tD(x): 0.3933\tD(G(z)): 0.3883 / 0.4480\n",
      "Epoch 107\n"
     ]
    },
    {
     "name": "stderr",
     "output_type": "stream",
     "text": [
      "100%|██████████████████████████████████████████████████████████████████████████████████| 16/16 [00:28<00:00,  1.81s/it]\n"
     ]
    },
    {
     "name": "stdout",
     "output_type": "stream",
     "text": [
      "[107/500][15/16]\tLoss_D: 1.4332\tLoss_G: 1.3971\tD(x): 0.5844\tD(G(z)): 0.5660 / 0.2735\n",
      "Epoch 108\n"
     ]
    },
    {
     "name": "stderr",
     "output_type": "stream",
     "text": [
      "100%|██████████████████████████████████████████████████████████████████████████████████| 16/16 [00:28<00:00,  1.78s/it]\n"
     ]
    },
    {
     "name": "stdout",
     "output_type": "stream",
     "text": [
      "[108/500][15/16]\tLoss_D: 1.5724\tLoss_G: 1.1007\tD(x): 0.4681\tD(G(z)): 0.5310 / 0.3519\n",
      "Epoch 109\n"
     ]
    },
    {
     "name": "stderr",
     "output_type": "stream",
     "text": [
      "100%|██████████████████████████████████████████████████████████████████████████████████| 16/16 [00:28<00:00,  1.80s/it]\n"
     ]
    },
    {
     "name": "stdout",
     "output_type": "stream",
     "text": [
      "[109/500][15/16]\tLoss_D: 1.1811\tLoss_G: 1.3645\tD(x): 0.6276\tD(G(z)): 0.4705 / 0.2763\n",
      "Epoch 110\n"
     ]
    },
    {
     "name": "stderr",
     "output_type": "stream",
     "text": [
      "100%|██████████████████████████████████████████████████████████████████████████████████| 16/16 [00:29<00:00,  1.81s/it]\n"
     ]
    },
    {
     "name": "stdout",
     "output_type": "stream",
     "text": [
      "[110/500][15/16]\tLoss_D: 1.1913\tLoss_G: 1.1711\tD(x): 0.6452\tD(G(z)): 0.5061 / 0.3260\n",
      "Epoch 111\n"
     ]
    },
    {
     "name": "stderr",
     "output_type": "stream",
     "text": [
      "100%|██████████████████████████████████████████████████████████████████████████████████| 16/16 [00:28<00:00,  1.79s/it]\n"
     ]
    },
    {
     "name": "stdout",
     "output_type": "stream",
     "text": [
      "[111/500][15/16]\tLoss_D: 1.1656\tLoss_G: 0.9026\tD(x): 0.5780\tD(G(z)): 0.4240 / 0.4226\n",
      "Epoch 112\n"
     ]
    },
    {
     "name": "stderr",
     "output_type": "stream",
     "text": [
      "100%|██████████████████████████████████████████████████████████████████████████████████| 16/16 [00:26<00:00,  1.66s/it]\n"
     ]
    },
    {
     "name": "stdout",
     "output_type": "stream",
     "text": [
      "[112/500][15/16]\tLoss_D: 1.1052\tLoss_G: 1.4070\tD(x): 0.6561\tD(G(z)): 0.4624 / 0.2616\n",
      "Epoch 113\n"
     ]
    },
    {
     "name": "stderr",
     "output_type": "stream",
     "text": [
      "100%|██████████████████████████████████████████████████████████████████████████████████| 16/16 [00:26<00:00,  1.63s/it]\n"
     ]
    },
    {
     "name": "stdout",
     "output_type": "stream",
     "text": [
      "[113/500][15/16]\tLoss_D: 1.3178\tLoss_G: 1.2338\tD(x): 0.5289\tD(G(z)): 0.4468 / 0.3123\n",
      "Epoch 114\n"
     ]
    },
    {
     "name": "stderr",
     "output_type": "stream",
     "text": [
      "100%|██████████████████████████████████████████████████████████████████████████████████| 16/16 [00:25<00:00,  1.62s/it]\n"
     ]
    },
    {
     "name": "stdout",
     "output_type": "stream",
     "text": [
      "[114/500][15/16]\tLoss_D: 1.5951\tLoss_G: 0.8692\tD(x): 0.4502\tD(G(z)): 0.5017 / 0.4351\n",
      "Epoch 115\n"
     ]
    },
    {
     "name": "stderr",
     "output_type": "stream",
     "text": [
      "100%|██████████████████████████████████████████████████████████████████████████████████| 16/16 [00:26<00:00,  1.65s/it]\n"
     ]
    },
    {
     "name": "stdout",
     "output_type": "stream",
     "text": [
      "[115/500][15/16]\tLoss_D: 1.4265\tLoss_G: 0.9040\tD(x): 0.4224\tD(G(z)): 0.3784 / 0.4300\n",
      "Epoch 116\n"
     ]
    },
    {
     "name": "stderr",
     "output_type": "stream",
     "text": [
      "100%|██████████████████████████████████████████████████████████████████████████████████| 16/16 [00:26<00:00,  1.66s/it]\n"
     ]
    },
    {
     "name": "stdout",
     "output_type": "stream",
     "text": [
      "[116/500][15/16]\tLoss_D: 1.4334\tLoss_G: 1.2359\tD(x): 0.5496\tD(G(z)): 0.5314 / 0.3079\n",
      "Epoch 117\n"
     ]
    },
    {
     "name": "stderr",
     "output_type": "stream",
     "text": [
      "100%|██████████████████████████████████████████████████████████████████████████████████| 16/16 [00:26<00:00,  1.63s/it]\n"
     ]
    },
    {
     "name": "stdout",
     "output_type": "stream",
     "text": [
      "[117/500][15/16]\tLoss_D: 1.2574\tLoss_G: 1.5323\tD(x): 0.6502\tD(G(z)): 0.5241 / 0.2384\n",
      "Epoch 118\n"
     ]
    },
    {
     "name": "stderr",
     "output_type": "stream",
     "text": [
      "100%|██████████████████████████████████████████████████████████████████████████████████| 16/16 [00:25<00:00,  1.62s/it]\n"
     ]
    },
    {
     "name": "stdout",
     "output_type": "stream",
     "text": [
      "[118/500][15/16]\tLoss_D: 1.3854\tLoss_G: 1.2939\tD(x): 0.5198\tD(G(z)): 0.4778 / 0.2963\n",
      "Epoch 119\n"
     ]
    },
    {
     "name": "stderr",
     "output_type": "stream",
     "text": [
      "100%|██████████████████████████████████████████████████████████████████████████████████| 16/16 [00:25<00:00,  1.62s/it]\n"
     ]
    },
    {
     "name": "stdout",
     "output_type": "stream",
     "text": [
      "[119/500][15/16]\tLoss_D: 1.4212\tLoss_G: 1.2119\tD(x): 0.6452\tD(G(z)): 0.5873 / 0.3144\n",
      "Epoch 120\n"
     ]
    },
    {
     "name": "stderr",
     "output_type": "stream",
     "text": [
      "100%|██████████████████████████████████████████████████████████████████████████████████| 16/16 [00:25<00:00,  1.60s/it]\n"
     ]
    },
    {
     "name": "stdout",
     "output_type": "stream",
     "text": [
      "[120/500][15/16]\tLoss_D: 1.1752\tLoss_G: 1.2749\tD(x): 0.6104\tD(G(z)): 0.4459 / 0.3127\n",
      "Epoch 121\n"
     ]
    },
    {
     "name": "stderr",
     "output_type": "stream",
     "text": [
      "100%|██████████████████████████████████████████████████████████████████████████████████| 16/16 [00:25<00:00,  1.60s/it]\n"
     ]
    },
    {
     "name": "stdout",
     "output_type": "stream",
     "text": [
      "[121/500][15/16]\tLoss_D: 1.2740\tLoss_G: 0.9867\tD(x): 0.5443\tD(G(z)): 0.4164 / 0.3989\n",
      "Epoch 122\n"
     ]
    },
    {
     "name": "stderr",
     "output_type": "stream",
     "text": [
      "100%|██████████████████████████████████████████████████████████████████████████████████| 16/16 [00:25<00:00,  1.62s/it]\n"
     ]
    },
    {
     "name": "stdout",
     "output_type": "stream",
     "text": [
      "[122/500][15/16]\tLoss_D: 1.5017\tLoss_G: 1.0209\tD(x): 0.4438\tD(G(z)): 0.4581 / 0.3722\n",
      "Epoch 123\n"
     ]
    },
    {
     "name": "stderr",
     "output_type": "stream",
     "text": [
      "100%|██████████████████████████████████████████████████████████████████████████████████| 16/16 [00:25<00:00,  1.62s/it]\n"
     ]
    },
    {
     "name": "stdout",
     "output_type": "stream",
     "text": [
      "[123/500][15/16]\tLoss_D: 1.2884\tLoss_G: 0.9562\tD(x): 0.4368\tD(G(z)): 0.3357 / 0.4097\n",
      "Epoch 124\n"
     ]
    },
    {
     "name": "stderr",
     "output_type": "stream",
     "text": [
      "100%|██████████████████████████████████████████████████████████████████████████████████| 16/16 [00:25<00:00,  1.60s/it]\n"
     ]
    },
    {
     "name": "stdout",
     "output_type": "stream",
     "text": [
      "[124/500][15/16]\tLoss_D: 1.4644\tLoss_G: 0.8711\tD(x): 0.4058\tD(G(z)): 0.3817 / 0.4392\n",
      "Epoch 125\n"
     ]
    },
    {
     "name": "stderr",
     "output_type": "stream",
     "text": [
      "100%|██████████████████████████████████████████████████████████████████████████████████| 16/16 [00:26<00:00,  1.65s/it]\n"
     ]
    },
    {
     "name": "stdout",
     "output_type": "stream",
     "text": [
      "[125/500][15/16]\tLoss_D: 1.5303\tLoss_G: 1.3045\tD(x): 0.6182\tD(G(z)): 0.6083 / 0.2937\n",
      "Epoch 126\n"
     ]
    },
    {
     "name": "stderr",
     "output_type": "stream",
     "text": [
      "100%|██████████████████████████████████████████████████████████████████████████████████| 16/16 [00:26<00:00,  1.65s/it]\n"
     ]
    },
    {
     "name": "stdout",
     "output_type": "stream",
     "text": [
      "[126/500][15/16]\tLoss_D: 1.3905\tLoss_G: 0.8597\tD(x): 0.5787\tD(G(z)): 0.4893 / 0.4404\n",
      "Epoch 127\n"
     ]
    },
    {
     "name": "stderr",
     "output_type": "stream",
     "text": [
      "100%|██████████████████████████████████████████████████████████████████████████████████| 16/16 [00:25<00:00,  1.58s/it]\n"
     ]
    },
    {
     "name": "stdout",
     "output_type": "stream",
     "text": [
      "[127/500][15/16]\tLoss_D: 1.6074\tLoss_G: 0.9958\tD(x): 0.5099\tD(G(z)): 0.5670 / 0.3840\n",
      "Epoch 128\n"
     ]
    },
    {
     "name": "stderr",
     "output_type": "stream",
     "text": [
      "100%|██████████████████████████████████████████████████████████████████████████████████| 16/16 [00:25<00:00,  1.62s/it]\n"
     ]
    },
    {
     "name": "stdout",
     "output_type": "stream",
     "text": [
      "[128/500][15/16]\tLoss_D: 1.3345\tLoss_G: 1.0577\tD(x): 0.5957\tD(G(z)): 0.5204 / 0.3989\n",
      "Epoch 129\n"
     ]
    },
    {
     "name": "stderr",
     "output_type": "stream",
     "text": [
      "100%|██████████████████████████████████████████████████████████████████████████████████| 16/16 [00:25<00:00,  1.60s/it]\n"
     ]
    },
    {
     "name": "stdout",
     "output_type": "stream",
     "text": [
      "[129/500][15/16]\tLoss_D: 1.2918\tLoss_G: 1.6045\tD(x): 0.5781\tD(G(z)): 0.4710 / 0.2348\n",
      "Epoch 130\n"
     ]
    },
    {
     "name": "stderr",
     "output_type": "stream",
     "text": [
      "100%|██████████████████████████████████████████████████████████████████████████████████| 16/16 [00:25<00:00,  1.57s/it]\n"
     ]
    },
    {
     "name": "stdout",
     "output_type": "stream",
     "text": [
      "[130/500][15/16]\tLoss_D: 1.3737\tLoss_G: 1.3493\tD(x): 0.6671\tD(G(z)): 0.5950 / 0.2882\n",
      "Epoch 131\n"
     ]
    },
    {
     "name": "stderr",
     "output_type": "stream",
     "text": [
      "100%|██████████████████████████████████████████████████████████████████████████████████| 16/16 [00:25<00:00,  1.62s/it]\n"
     ]
    },
    {
     "name": "stdout",
     "output_type": "stream",
     "text": [
      "[131/500][15/16]\tLoss_D: 1.3478\tLoss_G: 1.0798\tD(x): 0.5050\tD(G(z)): 0.4488 / 0.3654\n",
      "Epoch 132\n"
     ]
    },
    {
     "name": "stderr",
     "output_type": "stream",
     "text": [
      "100%|██████████████████████████████████████████████████████████████████████████████████| 16/16 [00:25<00:00,  1.60s/it]\n"
     ]
    },
    {
     "name": "stdout",
     "output_type": "stream",
     "text": [
      "[132/500][15/16]\tLoss_D: 1.4304\tLoss_G: 1.0330\tD(x): 0.4615\tD(G(z)): 0.4289 / 0.3799\n",
      "Epoch 133\n"
     ]
    },
    {
     "name": "stderr",
     "output_type": "stream",
     "text": [
      "100%|██████████████████████████████████████████████████████████████████████████████████| 16/16 [00:25<00:00,  1.62s/it]\n"
     ]
    },
    {
     "name": "stdout",
     "output_type": "stream",
     "text": [
      "[133/500][15/16]\tLoss_D: 1.4372\tLoss_G: 0.9758\tD(x): 0.4808\tD(G(z)): 0.4536 / 0.4217\n",
      "Epoch 134\n"
     ]
    },
    {
     "name": "stderr",
     "output_type": "stream",
     "text": [
      "100%|██████████████████████████████████████████████████████████████████████████████████| 16/16 [00:25<00:00,  1.62s/it]\n"
     ]
    },
    {
     "name": "stdout",
     "output_type": "stream",
     "text": [
      "[134/500][15/16]\tLoss_D: 1.4149\tLoss_G: 1.2736\tD(x): 0.5582\tD(G(z)): 0.5341 / 0.3076\n",
      "Epoch 135\n"
     ]
    },
    {
     "name": "stderr",
     "output_type": "stream",
     "text": [
      "100%|██████████████████████████████████████████████████████████████████████████████████| 16/16 [00:25<00:00,  1.61s/it]\n"
     ]
    },
    {
     "name": "stdout",
     "output_type": "stream",
     "text": [
      "[135/500][15/16]\tLoss_D: 1.3218\tLoss_G: 1.3827\tD(x): 0.5574\tD(G(z)): 0.4993 / 0.2750\n",
      "Epoch 136\n"
     ]
    },
    {
     "name": "stderr",
     "output_type": "stream",
     "text": [
      "100%|██████████████████████████████████████████████████████████████████████████████████| 16/16 [00:25<00:00,  1.61s/it]\n"
     ]
    },
    {
     "name": "stdout",
     "output_type": "stream",
     "text": [
      "[136/500][15/16]\tLoss_D: 1.3347\tLoss_G: 1.3740\tD(x): 0.6394\tD(G(z)): 0.5565 / 0.2926\n",
      "Epoch 137\n"
     ]
    },
    {
     "name": "stderr",
     "output_type": "stream",
     "text": [
      "100%|██████████████████████████████████████████████████████████████████████████████████| 16/16 [00:25<00:00,  1.60s/it]\n"
     ]
    },
    {
     "name": "stdout",
     "output_type": "stream",
     "text": [
      "[137/500][15/16]\tLoss_D: 1.4753\tLoss_G: 1.8063\tD(x): 0.6545\tD(G(z)): 0.6259 / 0.2016\n",
      "Epoch 138\n"
     ]
    },
    {
     "name": "stderr",
     "output_type": "stream",
     "text": [
      "100%|██████████████████████████████████████████████████████████████████████████████████| 16/16 [00:25<00:00,  1.61s/it]\n"
     ]
    },
    {
     "name": "stdout",
     "output_type": "stream",
     "text": [
      "[138/500][15/16]\tLoss_D: 1.5158\tLoss_G: 1.4655\tD(x): 0.5921\tD(G(z)): 0.5991 / 0.2700\n",
      "Epoch 139\n"
     ]
    },
    {
     "name": "stderr",
     "output_type": "stream",
     "text": [
      "100%|██████████████████████████████████████████████████████████████████████████████████| 16/16 [00:25<00:00,  1.59s/it]\n"
     ]
    },
    {
     "name": "stdout",
     "output_type": "stream",
     "text": [
      "[139/500][15/16]\tLoss_D: 1.1368\tLoss_G: 1.3549\tD(x): 0.5999\tD(G(z)): 0.4281 / 0.2711\n",
      "Epoch 140\n"
     ]
    },
    {
     "name": "stderr",
     "output_type": "stream",
     "text": [
      "100%|██████████████████████████████████████████████████████████████████████████████████| 16/16 [00:25<00:00,  1.61s/it]\n"
     ]
    },
    {
     "name": "stdout",
     "output_type": "stream",
     "text": [
      "[140/500][15/16]\tLoss_D: 1.3640\tLoss_G: 1.5359\tD(x): 0.5819\tD(G(z)): 0.5315 / 0.2464\n",
      "Epoch 141\n"
     ]
    },
    {
     "name": "stderr",
     "output_type": "stream",
     "text": [
      "100%|██████████████████████████████████████████████████████████████████████████████████| 16/16 [00:26<00:00,  1.63s/it]\n"
     ]
    },
    {
     "name": "stdout",
     "output_type": "stream",
     "text": [
      "[141/500][15/16]\tLoss_D: 1.1286\tLoss_G: 1.3933\tD(x): 0.6041\tD(G(z)): 0.4411 / 0.2736\n",
      "Epoch 142\n"
     ]
    },
    {
     "name": "stderr",
     "output_type": "stream",
     "text": [
      "100%|██████████████████████████████████████████████████████████████████████████████████| 16/16 [00:26<00:00,  1.63s/it]\n"
     ]
    },
    {
     "name": "stdout",
     "output_type": "stream",
     "text": [
      "[142/500][15/16]\tLoss_D: 1.3952\tLoss_G: 1.5317\tD(x): 0.4734\tD(G(z)): 0.4365 / 0.2474\n",
      "Epoch 143\n"
     ]
    },
    {
     "name": "stderr",
     "output_type": "stream",
     "text": [
      "100%|██████████████████████████████████████████████████████████████████████████████████| 16/16 [00:25<00:00,  1.60s/it]\n"
     ]
    },
    {
     "name": "stdout",
     "output_type": "stream",
     "text": [
      "[143/500][15/16]\tLoss_D: 1.3028\tLoss_G: 1.3286\tD(x): 0.5338\tD(G(z)): 0.4439 / 0.2846\n",
      "Epoch 144\n"
     ]
    },
    {
     "name": "stderr",
     "output_type": "stream",
     "text": [
      "100%|██████████████████████████████████████████████████████████████████████████████████| 16/16 [00:25<00:00,  1.61s/it]\n"
     ]
    },
    {
     "name": "stdout",
     "output_type": "stream",
     "text": [
      "[144/500][15/16]\tLoss_D: 1.3036\tLoss_G: 1.8193\tD(x): 0.6460\tD(G(z)): 0.5454 / 0.1913\n",
      "Epoch 145\n"
     ]
    },
    {
     "name": "stderr",
     "output_type": "stream",
     "text": [
      "100%|██████████████████████████████████████████████████████████████████████████████████| 16/16 [00:25<00:00,  1.62s/it]\n"
     ]
    },
    {
     "name": "stdout",
     "output_type": "stream",
     "text": [
      "[145/500][15/16]\tLoss_D: 1.5705\tLoss_G: 0.9490\tD(x): 0.4492\tD(G(z)): 0.4645 / 0.4093\n",
      "Epoch 146\n"
     ]
    },
    {
     "name": "stderr",
     "output_type": "stream",
     "text": [
      "100%|██████████████████████████████████████████████████████████████████████████████████| 16/16 [00:26<00:00,  1.63s/it]\n"
     ]
    },
    {
     "name": "stdout",
     "output_type": "stream",
     "text": [
      "[146/500][15/16]\tLoss_D: 1.3342\tLoss_G: 1.0076\tD(x): 0.4740\tD(G(z)): 0.3693 / 0.3951\n",
      "Epoch 147\n"
     ]
    },
    {
     "name": "stderr",
     "output_type": "stream",
     "text": [
      "100%|██████████████████████████████████████████████████████████████████████████████████| 16/16 [00:25<00:00,  1.60s/it]\n"
     ]
    },
    {
     "name": "stdout",
     "output_type": "stream",
     "text": [
      "[147/500][15/16]\tLoss_D: 1.4162\tLoss_G: 1.1031\tD(x): 0.5267\tD(G(z)): 0.4710 / 0.3513\n",
      "Epoch 148\n"
     ]
    },
    {
     "name": "stderr",
     "output_type": "stream",
     "text": [
      "100%|██████████████████████████████████████████████████████████████████████████████████| 16/16 [00:25<00:00,  1.60s/it]\n"
     ]
    },
    {
     "name": "stdout",
     "output_type": "stream",
     "text": [
      "[148/500][15/16]\tLoss_D: 1.2375\tLoss_G: 1.5989\tD(x): 0.5984\tD(G(z)): 0.4738 / 0.2206\n",
      "Epoch 149\n"
     ]
    },
    {
     "name": "stderr",
     "output_type": "stream",
     "text": [
      "100%|██████████████████████████████████████████████████████████████████████████████████| 16/16 [00:26<00:00,  1.63s/it]\n"
     ]
    },
    {
     "name": "stdout",
     "output_type": "stream",
     "text": [
      "[149/500][15/16]\tLoss_D: 1.3265\tLoss_G: 1.5061\tD(x): 0.6188\tD(G(z)): 0.5260 / 0.2512\n",
      "Epoch 150\n"
     ]
    },
    {
     "name": "stderr",
     "output_type": "stream",
     "text": [
      "100%|██████████████████████████████████████████████████████████████████████████████████| 16/16 [00:25<00:00,  1.62s/it]\n"
     ]
    },
    {
     "name": "stdout",
     "output_type": "stream",
     "text": [
      "[150/500][15/16]\tLoss_D: 1.4278\tLoss_G: 2.0787\tD(x): 0.6106\tD(G(z)): 0.5711 / 0.1535\n",
      "Epoch 151\n"
     ]
    },
    {
     "name": "stderr",
     "output_type": "stream",
     "text": [
      "100%|██████████████████████████████████████████████████████████████████████████████████| 16/16 [00:26<00:00,  1.65s/it]\n"
     ]
    },
    {
     "name": "stdout",
     "output_type": "stream",
     "text": [
      "[151/500][15/16]\tLoss_D: 1.1527\tLoss_G: 1.7914\tD(x): 0.7027\tD(G(z)): 0.5271 / 0.1865\n",
      "Epoch 152\n"
     ]
    },
    {
     "name": "stderr",
     "output_type": "stream",
     "text": [
      "100%|██████████████████████████████████████████████████████████████████████████████████| 16/16 [00:25<00:00,  1.57s/it]\n"
     ]
    },
    {
     "name": "stdout",
     "output_type": "stream",
     "text": [
      "[152/500][15/16]\tLoss_D: 1.2938\tLoss_G: 2.1113\tD(x): 0.6852\tD(G(z)): 0.5544 / 0.1572\n",
      "Epoch 153\n"
     ]
    },
    {
     "name": "stderr",
     "output_type": "stream",
     "text": [
      "100%|██████████████████████████████████████████████████████████████████████████████████| 16/16 [00:25<00:00,  1.57s/it]\n"
     ]
    },
    {
     "name": "stdout",
     "output_type": "stream",
     "text": [
      "[153/500][15/16]\tLoss_D: 1.3935\tLoss_G: 1.1851\tD(x): 0.5343\tD(G(z)): 0.4695 / 0.3209\n",
      "Epoch 154\n"
     ]
    },
    {
     "name": "stderr",
     "output_type": "stream",
     "text": [
      "100%|██████████████████████████████████████████████████████████████████████████████████| 16/16 [00:25<00:00,  1.61s/it]\n"
     ]
    },
    {
     "name": "stdout",
     "output_type": "stream",
     "text": [
      "[154/500][15/16]\tLoss_D: 1.4561\tLoss_G: 1.1686\tD(x): 0.5497\tD(G(z)): 0.5137 / 0.3403\n",
      "Epoch 155\n"
     ]
    },
    {
     "name": "stderr",
     "output_type": "stream",
     "text": [
      "100%|██████████████████████████████████████████████████████████████████████████████████| 16/16 [00:25<00:00,  1.59s/it]\n"
     ]
    },
    {
     "name": "stdout",
     "output_type": "stream",
     "text": [
      "[155/500][15/16]\tLoss_D: 1.2914\tLoss_G: 1.1445\tD(x): 0.4751\tD(G(z)): 0.3776 / 0.3435\n",
      "Epoch 156\n"
     ]
    },
    {
     "name": "stderr",
     "output_type": "stream",
     "text": [
      "100%|██████████████████████████████████████████████████████████████████████████████████| 16/16 [00:25<00:00,  1.61s/it]\n"
     ]
    },
    {
     "name": "stdout",
     "output_type": "stream",
     "text": [
      "[156/500][15/16]\tLoss_D: 1.2755\tLoss_G: 1.0852\tD(x): 0.5381\tD(G(z)): 0.4112 / 0.3636\n",
      "Epoch 157\n"
     ]
    },
    {
     "name": "stderr",
     "output_type": "stream",
     "text": [
      "100%|██████████████████████████████████████████████████████████████████████████████████| 16/16 [00:25<00:00,  1.61s/it]\n"
     ]
    },
    {
     "name": "stdout",
     "output_type": "stream",
     "text": [
      "[157/500][15/16]\tLoss_D: 1.4099\tLoss_G: 1.3651\tD(x): 0.4605\tD(G(z)): 0.4085 / 0.2789\n",
      "Epoch 158\n"
     ]
    },
    {
     "name": "stderr",
     "output_type": "stream",
     "text": [
      "100%|██████████████████████████████████████████████████████████████████████████████████| 16/16 [00:25<00:00,  1.62s/it]\n"
     ]
    },
    {
     "name": "stdout",
     "output_type": "stream",
     "text": [
      "[158/500][15/16]\tLoss_D: 1.1487\tLoss_G: 1.0574\tD(x): 0.5122\tD(G(z)): 0.3231 / 0.3680\n",
      "Epoch 159\n"
     ]
    },
    {
     "name": "stderr",
     "output_type": "stream",
     "text": [
      "100%|██████████████████████████████████████████████████████████████████████████████████| 16/16 [00:24<00:00,  1.56s/it]\n"
     ]
    },
    {
     "name": "stdout",
     "output_type": "stream",
     "text": [
      "[159/500][15/16]\tLoss_D: 1.2362\tLoss_G: 0.8280\tD(x): 0.5631\tD(G(z)): 0.4506 / 0.4628\n",
      "Epoch 160\n"
     ]
    },
    {
     "name": "stderr",
     "output_type": "stream",
     "text": [
      "100%|██████████████████████████████████████████████████████████████████████████████████| 16/16 [00:25<00:00,  1.57s/it]\n"
     ]
    },
    {
     "name": "stdout",
     "output_type": "stream",
     "text": [
      "[160/500][15/16]\tLoss_D: 1.2685\tLoss_G: 1.3011\tD(x): 0.4833\tD(G(z)): 0.3601 / 0.3134\n",
      "Epoch 161\n"
     ]
    },
    {
     "name": "stderr",
     "output_type": "stream",
     "text": [
      "100%|██████████████████████████████████████████████████████████████████████████████████| 16/16 [00:25<00:00,  1.57s/it]\n"
     ]
    },
    {
     "name": "stdout",
     "output_type": "stream",
     "text": [
      "[161/500][15/16]\tLoss_D: 1.4077\tLoss_G: 1.0349\tD(x): 0.3837\tD(G(z)): 0.2837 / 0.3952\n",
      "Epoch 162\n"
     ]
    },
    {
     "name": "stderr",
     "output_type": "stream",
     "text": [
      "100%|██████████████████████████████████████████████████████████████████████████████████| 16/16 [00:26<00:00,  1.63s/it]\n"
     ]
    },
    {
     "name": "stdout",
     "output_type": "stream",
     "text": [
      "[162/500][15/16]\tLoss_D: 1.5138\tLoss_G: 1.7918\tD(x): 0.5884\tD(G(z)): 0.5700 / 0.1831\n",
      "Epoch 163\n"
     ]
    },
    {
     "name": "stderr",
     "output_type": "stream",
     "text": [
      "100%|██████████████████████████████████████████████████████████████████████████████████| 16/16 [00:25<00:00,  1.60s/it]\n"
     ]
    },
    {
     "name": "stdout",
     "output_type": "stream",
     "text": [
      "[163/500][15/16]\tLoss_D: 0.9200\tLoss_G: 1.5796\tD(x): 0.5802\tD(G(z)): 0.2730 / 0.2201\n",
      "Epoch 164\n"
     ]
    },
    {
     "name": "stderr",
     "output_type": "stream",
     "text": [
      "100%|██████████████████████████████████████████████████████████████████████████████████| 16/16 [00:25<00:00,  1.61s/it]\n"
     ]
    },
    {
     "name": "stdout",
     "output_type": "stream",
     "text": [
      "[164/500][15/16]\tLoss_D: 1.1573\tLoss_G: 1.0498\tD(x): 0.4814\tD(G(z)): 0.2883 / 0.3871\n",
      "Epoch 165\n"
     ]
    },
    {
     "name": "stderr",
     "output_type": "stream",
     "text": [
      "100%|██████████████████████████████████████████████████████████████████████████████████| 16/16 [00:25<00:00,  1.60s/it]\n"
     ]
    },
    {
     "name": "stdout",
     "output_type": "stream",
     "text": [
      "[165/500][15/16]\tLoss_D: 1.1741\tLoss_G: 1.4663\tD(x): 0.5460\tD(G(z)): 0.3923 / 0.2605\n",
      "Epoch 166\n"
     ]
    },
    {
     "name": "stderr",
     "output_type": "stream",
     "text": [
      "100%|██████████████████████████████████████████████████████████████████████████████████| 16/16 [00:25<00:00,  1.58s/it]\n"
     ]
    },
    {
     "name": "stdout",
     "output_type": "stream",
     "text": [
      "[166/500][15/16]\tLoss_D: 1.0393\tLoss_G: 1.5831\tD(x): 0.5655\tD(G(z)): 0.3271 / 0.2254\n",
      "Epoch 167\n"
     ]
    },
    {
     "name": "stderr",
     "output_type": "stream",
     "text": [
      "100%|██████████████████████████████████████████████████████████████████████████████████| 16/16 [00:25<00:00,  1.61s/it]\n"
     ]
    },
    {
     "name": "stdout",
     "output_type": "stream",
     "text": [
      "[167/500][15/16]\tLoss_D: 1.6198\tLoss_G: 1.0262\tD(x): 0.3820\tD(G(z)): 0.4199 / 0.3979\n",
      "Epoch 168\n"
     ]
    },
    {
     "name": "stderr",
     "output_type": "stream",
     "text": [
      "100%|██████████████████████████████████████████████████████████████████████████████████| 16/16 [00:25<00:00,  1.59s/it]\n"
     ]
    },
    {
     "name": "stdout",
     "output_type": "stream",
     "text": [
      "[168/500][15/16]\tLoss_D: 1.1504\tLoss_G: 1.2237\tD(x): 0.4641\tD(G(z)): 0.2401 / 0.3237\n",
      "Epoch 169\n"
     ]
    },
    {
     "name": "stderr",
     "output_type": "stream",
     "text": [
      "100%|██████████████████████████████████████████████████████████████████████████████████| 16/16 [00:25<00:00,  1.60s/it]\n"
     ]
    },
    {
     "name": "stdout",
     "output_type": "stream",
     "text": [
      "[169/500][15/16]\tLoss_D: 1.0795\tLoss_G: 1.4620\tD(x): 0.4780\tD(G(z)): 0.2364 / 0.2827\n",
      "Epoch 170\n"
     ]
    },
    {
     "name": "stderr",
     "output_type": "stream",
     "text": [
      "100%|██████████████████████████████████████████████████████████████████████████████████| 16/16 [00:26<00:00,  1.64s/it]\n"
     ]
    },
    {
     "name": "stdout",
     "output_type": "stream",
     "text": [
      "[170/500][15/16]\tLoss_D: 1.3684\tLoss_G: 1.5006\tD(x): 0.4538\tD(G(z)): 0.3579 / 0.2861\n",
      "Epoch 171\n"
     ]
    },
    {
     "name": "stderr",
     "output_type": "stream",
     "text": [
      "100%|██████████████████████████████████████████████████████████████████████████████████| 16/16 [00:25<00:00,  1.58s/it]\n"
     ]
    },
    {
     "name": "stdout",
     "output_type": "stream",
     "text": [
      "[171/500][15/16]\tLoss_D: 1.2728\tLoss_G: 1.6928\tD(x): 0.5775\tD(G(z)): 0.4531 / 0.2227\n",
      "Epoch 172\n"
     ]
    },
    {
     "name": "stderr",
     "output_type": "stream",
     "text": [
      "100%|██████████████████████████████████████████████████████████████████████████████████| 16/16 [00:25<00:00,  1.59s/it]\n"
     ]
    },
    {
     "name": "stdout",
     "output_type": "stream",
     "text": [
      "[172/500][15/16]\tLoss_D: 1.3281\tLoss_G: 1.7945\tD(x): 0.6985\tD(G(z)): 0.5850 / 0.2036\n",
      "Epoch 173\n"
     ]
    },
    {
     "name": "stderr",
     "output_type": "stream",
     "text": [
      "100%|██████████████████████████████████████████████████████████████████████████████████| 16/16 [00:25<00:00,  1.60s/it]\n"
     ]
    },
    {
     "name": "stdout",
     "output_type": "stream",
     "text": [
      "[173/500][15/16]\tLoss_D: 1.2427\tLoss_G: 1.2017\tD(x): 0.4839\tD(G(z)): 0.3141 / 0.3247\n",
      "Epoch 174\n"
     ]
    },
    {
     "name": "stderr",
     "output_type": "stream",
     "text": [
      "100%|██████████████████████████████████████████████████████████████████████████████████| 16/16 [00:25<00:00,  1.57s/it]\n"
     ]
    },
    {
     "name": "stdout",
     "output_type": "stream",
     "text": [
      "[174/500][15/16]\tLoss_D: 1.0518\tLoss_G: 2.6558\tD(x): 0.7716\tD(G(z)): 0.5133 / 0.0961\n",
      "Epoch 175\n"
     ]
    },
    {
     "name": "stderr",
     "output_type": "stream",
     "text": [
      "100%|██████████████████████████████████████████████████████████████████████████████████| 16/16 [00:25<00:00,  1.61s/it]\n"
     ]
    },
    {
     "name": "stdout",
     "output_type": "stream",
     "text": [
      "[175/500][15/16]\tLoss_D: 1.1090\tLoss_G: 1.2645\tD(x): 0.5524\tD(G(z)): 0.3346 / 0.3085\n",
      "Epoch 176\n"
     ]
    },
    {
     "name": "stderr",
     "output_type": "stream",
     "text": [
      "100%|██████████████████████████████████████████████████████████████████████████████████| 16/16 [00:25<00:00,  1.60s/it]\n"
     ]
    },
    {
     "name": "stdout",
     "output_type": "stream",
     "text": [
      "[176/500][15/16]\tLoss_D: 1.3272\tLoss_G: 1.9071\tD(x): 0.6314\tD(G(z)): 0.5269 / 0.1655\n",
      "Epoch 177\n"
     ]
    },
    {
     "name": "stderr",
     "output_type": "stream",
     "text": [
      "100%|██████████████████████████████████████████████████████████████████████████████████| 16/16 [00:26<00:00,  1.63s/it]\n"
     ]
    },
    {
     "name": "stdout",
     "output_type": "stream",
     "text": [
      "[177/500][15/16]\tLoss_D: 1.2549\tLoss_G: 1.4378\tD(x): 0.4833\tD(G(z)): 0.3499 / 0.2861\n",
      "Epoch 178\n"
     ]
    },
    {
     "name": "stderr",
     "output_type": "stream",
     "text": [
      "100%|██████████████████████████████████████████████████████████████████████████████████| 16/16 [00:26<00:00,  1.63s/it]\n"
     ]
    },
    {
     "name": "stdout",
     "output_type": "stream",
     "text": [
      "[178/500][15/16]\tLoss_D: 1.3810\tLoss_G: 1.2291\tD(x): 0.3614\tD(G(z)): 0.2389 / 0.3089\n",
      "Epoch 179\n"
     ]
    },
    {
     "name": "stderr",
     "output_type": "stream",
     "text": [
      "100%|██████████████████████████████████████████████████████████████████████████████████| 16/16 [00:26<00:00,  1.66s/it]\n"
     ]
    },
    {
     "name": "stdout",
     "output_type": "stream",
     "text": [
      "[179/500][15/16]\tLoss_D: 1.4478\tLoss_G: 1.5537\tD(x): 0.4265\tD(G(z)): 0.3355 / 0.2528\n",
      "Epoch 180\n"
     ]
    },
    {
     "name": "stderr",
     "output_type": "stream",
     "text": [
      "100%|██████████████████████████████████████████████████████████████████████████████████| 16/16 [00:26<00:00,  1.66s/it]\n"
     ]
    },
    {
     "name": "stdout",
     "output_type": "stream",
     "text": [
      "[180/500][15/16]\tLoss_D: 1.2683\tLoss_G: 2.0979\tD(x): 0.7514\tD(G(z)): 0.5456 / 0.1619\n",
      "Epoch 181\n"
     ]
    },
    {
     "name": "stderr",
     "output_type": "stream",
     "text": [
      "100%|██████████████████████████████████████████████████████████████████████████████████| 16/16 [00:26<00:00,  1.66s/it]\n"
     ]
    },
    {
     "name": "stdout",
     "output_type": "stream",
     "text": [
      "[181/500][15/16]\tLoss_D: 0.9807\tLoss_G: 2.1697\tD(x): 0.6725\tD(G(z)): 0.3938 / 0.1425\n",
      "Epoch 182\n"
     ]
    },
    {
     "name": "stderr",
     "output_type": "stream",
     "text": [
      "100%|██████████████████████████████████████████████████████████████████████████████████| 16/16 [00:25<00:00,  1.60s/it]\n"
     ]
    },
    {
     "name": "stdout",
     "output_type": "stream",
     "text": [
      "[182/500][15/16]\tLoss_D: 1.1281\tLoss_G: 1.2025\tD(x): 0.5863\tD(G(z)): 0.4200 / 0.3177\n",
      "Epoch 183\n"
     ]
    },
    {
     "name": "stderr",
     "output_type": "stream",
     "text": [
      "100%|██████████████████████████████████████████████████████████████████████████████████| 16/16 [00:25<00:00,  1.62s/it]\n"
     ]
    },
    {
     "name": "stdout",
     "output_type": "stream",
     "text": [
      "[183/500][15/16]\tLoss_D: 1.1650\tLoss_G: 1.1670\tD(x): 0.6101\tD(G(z)): 0.4506 / 0.3408\n",
      "Epoch 184\n"
     ]
    },
    {
     "name": "stderr",
     "output_type": "stream",
     "text": [
      "100%|██████████████████████████████████████████████████████████████████████████████████| 16/16 [00:25<00:00,  1.62s/it]\n"
     ]
    },
    {
     "name": "stdout",
     "output_type": "stream",
     "text": [
      "[184/500][15/16]\tLoss_D: 1.1866\tLoss_G: 1.3851\tD(x): 0.5236\tD(G(z)): 0.2942 / 0.2834\n",
      "Epoch 185\n"
     ]
    },
    {
     "name": "stderr",
     "output_type": "stream",
     "text": [
      "100%|██████████████████████████████████████████████████████████████████████████████████| 16/16 [00:25<00:00,  1.59s/it]\n"
     ]
    },
    {
     "name": "stdout",
     "output_type": "stream",
     "text": [
      "[185/500][15/16]\tLoss_D: 1.2692\tLoss_G: 2.0245\tD(x): 0.6570\tD(G(z)): 0.4996 / 0.1722\n",
      "Epoch 186\n"
     ]
    },
    {
     "name": "stderr",
     "output_type": "stream",
     "text": [
      "100%|██████████████████████████████████████████████████████████████████████████████████| 16/16 [00:25<00:00,  1.61s/it]\n"
     ]
    },
    {
     "name": "stdout",
     "output_type": "stream",
     "text": [
      "[186/500][15/16]\tLoss_D: 1.1251\tLoss_G: 1.4144\tD(x): 0.4670\tD(G(z)): 0.2337 / 0.2752\n",
      "Epoch 187\n"
     ]
    },
    {
     "name": "stderr",
     "output_type": "stream",
     "text": [
      "100%|██████████████████████████████████████████████████████████████████████████████████| 16/16 [00:26<00:00,  1.63s/it]\n"
     ]
    },
    {
     "name": "stdout",
     "output_type": "stream",
     "text": [
      "[187/500][15/16]\tLoss_D: 1.0843\tLoss_G: 1.3478\tD(x): 0.5021\tD(G(z)): 0.2535 / 0.2948\n",
      "Epoch 188\n"
     ]
    },
    {
     "name": "stderr",
     "output_type": "stream",
     "text": [
      "100%|██████████████████████████████████████████████████████████████████████████████████| 16/16 [00:26<00:00,  1.63s/it]\n"
     ]
    },
    {
     "name": "stdout",
     "output_type": "stream",
     "text": [
      "[188/500][15/16]\tLoss_D: 1.3493\tLoss_G: 1.7574\tD(x): 0.6922\tD(G(z)): 0.5676 / 0.2099\n",
      "Epoch 189\n"
     ]
    },
    {
     "name": "stderr",
     "output_type": "stream",
     "text": [
      "100%|██████████████████████████████████████████████████████████████████████████████████| 16/16 [00:25<00:00,  1.61s/it]\n"
     ]
    },
    {
     "name": "stdout",
     "output_type": "stream",
     "text": [
      "[189/500][15/16]\tLoss_D: 1.2631\tLoss_G: 1.3500\tD(x): 0.4616\tD(G(z)): 0.2457 / 0.2917\n",
      "Epoch 190\n"
     ]
    },
    {
     "name": "stderr",
     "output_type": "stream",
     "text": [
      "100%|██████████████████████████████████████████████████████████████████████████████████| 16/16 [00:26<00:00,  1.63s/it]\n"
     ]
    },
    {
     "name": "stdout",
     "output_type": "stream",
     "text": [
      "[190/500][15/16]\tLoss_D: 1.0617\tLoss_G: 1.7240\tD(x): 0.5722\tD(G(z)): 0.3396 / 0.2211\n",
      "Epoch 191\n"
     ]
    },
    {
     "name": "stderr",
     "output_type": "stream",
     "text": [
      "100%|██████████████████████████████████████████████████████████████████████████████████| 16/16 [00:25<00:00,  1.60s/it]\n"
     ]
    },
    {
     "name": "stdout",
     "output_type": "stream",
     "text": [
      "[191/500][15/16]\tLoss_D: 1.4961\tLoss_G: 1.6397\tD(x): 0.4028\tD(G(z)): 0.3476 / 0.2302\n",
      "Epoch 192\n"
     ]
    },
    {
     "name": "stderr",
     "output_type": "stream",
     "text": [
      "100%|██████████████████████████████████████████████████████████████████████████████████| 16/16 [00:25<00:00,  1.61s/it]\n"
     ]
    },
    {
     "name": "stdout",
     "output_type": "stream",
     "text": [
      "[192/500][15/16]\tLoss_D: 0.9516\tLoss_G: 1.8230\tD(x): 0.6221\tD(G(z)): 0.3271 / 0.1744\n",
      "Epoch 193\n"
     ]
    },
    {
     "name": "stderr",
     "output_type": "stream",
     "text": [
      "100%|██████████████████████████████████████████████████████████████████████████████████| 16/16 [00:25<00:00,  1.59s/it]\n"
     ]
    },
    {
     "name": "stdout",
     "output_type": "stream",
     "text": [
      "[193/500][15/16]\tLoss_D: 1.5939\tLoss_G: 1.0148\tD(x): 0.3808\tD(G(z)): 0.3453 / 0.4263\n",
      "Epoch 194\n"
     ]
    },
    {
     "name": "stderr",
     "output_type": "stream",
     "text": [
      "100%|██████████████████████████████████████████████████████████████████████████████████| 16/16 [00:25<00:00,  1.57s/it]\n"
     ]
    },
    {
     "name": "stdout",
     "output_type": "stream",
     "text": [
      "[194/500][15/16]\tLoss_D: 0.8851\tLoss_G: 1.5445\tD(x): 0.5493\tD(G(z)): 0.2063 / 0.2639\n",
      "Epoch 195\n"
     ]
    },
    {
     "name": "stderr",
     "output_type": "stream",
     "text": [
      "100%|██████████████████████████████████████████████████████████████████████████████████| 16/16 [00:25<00:00,  1.60s/it]\n"
     ]
    },
    {
     "name": "stdout",
     "output_type": "stream",
     "text": [
      "[195/500][15/16]\tLoss_D: 1.1994\tLoss_G: 1.4889\tD(x): 0.5615\tD(G(z)): 0.3880 / 0.2750\n",
      "Epoch 196\n"
     ]
    },
    {
     "name": "stderr",
     "output_type": "stream",
     "text": [
      "100%|██████████████████████████████████████████████████████████████████████████████████| 16/16 [00:25<00:00,  1.60s/it]\n"
     ]
    },
    {
     "name": "stdout",
     "output_type": "stream",
     "text": [
      "[196/500][15/16]\tLoss_D: 0.8177\tLoss_G: 2.2317\tD(x): 0.6252\tD(G(z)): 0.2484 / 0.1293\n",
      "Epoch 197\n"
     ]
    },
    {
     "name": "stderr",
     "output_type": "stream",
     "text": [
      "100%|██████████████████████████████████████████████████████████████████████████████████| 16/16 [00:25<00:00,  1.60s/it]\n"
     ]
    },
    {
     "name": "stdout",
     "output_type": "stream",
     "text": [
      "[197/500][15/16]\tLoss_D: 1.1049\tLoss_G: 2.1304\tD(x): 0.6081\tD(G(z)): 0.3658 / 0.1465\n",
      "Epoch 198\n"
     ]
    },
    {
     "name": "stderr",
     "output_type": "stream",
     "text": [
      "100%|██████████████████████████████████████████████████████████████████████████████████| 16/16 [00:25<00:00,  1.60s/it]\n"
     ]
    },
    {
     "name": "stdout",
     "output_type": "stream",
     "text": [
      "[198/500][15/16]\tLoss_D: 1.2101\tLoss_G: 1.5055\tD(x): 0.6218\tD(G(z)): 0.4612 / 0.2628\n",
      "Epoch 199\n"
     ]
    },
    {
     "name": "stderr",
     "output_type": "stream",
     "text": [
      "100%|██████████████████████████████████████████████████████████████████████████████████| 16/16 [00:24<00:00,  1.55s/it]\n"
     ]
    },
    {
     "name": "stdout",
     "output_type": "stream",
     "text": [
      "[199/500][15/16]\tLoss_D: 1.0988\tLoss_G: 3.1027\tD(x): 0.6509\tD(G(z)): 0.4382 / 0.0663\n",
      "Epoch 200\n"
     ]
    },
    {
     "name": "stderr",
     "output_type": "stream",
     "text": [
      "100%|██████████████████████████████████████████████████████████████████████████████████| 16/16 [00:25<00:00,  1.59s/it]\n"
     ]
    },
    {
     "name": "stdout",
     "output_type": "stream",
     "text": [
      "[200/500][15/16]\tLoss_D: 0.9261\tLoss_G: 2.3358\tD(x): 0.6558\tD(G(z)): 0.3428 / 0.1416\n",
      "Epoch 201\n"
     ]
    },
    {
     "name": "stderr",
     "output_type": "stream",
     "text": [
      "100%|██████████████████████████████████████████████████████████████████████████████████| 16/16 [00:25<00:00,  1.60s/it]\n"
     ]
    },
    {
     "name": "stdout",
     "output_type": "stream",
     "text": [
      "[201/500][15/16]\tLoss_D: 1.2736\tLoss_G: 2.7069\tD(x): 0.7443\tD(G(z)): 0.5452 / 0.0799\n",
      "Epoch 202\n"
     ]
    },
    {
     "name": "stderr",
     "output_type": "stream",
     "text": [
      "100%|██████████████████████████████████████████████████████████████████████████████████| 16/16 [00:26<00:00,  1.63s/it]\n"
     ]
    },
    {
     "name": "stdout",
     "output_type": "stream",
     "text": [
      "[202/500][15/16]\tLoss_D: 1.0900\tLoss_G: 1.6615\tD(x): 0.5694\tD(G(z)): 0.2810 / 0.2713\n",
      "Epoch 203\n"
     ]
    },
    {
     "name": "stderr",
     "output_type": "stream",
     "text": [
      "100%|██████████████████████████████████████████████████████████████████████████████████| 16/16 [00:25<00:00,  1.62s/it]\n"
     ]
    },
    {
     "name": "stdout",
     "output_type": "stream",
     "text": [
      "[203/500][15/16]\tLoss_D: 1.2039\tLoss_G: 2.8035\tD(x): 0.7256\tD(G(z)): 0.5340 / 0.0763\n",
      "Epoch 204\n"
     ]
    },
    {
     "name": "stderr",
     "output_type": "stream",
     "text": [
      "100%|██████████████████████████████████████████████████████████████████████████████████| 16/16 [00:25<00:00,  1.58s/it]\n"
     ]
    },
    {
     "name": "stdout",
     "output_type": "stream",
     "text": [
      "[204/500][15/16]\tLoss_D: 1.0677\tLoss_G: 1.9044\tD(x): 0.5031\tD(G(z)): 0.2538 / 0.2097\n",
      "Epoch 205\n"
     ]
    },
    {
     "name": "stderr",
     "output_type": "stream",
     "text": [
      "100%|██████████████████████████████████████████████████████████████████████████████████| 16/16 [00:25<00:00,  1.59s/it]\n"
     ]
    },
    {
     "name": "stdout",
     "output_type": "stream",
     "text": [
      "[205/500][15/16]\tLoss_D: 0.9492\tLoss_G: 1.9595\tD(x): 0.7476\tD(G(z)): 0.4452 / 0.1934\n",
      "Epoch 206\n"
     ]
    },
    {
     "name": "stderr",
     "output_type": "stream",
     "text": [
      "100%|██████████████████████████████████████████████████████████████████████████████████| 16/16 [00:25<00:00,  1.62s/it]\n"
     ]
    },
    {
     "name": "stdout",
     "output_type": "stream",
     "text": [
      "[206/500][15/16]\tLoss_D: 0.9894\tLoss_G: 2.2618\tD(x): 0.5266\tD(G(z)): 0.2027 / 0.1425\n",
      "Epoch 207\n"
     ]
    },
    {
     "name": "stderr",
     "output_type": "stream",
     "text": [
      "100%|██████████████████████████████████████████████████████████████████████████████████| 16/16 [00:25<00:00,  1.58s/it]\n"
     ]
    },
    {
     "name": "stdout",
     "output_type": "stream",
     "text": [
      "[207/500][15/16]\tLoss_D: 1.2145\tLoss_G: 4.5633\tD(x): 0.7731\tD(G(z)): 0.5378 / 0.0172\n",
      "Epoch 208\n"
     ]
    },
    {
     "name": "stderr",
     "output_type": "stream",
     "text": [
      "100%|██████████████████████████████████████████████████████████████████████████████████| 16/16 [00:25<00:00,  1.59s/it]\n"
     ]
    },
    {
     "name": "stdout",
     "output_type": "stream",
     "text": [
      "[208/500][15/16]\tLoss_D: 1.1602\tLoss_G: 1.8893\tD(x): 0.6538\tD(G(z)): 0.4157 / 0.1717\n",
      "Epoch 209\n"
     ]
    },
    {
     "name": "stderr",
     "output_type": "stream",
     "text": [
      "100%|██████████████████████████████████████████████████████████████████████████████████| 16/16 [00:25<00:00,  1.60s/it]\n"
     ]
    },
    {
     "name": "stdout",
     "output_type": "stream",
     "text": [
      "[209/500][15/16]\tLoss_D: 1.0388\tLoss_G: 2.8713\tD(x): 0.7300\tD(G(z)): 0.4569 / 0.0838\n",
      "Epoch 210\n"
     ]
    },
    {
     "name": "stderr",
     "output_type": "stream",
     "text": [
      "100%|██████████████████████████████████████████████████████████████████████████████████| 16/16 [00:25<00:00,  1.62s/it]\n"
     ]
    },
    {
     "name": "stdout",
     "output_type": "stream",
     "text": [
      "[210/500][15/16]\tLoss_D: 1.3224\tLoss_G: 1.7121\tD(x): 0.4915\tD(G(z)): 0.3545 / 0.2145\n",
      "Epoch 211\n"
     ]
    },
    {
     "name": "stderr",
     "output_type": "stream",
     "text": [
      "100%|██████████████████████████████████████████████████████████████████████████████████| 16/16 [00:25<00:00,  1.59s/it]\n"
     ]
    },
    {
     "name": "stdout",
     "output_type": "stream",
     "text": [
      "[211/500][15/16]\tLoss_D: 0.9077\tLoss_G: 1.6747\tD(x): 0.6028\tD(G(z)): 0.2530 / 0.2336\n",
      "Epoch 212\n"
     ]
    },
    {
     "name": "stderr",
     "output_type": "stream",
     "text": [
      "100%|██████████████████████████████████████████████████████████████████████████████████| 16/16 [00:26<00:00,  1.63s/it]\n"
     ]
    },
    {
     "name": "stdout",
     "output_type": "stream",
     "text": [
      "[212/500][15/16]\tLoss_D: 0.6649\tLoss_G: 3.3249\tD(x): 0.8323\tD(G(z)): 0.3546 / 0.0512\n",
      "Epoch 213\n"
     ]
    },
    {
     "name": "stderr",
     "output_type": "stream",
     "text": [
      "100%|██████████████████████████████████████████████████████████████████████████████████| 16/16 [00:25<00:00,  1.60s/it]\n"
     ]
    },
    {
     "name": "stdout",
     "output_type": "stream",
     "text": [
      "[213/500][15/16]\tLoss_D: 0.7334\tLoss_G: 2.2394\tD(x): 0.5988\tD(G(z)): 0.1576 / 0.1424\n",
      "Epoch 214\n"
     ]
    },
    {
     "name": "stderr",
     "output_type": "stream",
     "text": [
      "100%|██████████████████████████████████████████████████████████████████████████████████| 16/16 [00:25<00:00,  1.61s/it]\n"
     ]
    },
    {
     "name": "stdout",
     "output_type": "stream",
     "text": [
      "[214/500][15/16]\tLoss_D: 1.2310\tLoss_G: 2.6195\tD(x): 0.6304\tD(G(z)): 0.4780 / 0.0945\n",
      "Epoch 215\n"
     ]
    },
    {
     "name": "stderr",
     "output_type": "stream",
     "text": [
      "100%|██████████████████████████████████████████████████████████████████████████████████| 16/16 [00:25<00:00,  1.61s/it]\n"
     ]
    },
    {
     "name": "stdout",
     "output_type": "stream",
     "text": [
      "[215/500][15/16]\tLoss_D: 1.4720\tLoss_G: 4.5614\tD(x): 0.8248\tD(G(z)): 0.6456 / 0.0163\n",
      "Epoch 216\n"
     ]
    },
    {
     "name": "stderr",
     "output_type": "stream",
     "text": [
      "100%|██████████████████████████████████████████████████████████████████████████████████| 16/16 [00:25<00:00,  1.59s/it]\n"
     ]
    },
    {
     "name": "stdout",
     "output_type": "stream",
     "text": [
      "[216/500][15/16]\tLoss_D: 1.0298\tLoss_G: 1.8191\tD(x): 0.6752\tD(G(z)): 0.4103 / 0.1969\n",
      "Epoch 217\n"
     ]
    },
    {
     "name": "stderr",
     "output_type": "stream",
     "text": [
      "100%|██████████████████████████████████████████████████████████████████████████████████| 16/16 [00:25<00:00,  1.61s/it]\n"
     ]
    },
    {
     "name": "stdout",
     "output_type": "stream",
     "text": [
      "[217/500][15/16]\tLoss_D: 1.5613\tLoss_G: 1.3437\tD(x): 0.3966\tD(G(z)): 0.2557 / 0.3332\n",
      "Epoch 218\n"
     ]
    },
    {
     "name": "stderr",
     "output_type": "stream",
     "text": [
      "100%|██████████████████████████████████████████████████████████████████████████████████| 16/16 [00:26<00:00,  1.64s/it]\n"
     ]
    },
    {
     "name": "stdout",
     "output_type": "stream",
     "text": [
      "[218/500][15/16]\tLoss_D: 1.1109\tLoss_G: 4.1527\tD(x): 0.7349\tD(G(z)): 0.4916 / 0.0259\n",
      "Epoch 219\n"
     ]
    },
    {
     "name": "stderr",
     "output_type": "stream",
     "text": [
      "100%|██████████████████████████████████████████████████████████████████████████████████| 16/16 [00:26<00:00,  1.66s/it]\n"
     ]
    },
    {
     "name": "stdout",
     "output_type": "stream",
     "text": [
      "[219/500][15/16]\tLoss_D: 1.0215\tLoss_G: 2.1416\tD(x): 0.7061\tD(G(z)): 0.4357 / 0.1699\n",
      "Epoch 220\n"
     ]
    },
    {
     "name": "stderr",
     "output_type": "stream",
     "text": [
      "100%|██████████████████████████████████████████████████████████████████████████████████| 16/16 [00:25<00:00,  1.61s/it]\n"
     ]
    },
    {
     "name": "stdout",
     "output_type": "stream",
     "text": [
      "[220/500][15/16]\tLoss_D: 0.9647\tLoss_G: 1.4330\tD(x): 0.5834\tD(G(z)): 0.2817 / 0.2924\n",
      "Epoch 221\n"
     ]
    },
    {
     "name": "stderr",
     "output_type": "stream",
     "text": [
      "100%|██████████████████████████████████████████████████████████████████████████████████| 16/16 [00:25<00:00,  1.60s/it]\n"
     ]
    },
    {
     "name": "stdout",
     "output_type": "stream",
     "text": [
      "[221/500][15/16]\tLoss_D: 1.1802\tLoss_G: 2.8984\tD(x): 0.7110\tD(G(z)): 0.4847 / 0.0792\n",
      "Epoch 222\n"
     ]
    },
    {
     "name": "stderr",
     "output_type": "stream",
     "text": [
      "100%|██████████████████████████████████████████████████████████████████████████████████| 16/16 [00:25<00:00,  1.59s/it]\n"
     ]
    },
    {
     "name": "stdout",
     "output_type": "stream",
     "text": [
      "[222/500][15/16]\tLoss_D: 0.9171\tLoss_G: 2.9827\tD(x): 0.8297\tD(G(z)): 0.4486 / 0.0786\n",
      "Epoch 223\n"
     ]
    },
    {
     "name": "stderr",
     "output_type": "stream",
     "text": [
      "100%|██████████████████████████████████████████████████████████████████████████████████| 16/16 [00:25<00:00,  1.59s/it]\n"
     ]
    },
    {
     "name": "stdout",
     "output_type": "stream",
     "text": [
      "[223/500][15/16]\tLoss_D: 1.2604\tLoss_G: 1.7700\tD(x): 0.4935\tD(G(z)): 0.2624 / 0.2379\n",
      "Epoch 224\n"
     ]
    },
    {
     "name": "stderr",
     "output_type": "stream",
     "text": [
      "100%|██████████████████████████████████████████████████████████████████████████████████| 16/16 [00:25<00:00,  1.61s/it]\n"
     ]
    },
    {
     "name": "stdout",
     "output_type": "stream",
     "text": [
      "[224/500][15/16]\tLoss_D: 1.2214\tLoss_G: 3.1618\tD(x): 0.7397\tD(G(z)): 0.5342 / 0.0705\n",
      "Epoch 225\n"
     ]
    },
    {
     "name": "stderr",
     "output_type": "stream",
     "text": [
      "100%|██████████████████████████████████████████████████████████████████████████████████| 16/16 [00:25<00:00,  1.59s/it]\n"
     ]
    },
    {
     "name": "stdout",
     "output_type": "stream",
     "text": [
      "[225/500][15/16]\tLoss_D: 0.9475\tLoss_G: 2.5032\tD(x): 0.5625\tD(G(z)): 0.2471 / 0.1079\n",
      "Epoch 226\n"
     ]
    },
    {
     "name": "stderr",
     "output_type": "stream",
     "text": [
      "100%|██████████████████████████████████████████████████████████████████████████████████| 16/16 [00:25<00:00,  1.58s/it]\n"
     ]
    },
    {
     "name": "stdout",
     "output_type": "stream",
     "text": [
      "[226/500][15/16]\tLoss_D: 1.0444\tLoss_G: 3.0670\tD(x): 0.7823\tD(G(z)): 0.4778 / 0.0679\n",
      "Epoch 227\n"
     ]
    },
    {
     "name": "stderr",
     "output_type": "stream",
     "text": [
      "100%|██████████████████████████████████████████████████████████████████████████████████| 16/16 [00:26<00:00,  1.63s/it]\n"
     ]
    },
    {
     "name": "stdout",
     "output_type": "stream",
     "text": [
      "[227/500][15/16]\tLoss_D: 1.3401\tLoss_G: 1.7602\tD(x): 0.5732\tD(G(z)): 0.4094 / 0.2176\n",
      "Epoch 228\n"
     ]
    },
    {
     "name": "stderr",
     "output_type": "stream",
     "text": [
      "100%|██████████████████████████████████████████████████████████████████████████████████| 16/16 [00:26<00:00,  1.64s/it]\n"
     ]
    },
    {
     "name": "stdout",
     "output_type": "stream",
     "text": [
      "[228/500][15/16]\tLoss_D: 1.4661\tLoss_G: 1.4601\tD(x): 0.2802\tD(G(z)): 0.0388 / 0.2646\n",
      "Epoch 229\n"
     ]
    },
    {
     "name": "stderr",
     "output_type": "stream",
     "text": [
      "100%|██████████████████████████████████████████████████████████████████████████████████| 16/16 [00:25<00:00,  1.59s/it]\n"
     ]
    },
    {
     "name": "stdout",
     "output_type": "stream",
     "text": [
      "[229/500][15/16]\tLoss_D: 0.9820\tLoss_G: 2.0147\tD(x): 0.6855\tD(G(z)): 0.3989 / 0.1800\n",
      "Epoch 230\n"
     ]
    },
    {
     "name": "stderr",
     "output_type": "stream",
     "text": [
      "100%|██████████████████████████████████████████████████████████████████████████████████| 16/16 [00:25<00:00,  1.58s/it]\n"
     ]
    },
    {
     "name": "stdout",
     "output_type": "stream",
     "text": [
      "[230/500][15/16]\tLoss_D: 0.9706\tLoss_G: 1.4056\tD(x): 0.5799\tD(G(z)): 0.2278 / 0.2892\n",
      "Epoch 231\n"
     ]
    },
    {
     "name": "stderr",
     "output_type": "stream",
     "text": [
      "100%|██████████████████████████████████████████████████████████████████████████████████| 16/16 [00:26<00:00,  1.63s/it]\n"
     ]
    },
    {
     "name": "stdout",
     "output_type": "stream",
     "text": [
      "[231/500][15/16]\tLoss_D: 0.8064\tLoss_G: 2.4617\tD(x): 0.7594\tD(G(z)): 0.3520 / 0.1161\n",
      "Epoch 232\n"
     ]
    },
    {
     "name": "stderr",
     "output_type": "stream",
     "text": [
      "100%|██████████████████████████████████████████████████████████████████████████████████| 16/16 [00:25<00:00,  1.57s/it]\n"
     ]
    },
    {
     "name": "stdout",
     "output_type": "stream",
     "text": [
      "[232/500][15/16]\tLoss_D: 0.6279\tLoss_G: 2.5231\tD(x): 0.8518\tD(G(z)): 0.3347 / 0.1097\n",
      "Epoch 233\n"
     ]
    },
    {
     "name": "stderr",
     "output_type": "stream",
     "text": [
      "100%|██████████████████████████████████████████████████████████████████████████████████| 16/16 [00:25<00:00,  1.60s/it]\n"
     ]
    },
    {
     "name": "stdout",
     "output_type": "stream",
     "text": [
      "[233/500][15/16]\tLoss_D: 1.3798\tLoss_G: 4.3452\tD(x): 0.8898\tD(G(z)): 0.6339 / 0.0182\n",
      "Epoch 234\n"
     ]
    },
    {
     "name": "stderr",
     "output_type": "stream",
     "text": [
      "100%|██████████████████████████████████████████████████████████████████████████████████| 16/16 [00:25<00:00,  1.60s/it]\n"
     ]
    },
    {
     "name": "stdout",
     "output_type": "stream",
     "text": [
      "[234/500][15/16]\tLoss_D: 0.9020\tLoss_G: 2.7601\tD(x): 0.6949\tD(G(z)): 0.3444 / 0.0909\n",
      "Epoch 235\n"
     ]
    },
    {
     "name": "stderr",
     "output_type": "stream",
     "text": [
      "100%|██████████████████████████████████████████████████████████████████████████████████| 16/16 [00:25<00:00,  1.59s/it]\n"
     ]
    },
    {
     "name": "stdout",
     "output_type": "stream",
     "text": [
      "[235/500][15/16]\tLoss_D: 0.7730\tLoss_G: 2.1289\tD(x): 0.7889\tD(G(z)): 0.3610 / 0.1781\n",
      "Epoch 236\n"
     ]
    },
    {
     "name": "stderr",
     "output_type": "stream",
     "text": [
      "100%|██████████████████████████████████████████████████████████████████████████████████| 16/16 [00:25<00:00,  1.59s/it]\n"
     ]
    },
    {
     "name": "stdout",
     "output_type": "stream",
     "text": [
      "[236/500][15/16]\tLoss_D: 1.0672\tLoss_G: 1.3653\tD(x): 0.5093\tD(G(z)): 0.1960 / 0.3249\n",
      "Epoch 237\n"
     ]
    },
    {
     "name": "stderr",
     "output_type": "stream",
     "text": [
      "100%|██████████████████████████████████████████████████████████████████████████████████| 16/16 [00:25<00:00,  1.60s/it]\n"
     ]
    },
    {
     "name": "stdout",
     "output_type": "stream",
     "text": [
      "[237/500][15/16]\tLoss_D: 0.7513\tLoss_G: 3.0465\tD(x): 0.7751\tD(G(z)): 0.3218 / 0.0813\n",
      "Epoch 238\n"
     ]
    },
    {
     "name": "stderr",
     "output_type": "stream",
     "text": [
      "100%|██████████████████████████████████████████████████████████████████████████████████| 16/16 [00:25<00:00,  1.60s/it]\n"
     ]
    },
    {
     "name": "stdout",
     "output_type": "stream",
     "text": [
      "[238/500][15/16]\tLoss_D: 0.7886\tLoss_G: 2.4709\tD(x): 0.6270\tD(G(z)): 0.1561 / 0.1117\n",
      "Epoch 239\n"
     ]
    },
    {
     "name": "stderr",
     "output_type": "stream",
     "text": [
      "100%|██████████████████████████████████████████████████████████████████████████████████| 16/16 [00:26<00:00,  1.66s/it]\n"
     ]
    },
    {
     "name": "stdout",
     "output_type": "stream",
     "text": [
      "[239/500][15/16]\tLoss_D: 0.7000\tLoss_G: 2.0384\tD(x): 0.6440\tD(G(z)): 0.1578 / 0.2037\n",
      "Epoch 240\n"
     ]
    },
    {
     "name": "stderr",
     "output_type": "stream",
     "text": [
      "100%|██████████████████████████████████████████████████████████████████████████████████| 16/16 [00:30<00:00,  1.93s/it]\n"
     ]
    },
    {
     "name": "stdout",
     "output_type": "stream",
     "text": [
      "[240/500][15/16]\tLoss_D: 0.9388\tLoss_G: 2.9060\tD(x): 0.7564\tD(G(z)): 0.4187 / 0.1028\n",
      "Epoch 241\n"
     ]
    },
    {
     "name": "stderr",
     "output_type": "stream",
     "text": [
      "100%|██████████████████████████████████████████████████████████████████████████████████| 16/16 [00:28<00:00,  1.76s/it]\n"
     ]
    },
    {
     "name": "stdout",
     "output_type": "stream",
     "text": [
      "[241/500][15/16]\tLoss_D: 1.3344\tLoss_G: 1.8722\tD(x): 0.4754\tD(G(z)): 0.2747 / 0.1982\n",
      "Epoch 242\n"
     ]
    },
    {
     "name": "stderr",
     "output_type": "stream",
     "text": [
      "100%|██████████████████████████████████████████████████████████████████████████████████| 16/16 [00:29<00:00,  1.87s/it]\n"
     ]
    },
    {
     "name": "stdout",
     "output_type": "stream",
     "text": [
      "[242/500][15/16]\tLoss_D: 1.4564\tLoss_G: 0.9244\tD(x): 0.3016\tD(G(z)): 0.0377 / 0.4693\n",
      "Epoch 243\n"
     ]
    },
    {
     "name": "stderr",
     "output_type": "stream",
     "text": [
      "100%|██████████████████████████████████████████████████████████████████████████████████| 16/16 [00:28<00:00,  1.79s/it]\n"
     ]
    },
    {
     "name": "stdout",
     "output_type": "stream",
     "text": [
      "[243/500][15/16]\tLoss_D: 0.8426\tLoss_G: 2.2332\tD(x): 0.6907\tD(G(z)): 0.2908 / 0.1686\n",
      "Epoch 244\n"
     ]
    },
    {
     "name": "stderr",
     "output_type": "stream",
     "text": [
      "100%|██████████████████████████████████████████████████████████████████████████████████| 16/16 [00:28<00:00,  1.79s/it]\n"
     ]
    },
    {
     "name": "stdout",
     "output_type": "stream",
     "text": [
      "[244/500][15/16]\tLoss_D: 1.0814\tLoss_G: 2.2713\tD(x): 0.5130\tD(G(z)): 0.2457 / 0.1463\n",
      "Epoch 245\n"
     ]
    },
    {
     "name": "stderr",
     "output_type": "stream",
     "text": [
      "100%|██████████████████████████████████████████████████████████████████████████████████| 16/16 [00:28<00:00,  1.80s/it]\n"
     ]
    },
    {
     "name": "stdout",
     "output_type": "stream",
     "text": [
      "[245/500][15/16]\tLoss_D: 0.6669\tLoss_G: 3.3408\tD(x): 0.8488\tD(G(z)): 0.3290 / 0.0517\n",
      "Epoch 246\n"
     ]
    },
    {
     "name": "stderr",
     "output_type": "stream",
     "text": [
      "100%|██████████████████████████████████████████████████████████████████████████████████| 16/16 [00:27<00:00,  1.70s/it]\n"
     ]
    },
    {
     "name": "stdout",
     "output_type": "stream",
     "text": [
      "[246/500][15/16]\tLoss_D: 0.7706\tLoss_G: 2.1194\tD(x): 0.7534\tD(G(z)): 0.3056 / 0.1605\n",
      "Epoch 247\n"
     ]
    },
    {
     "name": "stderr",
     "output_type": "stream",
     "text": [
      "100%|██████████████████████████████████████████████████████████████████████████████████| 16/16 [00:25<00:00,  1.60s/it]\n"
     ]
    },
    {
     "name": "stdout",
     "output_type": "stream",
     "text": [
      "[247/500][15/16]\tLoss_D: 0.7146\tLoss_G: 3.3074\tD(x): 0.7749\tD(G(z)): 0.3085 / 0.0565\n",
      "Epoch 248\n"
     ]
    },
    {
     "name": "stderr",
     "output_type": "stream",
     "text": [
      "100%|██████████████████████████████████████████████████████████████████████████████████| 16/16 [00:26<00:00,  1.63s/it]\n"
     ]
    },
    {
     "name": "stdout",
     "output_type": "stream",
     "text": [
      "[248/500][15/16]\tLoss_D: 1.0074\tLoss_G: 1.9010\tD(x): 0.4893\tD(G(z)): 0.1355 / 0.2380\n",
      "Epoch 249\n"
     ]
    },
    {
     "name": "stderr",
     "output_type": "stream",
     "text": [
      "100%|███████████████████████████████████████████████████████████████████████████████| 16/16 [2:07:54<00:00, 479.68s/it]\n"
     ]
    },
    {
     "name": "stdout",
     "output_type": "stream",
     "text": [
      "[249/500][15/16]\tLoss_D: 1.0349\tLoss_G: 3.5838\tD(x): 0.8969\tD(G(z)): 0.5494 / 0.0649\n",
      "Epoch 250\n"
     ]
    },
    {
     "name": "stderr",
     "output_type": "stream",
     "text": [
      "100%|██████████████████████████████████████████████████████████████████████████████████| 16/16 [00:32<00:00,  2.06s/it]\n"
     ]
    },
    {
     "name": "stdout",
     "output_type": "stream",
     "text": [
      "[250/500][15/16]\tLoss_D: 0.7435\tLoss_G: 3.3732\tD(x): 0.8393\tD(G(z)): 0.3781 / 0.0527\n",
      "Epoch 251\n"
     ]
    },
    {
     "name": "stderr",
     "output_type": "stream",
     "text": [
      "100%|██████████████████████████████████████████████████████████████████████████████████| 16/16 [00:29<00:00,  1.84s/it]\n"
     ]
    },
    {
     "name": "stdout",
     "output_type": "stream",
     "text": [
      "[251/500][15/16]\tLoss_D: 1.0626\tLoss_G: 1.4995\tD(x): 0.5244\tD(G(z)): 0.1728 / 0.2836\n",
      "Epoch 252\n"
     ]
    },
    {
     "name": "stderr",
     "output_type": "stream",
     "text": [
      "100%|██████████████████████████████████████████████████████████████████████████████████| 16/16 [00:29<00:00,  1.82s/it]\n"
     ]
    },
    {
     "name": "stdout",
     "output_type": "stream",
     "text": [
      "[252/500][15/16]\tLoss_D: 0.9755\tLoss_G: 4.1120\tD(x): 0.8177\tD(G(z)): 0.4544 / 0.0260\n",
      "Epoch 253\n"
     ]
    },
    {
     "name": "stderr",
     "output_type": "stream",
     "text": [
      "100%|██████████████████████████████████████████████████████████████████████████████████| 16/16 [00:27<00:00,  1.75s/it]\n"
     ]
    },
    {
     "name": "stdout",
     "output_type": "stream",
     "text": [
      "[253/500][15/16]\tLoss_D: 0.6406\tLoss_G: 2.4319\tD(x): 0.6648\tD(G(z)): 0.1264 / 0.1151\n",
      "Epoch 254\n"
     ]
    },
    {
     "name": "stderr",
     "output_type": "stream",
     "text": [
      "100%|██████████████████████████████████████████████████████████████████████████████████| 16/16 [00:28<00:00,  1.79s/it]\n"
     ]
    },
    {
     "name": "stdout",
     "output_type": "stream",
     "text": [
      "[254/500][15/16]\tLoss_D: 0.7070\tLoss_G: 3.3129\tD(x): 0.7689\tD(G(z)): 0.2959 / 0.0523\n",
      "Epoch 255\n"
     ]
    },
    {
     "name": "stderr",
     "output_type": "stream",
     "text": [
      "100%|██████████████████████████████████████████████████████████████████████████████████| 16/16 [00:28<00:00,  1.81s/it]\n"
     ]
    },
    {
     "name": "stdout",
     "output_type": "stream",
     "text": [
      "[255/500][15/16]\tLoss_D: 0.8593\tLoss_G: 3.9366\tD(x): 0.8054\tD(G(z)): 0.3780 / 0.0382\n",
      "Epoch 256\n"
     ]
    },
    {
     "name": "stderr",
     "output_type": "stream",
     "text": [
      "100%|██████████████████████████████████████████████████████████████████████████████████| 16/16 [00:28<00:00,  1.76s/it]\n"
     ]
    },
    {
     "name": "stdout",
     "output_type": "stream",
     "text": [
      "[256/500][15/16]\tLoss_D: 1.3652\tLoss_G: 5.2612\tD(x): 0.9481\tD(G(z)): 0.6426 / 0.0139\n",
      "Epoch 257\n"
     ]
    },
    {
     "name": "stderr",
     "output_type": "stream",
     "text": [
      "100%|██████████████████████████████████████████████████████████████████████████████████| 16/16 [00:28<00:00,  1.80s/it]\n"
     ]
    },
    {
     "name": "stdout",
     "output_type": "stream",
     "text": [
      "[257/500][15/16]\tLoss_D: 0.5264\tLoss_G: 3.2569\tD(x): 0.8735\tD(G(z)): 0.2921 / 0.0522\n",
      "Epoch 258\n"
     ]
    },
    {
     "name": "stderr",
     "output_type": "stream",
     "text": [
      "100%|██████████████████████████████████████████████████████████████████████████████████| 16/16 [00:28<00:00,  1.80s/it]\n"
     ]
    },
    {
     "name": "stdout",
     "output_type": "stream",
     "text": [
      "[258/500][15/16]\tLoss_D: 1.0566\tLoss_G: 1.3644\tD(x): 0.4884\tD(G(z)): 0.1602 / 0.3295\n",
      "Epoch 259\n"
     ]
    },
    {
     "name": "stderr",
     "output_type": "stream",
     "text": [
      "100%|██████████████████████████████████████████████████████████████████████████████████| 16/16 [00:28<00:00,  1.79s/it]\n"
     ]
    },
    {
     "name": "stdout",
     "output_type": "stream",
     "text": [
      "[259/500][15/16]\tLoss_D: 0.8046\tLoss_G: 2.6584\tD(x): 0.7313\tD(G(z)): 0.3144 / 0.1126\n",
      "Epoch 260\n"
     ]
    },
    {
     "name": "stderr",
     "output_type": "stream",
     "text": [
      "100%|██████████████████████████████████████████████████████████████████████████████████| 16/16 [00:27<00:00,  1.69s/it]\n"
     ]
    },
    {
     "name": "stdout",
     "output_type": "stream",
     "text": [
      "[260/500][15/16]\tLoss_D: 0.8395\tLoss_G: 2.2173\tD(x): 0.6520\tD(G(z)): 0.2418 / 0.1256\n",
      "Epoch 261\n"
     ]
    },
    {
     "name": "stderr",
     "output_type": "stream",
     "text": [
      "100%|██████████████████████████████████████████████████████████████████████████████████| 16/16 [00:25<00:00,  1.62s/it]\n"
     ]
    },
    {
     "name": "stdout",
     "output_type": "stream",
     "text": [
      "[261/500][15/16]\tLoss_D: 1.2361\tLoss_G: 3.0160\tD(x): 0.8689\tD(G(z)): 0.5818 / 0.0768\n",
      "Epoch 262\n"
     ]
    },
    {
     "name": "stderr",
     "output_type": "stream",
     "text": [
      "100%|██████████████████████████████████████████████████████████████████████████████████| 16/16 [00:26<00:00,  1.64s/it]\n"
     ]
    },
    {
     "name": "stdout",
     "output_type": "stream",
     "text": [
      "[262/500][15/16]\tLoss_D: 0.7384\tLoss_G: 2.5280\tD(x): 0.7661\tD(G(z)): 0.3021 / 0.1340\n",
      "Epoch 263\n"
     ]
    },
    {
     "name": "stderr",
     "output_type": "stream",
     "text": [
      "100%|██████████████████████████████████████████████████████████████████████████████████| 16/16 [00:25<00:00,  1.59s/it]\n"
     ]
    },
    {
     "name": "stdout",
     "output_type": "stream",
     "text": [
      "[263/500][15/16]\tLoss_D: 0.9078\tLoss_G: 3.7453\tD(x): 0.7411\tD(G(z)): 0.3845 / 0.0452\n",
      "Epoch 264\n"
     ]
    },
    {
     "name": "stderr",
     "output_type": "stream",
     "text": [
      "100%|██████████████████████████████████████████████████████████████████████████████████| 16/16 [00:25<00:00,  1.60s/it]\n"
     ]
    },
    {
     "name": "stdout",
     "output_type": "stream",
     "text": [
      "[264/500][15/16]\tLoss_D: 0.9633\tLoss_G: 2.7529\tD(x): 0.5298\tD(G(z)): 0.0363 / 0.0960\n",
      "Epoch 265\n"
     ]
    },
    {
     "name": "stderr",
     "output_type": "stream",
     "text": [
      "100%|██████████████████████████████████████████████████████████████████████████████████| 16/16 [00:26<00:00,  1.64s/it]\n"
     ]
    },
    {
     "name": "stdout",
     "output_type": "stream",
     "text": [
      "[265/500][15/16]\tLoss_D: 0.8678\tLoss_G: 3.2361\tD(x): 0.7909\tD(G(z)): 0.4070 / 0.0707\n",
      "Epoch 266\n"
     ]
    },
    {
     "name": "stderr",
     "output_type": "stream",
     "text": [
      "100%|██████████████████████████████████████████████████████████████████████████████████| 16/16 [00:26<00:00,  1.63s/it]\n"
     ]
    },
    {
     "name": "stdout",
     "output_type": "stream",
     "text": [
      "[266/500][15/16]\tLoss_D: 0.8202\tLoss_G: 3.9135\tD(x): 0.8146\tD(G(z)): 0.3990 / 0.0269\n",
      "Epoch 267\n"
     ]
    },
    {
     "name": "stderr",
     "output_type": "stream",
     "text": [
      "100%|██████████████████████████████████████████████████████████████████████████████████| 16/16 [00:25<00:00,  1.60s/it]\n"
     ]
    },
    {
     "name": "stdout",
     "output_type": "stream",
     "text": [
      "[267/500][15/16]\tLoss_D: 0.5994\tLoss_G: 2.6765\tD(x): 0.7380\tD(G(z)): 0.2040 / 0.1131\n",
      "Epoch 268\n"
     ]
    },
    {
     "name": "stderr",
     "output_type": "stream",
     "text": [
      "100%|██████████████████████████████████████████████████████████████████████████████████| 16/16 [00:26<00:00,  1.64s/it]\n"
     ]
    },
    {
     "name": "stdout",
     "output_type": "stream",
     "text": [
      "[268/500][15/16]\tLoss_D: 0.5569\tLoss_G: 3.2258\tD(x): 0.8327\tD(G(z)): 0.2631 / 0.0637\n",
      "Epoch 269\n"
     ]
    },
    {
     "name": "stderr",
     "output_type": "stream",
     "text": [
      "100%|██████████████████████████████████████████████████████████████████████████████████| 16/16 [00:25<00:00,  1.62s/it]\n"
     ]
    },
    {
     "name": "stdout",
     "output_type": "stream",
     "text": [
      "[269/500][15/16]\tLoss_D: 0.4309\tLoss_G: 2.5019\tD(x): 0.7670\tD(G(z)): 0.1129 / 0.1269\n",
      "Epoch 270\n"
     ]
    },
    {
     "name": "stderr",
     "output_type": "stream",
     "text": [
      "100%|██████████████████████████████████████████████████████████████████████████████████| 16/16 [00:26<00:00,  1.63s/it]\n"
     ]
    },
    {
     "name": "stdout",
     "output_type": "stream",
     "text": [
      "[270/500][15/16]\tLoss_D: 0.4229\tLoss_G: 3.6421\tD(x): 0.9335\tD(G(z)): 0.2728 / 0.0483\n",
      "Epoch 271\n"
     ]
    },
    {
     "name": "stderr",
     "output_type": "stream",
     "text": [
      "100%|██████████████████████████████████████████████████████████████████████████████████| 16/16 [00:25<00:00,  1.61s/it]\n"
     ]
    },
    {
     "name": "stdout",
     "output_type": "stream",
     "text": [
      "[271/500][15/16]\tLoss_D: 0.5541\tLoss_G: 2.7728\tD(x): 0.7229\tD(G(z)): 0.1438 / 0.0835\n",
      "Epoch 272\n"
     ]
    },
    {
     "name": "stderr",
     "output_type": "stream",
     "text": [
      "100%|██████████████████████████████████████████████████████████████████████████████████| 16/16 [00:25<00:00,  1.60s/it]\n"
     ]
    },
    {
     "name": "stdout",
     "output_type": "stream",
     "text": [
      "[272/500][15/16]\tLoss_D: 0.8111\tLoss_G: 2.0340\tD(x): 0.6837\tD(G(z)): 0.2385 / 0.1982\n",
      "Epoch 273\n"
     ]
    },
    {
     "name": "stderr",
     "output_type": "stream",
     "text": [
      "100%|██████████████████████████████████████████████████████████████████████████████████| 16/16 [00:25<00:00,  1.61s/it]\n"
     ]
    },
    {
     "name": "stdout",
     "output_type": "stream",
     "text": [
      "[273/500][15/16]\tLoss_D: 0.5533\tLoss_G: 2.8338\tD(x): 0.9248\tD(G(z)): 0.3199 / 0.0725\n",
      "Epoch 274\n"
     ]
    },
    {
     "name": "stderr",
     "output_type": "stream",
     "text": [
      "100%|██████████████████████████████████████████████████████████████████████████████████| 16/16 [00:25<00:00,  1.59s/it]\n"
     ]
    },
    {
     "name": "stdout",
     "output_type": "stream",
     "text": [
      "[274/500][15/16]\tLoss_D: 0.6614\tLoss_G: 3.3903\tD(x): 0.8067\tD(G(z)): 0.2849 / 0.0607\n",
      "Epoch 275\n"
     ]
    },
    {
     "name": "stderr",
     "output_type": "stream",
     "text": [
      "100%|██████████████████████████████████████████████████████████████████████████████████| 16/16 [00:25<00:00,  1.58s/it]\n"
     ]
    },
    {
     "name": "stdout",
     "output_type": "stream",
     "text": [
      "[275/500][15/16]\tLoss_D: 0.7778\tLoss_G: 2.1135\tD(x): 0.6937\tD(G(z)): 0.1822 / 0.2062\n",
      "Epoch 276\n"
     ]
    },
    {
     "name": "stderr",
     "output_type": "stream",
     "text": [
      "100%|██████████████████████████████████████████████████████████████████████████████████| 16/16 [00:25<00:00,  1.61s/it]\n"
     ]
    },
    {
     "name": "stdout",
     "output_type": "stream",
     "text": [
      "[276/500][15/16]\tLoss_D: 0.7953\tLoss_G: 2.4192\tD(x): 0.6315\tD(G(z)): 0.1984 / 0.1653\n",
      "Epoch 277\n"
     ]
    },
    {
     "name": "stderr",
     "output_type": "stream",
     "text": [
      "100%|██████████████████████████████████████████████████████████████████████████████████| 16/16 [00:25<00:00,  1.58s/it]\n"
     ]
    },
    {
     "name": "stdout",
     "output_type": "stream",
     "text": [
      "[277/500][15/16]\tLoss_D: 0.9706\tLoss_G: 1.4187\tD(x): 0.6146\tD(G(z)): 0.2477 / 0.2989\n",
      "Epoch 278\n"
     ]
    },
    {
     "name": "stderr",
     "output_type": "stream",
     "text": [
      "100%|██████████████████████████████████████████████████████████████████████████████████| 16/16 [00:26<00:00,  1.65s/it]\n"
     ]
    },
    {
     "name": "stdout",
     "output_type": "stream",
     "text": [
      "[278/500][15/16]\tLoss_D: 1.1269\tLoss_G: 2.7456\tD(x): 0.4235\tD(G(z)): 0.0786 / 0.1039\n",
      "Epoch 279\n"
     ]
    },
    {
     "name": "stderr",
     "output_type": "stream",
     "text": [
      "100%|██████████████████████████████████████████████████████████████████████████████████| 16/16 [00:25<00:00,  1.57s/it]\n"
     ]
    },
    {
     "name": "stdout",
     "output_type": "stream",
     "text": [
      "[279/500][15/16]\tLoss_D: 0.3733\tLoss_G: 3.6808\tD(x): 0.8461\tD(G(z)): 0.1664 / 0.0470\n",
      "Epoch 280\n"
     ]
    },
    {
     "name": "stderr",
     "output_type": "stream",
     "text": [
      "100%|██████████████████████████████████████████████████████████████████████████████████| 16/16 [00:27<00:00,  1.69s/it]\n"
     ]
    },
    {
     "name": "stdout",
     "output_type": "stream",
     "text": [
      "[280/500][15/16]\tLoss_D: 0.7102\tLoss_G: 3.9478\tD(x): 0.7964\tD(G(z)): 0.3391 / 0.0400\n",
      "Epoch 281\n"
     ]
    },
    {
     "name": "stderr",
     "output_type": "stream",
     "text": [
      "100%|██████████████████████████████████████████████████████████████████████████████████| 16/16 [00:31<00:00,  2.00s/it]\n"
     ]
    },
    {
     "name": "stdout",
     "output_type": "stream",
     "text": [
      "[281/500][15/16]\tLoss_D: 0.5924\tLoss_G: 2.9473\tD(x): 0.7590\tD(G(z)): 0.2358 / 0.0974\n",
      "Epoch 282\n"
     ]
    },
    {
     "name": "stderr",
     "output_type": "stream",
     "text": [
      "100%|██████████████████████████████████████████████████████████████████████████████████| 16/16 [00:32<00:00,  2.00s/it]\n"
     ]
    },
    {
     "name": "stdout",
     "output_type": "stream",
     "text": [
      "[282/500][15/16]\tLoss_D: 0.5505\tLoss_G: 2.9850\tD(x): 0.6580\tD(G(z)): 0.0538 / 0.0988\n",
      "Epoch 283\n"
     ]
    },
    {
     "name": "stderr",
     "output_type": "stream",
     "text": [
      "100%|██████████████████████████████████████████████████████████████████████████████████| 16/16 [00:33<00:00,  2.09s/it]\n"
     ]
    },
    {
     "name": "stdout",
     "output_type": "stream",
     "text": [
      "[283/500][15/16]\tLoss_D: 0.3960\tLoss_G: 2.7580\tD(x): 0.8460\tD(G(z)): 0.1642 / 0.1102\n",
      "Epoch 284\n"
     ]
    },
    {
     "name": "stderr",
     "output_type": "stream",
     "text": [
      "100%|██████████████████████████████████████████████████████████████████████████████████| 16/16 [00:32<00:00,  2.03s/it]\n"
     ]
    },
    {
     "name": "stdout",
     "output_type": "stream",
     "text": [
      "[284/500][15/16]\tLoss_D: 0.7492\tLoss_G: 4.3112\tD(x): 0.8742\tD(G(z)): 0.3680 / 0.0308\n",
      "Epoch 285\n"
     ]
    },
    {
     "name": "stderr",
     "output_type": "stream",
     "text": [
      "100%|██████████████████████████████████████████████████████████████████████████████████| 16/16 [00:32<00:00,  2.02s/it]\n"
     ]
    },
    {
     "name": "stdout",
     "output_type": "stream",
     "text": [
      "[285/500][15/16]\tLoss_D: 0.6087\tLoss_G: 2.3675\tD(x): 0.6987\tD(G(z)): 0.1414 / 0.1629\n",
      "Epoch 286\n"
     ]
    },
    {
     "name": "stderr",
     "output_type": "stream",
     "text": [
      "100%|██████████████████████████████████████████████████████████████████████████████████| 16/16 [00:33<00:00,  2.10s/it]\n"
     ]
    },
    {
     "name": "stdout",
     "output_type": "stream",
     "text": [
      "[286/500][15/16]\tLoss_D: 0.5354\tLoss_G: 3.1580\tD(x): 0.6798\tD(G(z)): 0.0557 / 0.0728\n",
      "Epoch 287\n"
     ]
    },
    {
     "name": "stderr",
     "output_type": "stream",
     "text": [
      "100%|██████████████████████████████████████████████████████████████████████████████████| 16/16 [00:32<00:00,  2.05s/it]\n"
     ]
    },
    {
     "name": "stdout",
     "output_type": "stream",
     "text": [
      "[287/500][15/16]\tLoss_D: 0.6236\tLoss_G: 4.1502\tD(x): 0.8034\tD(G(z)): 0.2656 / 0.0269\n",
      "Epoch 288\n"
     ]
    },
    {
     "name": "stderr",
     "output_type": "stream",
     "text": [
      "100%|██████████████████████████████████████████████████████████████████████████████████| 16/16 [00:31<00:00,  1.98s/it]\n"
     ]
    },
    {
     "name": "stdout",
     "output_type": "stream",
     "text": [
      "[288/500][15/16]\tLoss_D: 0.6163\tLoss_G: 3.9261\tD(x): 0.8587\tD(G(z)): 0.3188 / 0.0567\n",
      "Epoch 289\n"
     ]
    },
    {
     "name": "stderr",
     "output_type": "stream",
     "text": [
      "100%|██████████████████████████████████████████████████████████████████████████████████| 16/16 [00:31<00:00,  1.96s/it]\n"
     ]
    },
    {
     "name": "stdout",
     "output_type": "stream",
     "text": [
      "[289/500][15/16]\tLoss_D: 0.8913\tLoss_G: 1.9639\tD(x): 0.5249\tD(G(z)): 0.1257 / 0.2532\n",
      "Epoch 290\n"
     ]
    },
    {
     "name": "stderr",
     "output_type": "stream",
     "text": [
      "100%|██████████████████████████████████████████████████████████████████████████████████| 16/16 [00:32<00:00,  2.02s/it]\n"
     ]
    },
    {
     "name": "stdout",
     "output_type": "stream",
     "text": [
      "[290/500][15/16]\tLoss_D: 0.7496\tLoss_G: 2.6300\tD(x): 0.7621\tD(G(z)): 0.2902 / 0.0937\n",
      "Epoch 291\n"
     ]
    },
    {
     "name": "stderr",
     "output_type": "stream",
     "text": [
      "100%|██████████████████████████████████████████████████████████████████████████████████| 16/16 [00:32<00:00,  2.01s/it]\n"
     ]
    },
    {
     "name": "stdout",
     "output_type": "stream",
     "text": [
      "[291/500][15/16]\tLoss_D: 0.4196\tLoss_G: 3.8054\tD(x): 0.8356\tD(G(z)): 0.1430 / 0.0490\n",
      "Epoch 292\n"
     ]
    },
    {
     "name": "stderr",
     "output_type": "stream",
     "text": [
      "100%|██████████████████████████████████████████████████████████████████████████████████| 16/16 [00:31<00:00,  1.99s/it]\n"
     ]
    },
    {
     "name": "stdout",
     "output_type": "stream",
     "text": [
      "[292/500][15/16]\tLoss_D: 0.6940\tLoss_G: 3.9245\tD(x): 0.9005\tD(G(z)): 0.3664 / 0.0319\n",
      "Epoch 293\n"
     ]
    },
    {
     "name": "stderr",
     "output_type": "stream",
     "text": [
      "100%|██████████████████████████████████████████████████████████████████████████████████| 16/16 [00:30<00:00,  1.94s/it]\n"
     ]
    },
    {
     "name": "stdout",
     "output_type": "stream",
     "text": [
      "[293/500][15/16]\tLoss_D: 0.8904\tLoss_G: 3.0502\tD(x): 0.5386\tD(G(z)): 0.0896 / 0.0885\n",
      "Epoch 294\n"
     ]
    },
    {
     "name": "stderr",
     "output_type": "stream",
     "text": [
      "100%|██████████████████████████████████████████████████████████████████████████████████| 16/16 [00:31<00:00,  2.00s/it]\n"
     ]
    },
    {
     "name": "stdout",
     "output_type": "stream",
     "text": [
      "[294/500][15/16]\tLoss_D: 0.8159\tLoss_G: 1.9072\tD(x): 0.6218\tD(G(z)): 0.2009 / 0.2130\n",
      "Epoch 295\n"
     ]
    },
    {
     "name": "stderr",
     "output_type": "stream",
     "text": [
      "100%|██████████████████████████████████████████████████████████████████████████████████| 16/16 [00:32<00:00,  2.01s/it]\n"
     ]
    },
    {
     "name": "stdout",
     "output_type": "stream",
     "text": [
      "[295/500][15/16]\tLoss_D: 0.5654\tLoss_G: 3.1231\tD(x): 0.6542\tD(G(z)): 0.0427 / 0.0917\n",
      "Epoch 296\n"
     ]
    },
    {
     "name": "stderr",
     "output_type": "stream",
     "text": [
      "100%|██████████████████████████████████████████████████████████████████████████████████| 16/16 [00:32<00:00,  2.03s/it]\n"
     ]
    },
    {
     "name": "stdout",
     "output_type": "stream",
     "text": [
      "[296/500][15/16]\tLoss_D: 0.8527\tLoss_G: 3.1256\tD(x): 0.6240\tD(G(z)): 0.1330 / 0.1159\n",
      "Epoch 297\n"
     ]
    },
    {
     "name": "stderr",
     "output_type": "stream",
     "text": [
      "100%|██████████████████████████████████████████████████████████████████████████████████| 16/16 [00:31<00:00,  1.99s/it]\n"
     ]
    },
    {
     "name": "stdout",
     "output_type": "stream",
     "text": [
      "[297/500][15/16]\tLoss_D: 0.4063\tLoss_G: 2.7802\tD(x): 0.8735\tD(G(z)): 0.1866 / 0.0954\n",
      "Epoch 298\n"
     ]
    },
    {
     "name": "stderr",
     "output_type": "stream",
     "text": [
      "100%|██████████████████████████████████████████████████████████████████████████████████| 16/16 [00:32<00:00,  2.02s/it]\n"
     ]
    },
    {
     "name": "stdout",
     "output_type": "stream",
     "text": [
      "[298/500][15/16]\tLoss_D: 0.7598\tLoss_G: 2.0003\tD(x): 0.6610\tD(G(z)): 0.1087 / 0.2420\n",
      "Epoch 299\n"
     ]
    },
    {
     "name": "stderr",
     "output_type": "stream",
     "text": [
      "100%|██████████████████████████████████████████████████████████████████████████████████| 16/16 [00:31<00:00,  1.96s/it]\n"
     ]
    },
    {
     "name": "stdout",
     "output_type": "stream",
     "text": [
      "[299/500][15/16]\tLoss_D: 0.9806\tLoss_G: 2.6354\tD(x): 0.5022\tD(G(z)): 0.0559 / 0.1289\n",
      "Epoch 300\n"
     ]
    },
    {
     "name": "stderr",
     "output_type": "stream",
     "text": [
      "100%|██████████████████████████████████████████████████████████████████████████████████| 16/16 [00:31<00:00,  1.96s/it]\n"
     ]
    },
    {
     "name": "stdout",
     "output_type": "stream",
     "text": [
      "[300/500][15/16]\tLoss_D: 0.7459\tLoss_G: 1.8091\tD(x): 0.6943\tD(G(z)): 0.2243 / 0.2277\n",
      "Epoch 301\n"
     ]
    },
    {
     "name": "stderr",
     "output_type": "stream",
     "text": [
      "100%|██████████████████████████████████████████████████████████████████████████████████| 16/16 [00:31<00:00,  1.97s/it]\n"
     ]
    },
    {
     "name": "stdout",
     "output_type": "stream",
     "text": [
      "[301/500][15/16]\tLoss_D: 0.5137\tLoss_G: 3.5607\tD(x): 0.8215\tD(G(z)): 0.2157 / 0.0584\n",
      "Epoch 302\n"
     ]
    },
    {
     "name": "stderr",
     "output_type": "stream",
     "text": [
      "100%|██████████████████████████████████████████████████████████████████████████████████| 16/16 [00:32<00:00,  2.05s/it]\n"
     ]
    },
    {
     "name": "stdout",
     "output_type": "stream",
     "text": [
      "[302/500][15/16]\tLoss_D: 0.9628\tLoss_G: 2.0637\tD(x): 0.4931\tD(G(z)): 0.0467 / 0.1969\n",
      "Epoch 303\n"
     ]
    },
    {
     "name": "stderr",
     "output_type": "stream",
     "text": [
      "100%|██████████████████████████████████████████████████████████████████████████████████| 16/16 [00:32<00:00,  2.02s/it]\n"
     ]
    },
    {
     "name": "stdout",
     "output_type": "stream",
     "text": [
      "[303/500][15/16]\tLoss_D: 0.7601\tLoss_G: 5.5578\tD(x): 0.8454\tD(G(z)): 0.3024 / 0.0183\n",
      "Epoch 304\n"
     ]
    },
    {
     "name": "stderr",
     "output_type": "stream",
     "text": [
      "100%|██████████████████████████████████████████████████████████████████████████████████| 16/16 [00:31<00:00,  1.96s/it]\n"
     ]
    },
    {
     "name": "stdout",
     "output_type": "stream",
     "text": [
      "[304/500][15/16]\tLoss_D: 0.4973\tLoss_G: 3.8166\tD(x): 0.8072\tD(G(z)): 0.1247 / 0.0523\n",
      "Epoch 305\n"
     ]
    },
    {
     "name": "stderr",
     "output_type": "stream",
     "text": [
      "100%|██████████████████████████████████████████████████████████████████████████████████| 16/16 [00:31<00:00,  1.97s/it]\n"
     ]
    },
    {
     "name": "stdout",
     "output_type": "stream",
     "text": [
      "[305/500][15/16]\tLoss_D: 0.5643\tLoss_G: 3.8946\tD(x): 0.7824\tD(G(z)): 0.1773 / 0.0382\n",
      "Epoch 306\n"
     ]
    },
    {
     "name": "stderr",
     "output_type": "stream",
     "text": [
      "100%|██████████████████████████████████████████████████████████████████████████████████| 16/16 [00:29<00:00,  1.87s/it]\n"
     ]
    },
    {
     "name": "stdout",
     "output_type": "stream",
     "text": [
      "[306/500][15/16]\tLoss_D: 0.7985\tLoss_G: 2.5565\tD(x): 0.5495\tD(G(z)): 0.0340 / 0.1603\n",
      "Epoch 307\n"
     ]
    },
    {
     "name": "stderr",
     "output_type": "stream",
     "text": [
      "100%|██████████████████████████████████████████████████████████████████████████████████| 16/16 [00:26<00:00,  1.65s/it]\n"
     ]
    },
    {
     "name": "stdout",
     "output_type": "stream",
     "text": [
      "[307/500][15/16]\tLoss_D: 0.4326\tLoss_G: 4.7213\tD(x): 0.8923\tD(G(z)): 0.2366 / 0.0222\n",
      "Epoch 308\n"
     ]
    },
    {
     "name": "stderr",
     "output_type": "stream",
     "text": [
      "100%|██████████████████████████████████████████████████████████████████████████████████| 16/16 [00:20<00:00,  1.31s/it]\n"
     ]
    },
    {
     "name": "stdout",
     "output_type": "stream",
     "text": [
      "[308/500][15/16]\tLoss_D: 0.6221\tLoss_G: 2.5611\tD(x): 0.7189\tD(G(z)): 0.0886 / 0.1721\n",
      "Epoch 309\n"
     ]
    },
    {
     "name": "stderr",
     "output_type": "stream",
     "text": [
      "100%|██████████████████████████████████████████████████████████████████████████████████| 16/16 [00:23<00:00,  1.46s/it]\n"
     ]
    },
    {
     "name": "stdout",
     "output_type": "stream",
     "text": [
      "[309/500][15/16]\tLoss_D: 0.6231\tLoss_G: 2.1780\tD(x): 0.6797\tD(G(z)): 0.0897 / 0.1824\n",
      "Epoch 310\n"
     ]
    },
    {
     "name": "stderr",
     "output_type": "stream",
     "text": [
      "100%|██████████████████████████████████████████████████████████████████████████████████| 16/16 [00:21<00:00,  1.37s/it]\n"
     ]
    },
    {
     "name": "stdout",
     "output_type": "stream",
     "text": [
      "[310/500][15/16]\tLoss_D: 0.7386\tLoss_G: 6.0657\tD(x): 0.9433\tD(G(z)): 0.3724 / 0.0042\n",
      "Epoch 311\n"
     ]
    },
    {
     "name": "stderr",
     "output_type": "stream",
     "text": [
      "100%|██████████████████████████████████████████████████████████████████████████████████| 16/16 [00:21<00:00,  1.32s/it]\n"
     ]
    },
    {
     "name": "stdout",
     "output_type": "stream",
     "text": [
      "[311/500][15/16]\tLoss_D: 0.4645\tLoss_G: 2.6237\tD(x): 0.7113\tD(G(z)): 0.0613 / 0.1547\n",
      "Epoch 312\n"
     ]
    },
    {
     "name": "stderr",
     "output_type": "stream",
     "text": [
      "100%|██████████████████████████████████████████████████████████████████████████████████| 16/16 [00:20<00:00,  1.28s/it]\n"
     ]
    },
    {
     "name": "stdout",
     "output_type": "stream",
     "text": [
      "[312/500][15/16]\tLoss_D: 0.6096\tLoss_G: 2.7090\tD(x): 0.6532\tD(G(z)): 0.0835 / 0.1062\n",
      "Epoch 313\n"
     ]
    },
    {
     "name": "stderr",
     "output_type": "stream",
     "text": [
      "100%|██████████████████████████████████████████████████████████████████████████████████| 16/16 [00:20<00:00,  1.26s/it]\n"
     ]
    },
    {
     "name": "stdout",
     "output_type": "stream",
     "text": [
      "[313/500][15/16]\tLoss_D: 0.6836\tLoss_G: 4.3789\tD(x): 0.8728\tD(G(z)): 0.3230 / 0.0208\n",
      "Epoch 314\n"
     ]
    },
    {
     "name": "stderr",
     "output_type": "stream",
     "text": [
      "100%|██████████████████████████████████████████████████████████████████████████████████| 16/16 [00:19<00:00,  1.23s/it]\n"
     ]
    },
    {
     "name": "stdout",
     "output_type": "stream",
     "text": [
      "[314/500][15/16]\tLoss_D: 0.8078\tLoss_G: 2.0377\tD(x): 0.5950\tD(G(z)): 0.1240 / 0.1881\n",
      "Epoch 315\n"
     ]
    },
    {
     "name": "stderr",
     "output_type": "stream",
     "text": [
      "100%|██████████████████████████████████████████████████████████████████████████████████| 16/16 [00:19<00:00,  1.24s/it]\n"
     ]
    },
    {
     "name": "stdout",
     "output_type": "stream",
     "text": [
      "[315/500][15/16]\tLoss_D: 0.4929\tLoss_G: 4.4726\tD(x): 0.8670\tD(G(z)): 0.2547 / 0.0208\n",
      "Epoch 316\n"
     ]
    },
    {
     "name": "stderr",
     "output_type": "stream",
     "text": [
      "100%|██████████████████████████████████████████████████████████████████████████████████| 16/16 [00:19<00:00,  1.25s/it]\n"
     ]
    },
    {
     "name": "stdout",
     "output_type": "stream",
     "text": [
      "[316/500][15/16]\tLoss_D: 0.5632\tLoss_G: 2.8756\tD(x): 0.8638\tD(G(z)): 0.2580 / 0.1093\n",
      "Epoch 317\n"
     ]
    },
    {
     "name": "stderr",
     "output_type": "stream",
     "text": [
      "100%|██████████████████████████████████████████████████████████████████████████████████| 16/16 [00:20<00:00,  1.26s/it]\n"
     ]
    },
    {
     "name": "stdout",
     "output_type": "stream",
     "text": [
      "[317/500][15/16]\tLoss_D: 0.7507\tLoss_G: 5.8568\tD(x): 0.8448\tD(G(z)): 0.2938 / 0.0053\n",
      "Epoch 318\n"
     ]
    },
    {
     "name": "stderr",
     "output_type": "stream",
     "text": [
      "100%|██████████████████████████████████████████████████████████████████████████████████| 16/16 [00:20<00:00,  1.25s/it]\n"
     ]
    },
    {
     "name": "stdout",
     "output_type": "stream",
     "text": [
      "[318/500][15/16]\tLoss_D: 0.7663\tLoss_G: 3.5585\tD(x): 0.8722\tD(G(z)): 0.3706 / 0.0447\n",
      "Epoch 319\n"
     ]
    },
    {
     "name": "stderr",
     "output_type": "stream",
     "text": [
      "100%|██████████████████████████████████████████████████████████████████████████████████| 16/16 [00:20<00:00,  1.27s/it]\n"
     ]
    },
    {
     "name": "stdout",
     "output_type": "stream",
     "text": [
      "[319/500][15/16]\tLoss_D: 0.4557\tLoss_G: 3.0464\tD(x): 0.8632\tD(G(z)): 0.1844 / 0.1307\n",
      "Epoch 320\n"
     ]
    },
    {
     "name": "stderr",
     "output_type": "stream",
     "text": [
      "100%|██████████████████████████████████████████████████████████████████████████████████| 16/16 [00:20<00:00,  1.26s/it]\n"
     ]
    },
    {
     "name": "stdout",
     "output_type": "stream",
     "text": [
      "[320/500][15/16]\tLoss_D: 0.5246\tLoss_G: 3.0603\tD(x): 0.8016\tD(G(z)): 0.1697 / 0.0809\n",
      "Epoch 321\n"
     ]
    },
    {
     "name": "stderr",
     "output_type": "stream",
     "text": [
      "100%|██████████████████████████████████████████████████████████████████████████████████| 16/16 [00:20<00:00,  1.26s/it]\n"
     ]
    },
    {
     "name": "stdout",
     "output_type": "stream",
     "text": [
      "[321/500][15/16]\tLoss_D: 0.4192\tLoss_G: 3.8960\tD(x): 0.8922\tD(G(z)): 0.2152 / 0.0464\n",
      "Epoch 322\n"
     ]
    },
    {
     "name": "stderr",
     "output_type": "stream",
     "text": [
      "100%|██████████████████████████████████████████████████████████████████████████████████| 16/16 [00:20<00:00,  1.26s/it]\n"
     ]
    },
    {
     "name": "stdout",
     "output_type": "stream",
     "text": [
      "[322/500][15/16]\tLoss_D: 0.8092\tLoss_G: 2.3045\tD(x): 0.6936\tD(G(z)): 0.1742 / 0.1595\n",
      "Epoch 323\n"
     ]
    },
    {
     "name": "stderr",
     "output_type": "stream",
     "text": [
      "100%|██████████████████████████████████████████████████████████████████████████████████| 16/16 [00:20<00:00,  1.26s/it]\n"
     ]
    },
    {
     "name": "stdout",
     "output_type": "stream",
     "text": [
      "[323/500][15/16]\tLoss_D: 0.3292\tLoss_G: 3.1908\tD(x): 0.9399\tD(G(z)): 0.2021 / 0.0933\n",
      "Epoch 324\n"
     ]
    },
    {
     "name": "stderr",
     "output_type": "stream",
     "text": [
      "100%|██████████████████████████████████████████████████████████████████████████████████| 16/16 [00:19<00:00,  1.25s/it]\n"
     ]
    },
    {
     "name": "stdout",
     "output_type": "stream",
     "text": [
      "[324/500][15/16]\tLoss_D: 0.5202\tLoss_G: 3.9503\tD(x): 0.8560\tD(G(z)): 0.2321 / 0.0272\n",
      "Epoch 325\n"
     ]
    },
    {
     "name": "stderr",
     "output_type": "stream",
     "text": [
      "100%|██████████████████████████████████████████████████████████████████████████████████| 16/16 [00:20<00:00,  1.27s/it]\n"
     ]
    },
    {
     "name": "stdout",
     "output_type": "stream",
     "text": [
      "[325/500][15/16]\tLoss_D: 0.6646\tLoss_G: 1.3933\tD(x): 0.6242\tD(G(z)): 0.0591 / 0.3635\n",
      "Epoch 326\n"
     ]
    },
    {
     "name": "stderr",
     "output_type": "stream",
     "text": [
      "100%|██████████████████████████████████████████████████████████████████████████████████| 16/16 [00:20<00:00,  1.25s/it]\n"
     ]
    },
    {
     "name": "stdout",
     "output_type": "stream",
     "text": [
      "[326/500][15/16]\tLoss_D: 1.0515\tLoss_G: 5.2679\tD(x): 0.7627\tD(G(z)): 0.4339 / 0.0096\n",
      "Epoch 327\n"
     ]
    },
    {
     "name": "stderr",
     "output_type": "stream",
     "text": [
      "100%|██████████████████████████████████████████████████████████████████████████████████| 16/16 [00:20<00:00,  1.27s/it]\n"
     ]
    },
    {
     "name": "stdout",
     "output_type": "stream",
     "text": [
      "[327/500][15/16]\tLoss_D: 0.3408\tLoss_G: 2.5952\tD(x): 0.9232\tD(G(z)): 0.2078 / 0.1012\n",
      "Epoch 328\n"
     ]
    },
    {
     "name": "stderr",
     "output_type": "stream",
     "text": [
      "100%|██████████████████████████████████████████████████████████████████████████████████| 16/16 [00:20<00:00,  1.26s/it]\n"
     ]
    },
    {
     "name": "stdout",
     "output_type": "stream",
     "text": [
      "[328/500][15/16]\tLoss_D: 0.4699\tLoss_G: 4.5075\tD(x): 0.9592\tD(G(z)): 0.2881 / 0.0343\n",
      "Epoch 329\n"
     ]
    },
    {
     "name": "stderr",
     "output_type": "stream",
     "text": [
      "100%|██████████████████████████████████████████████████████████████████████████████████| 16/16 [00:20<00:00,  1.26s/it]\n"
     ]
    },
    {
     "name": "stdout",
     "output_type": "stream",
     "text": [
      "[329/500][15/16]\tLoss_D: 1.0363\tLoss_G: 5.8624\tD(x): 0.9454\tD(G(z)): 0.5001 / 0.0042\n",
      "Epoch 330\n"
     ]
    },
    {
     "name": "stderr",
     "output_type": "stream",
     "text": [
      "100%|██████████████████████████████████████████████████████████████████████████████████| 16/16 [00:20<00:00,  1.30s/it]\n"
     ]
    },
    {
     "name": "stdout",
     "output_type": "stream",
     "text": [
      "[330/500][15/16]\tLoss_D: 0.4748\tLoss_G: 3.4902\tD(x): 0.8723\tD(G(z)): 0.1934 / 0.0591\n",
      "Epoch 331\n"
     ]
    },
    {
     "name": "stderr",
     "output_type": "stream",
     "text": [
      "100%|██████████████████████████████████████████████████████████████████████████████████| 16/16 [00:20<00:00,  1.26s/it]\n"
     ]
    },
    {
     "name": "stdout",
     "output_type": "stream",
     "text": [
      "[331/500][15/16]\tLoss_D: 0.4580\tLoss_G: 4.8131\tD(x): 0.9195\tD(G(z)): 0.2598 / 0.0214\n",
      "Epoch 332\n"
     ]
    },
    {
     "name": "stderr",
     "output_type": "stream",
     "text": [
      "100%|██████████████████████████████████████████████████████████████████████████████████| 16/16 [00:20<00:00,  1.27s/it]\n"
     ]
    },
    {
     "name": "stdout",
     "output_type": "stream",
     "text": [
      "[332/500][15/16]\tLoss_D: 0.3518\tLoss_G: 3.3416\tD(x): 0.8197\tD(G(z)): 0.0603 / 0.0947\n",
      "Epoch 333\n"
     ]
    },
    {
     "name": "stderr",
     "output_type": "stream",
     "text": [
      "100%|██████████████████████████████████████████████████████████████████████████████████| 16/16 [00:20<00:00,  1.27s/it]\n"
     ]
    },
    {
     "name": "stdout",
     "output_type": "stream",
     "text": [
      "[333/500][15/16]\tLoss_D: 0.4479\tLoss_G: 5.1186\tD(x): 0.9159\tD(G(z)): 0.2443 / 0.0137\n",
      "Epoch 334\n"
     ]
    },
    {
     "name": "stderr",
     "output_type": "stream",
     "text": [
      "100%|██████████████████████████████████████████████████████████████████████████████████| 16/16 [00:20<00:00,  1.28s/it]\n"
     ]
    },
    {
     "name": "stdout",
     "output_type": "stream",
     "text": [
      "[334/500][15/16]\tLoss_D: 1.0287\tLoss_G: 1.9701\tD(x): 0.5850\tD(G(z)): 0.0680 / 0.2120\n",
      "Epoch 335\n"
     ]
    },
    {
     "name": "stderr",
     "output_type": "stream",
     "text": [
      "100%|██████████████████████████████████████████████████████████████████████████████████| 16/16 [00:20<00:00,  1.29s/it]\n"
     ]
    },
    {
     "name": "stdout",
     "output_type": "stream",
     "text": [
      "[335/500][15/16]\tLoss_D: 0.4653\tLoss_G: 4.5780\tD(x): 0.7803\tD(G(z)): 0.1125 / 0.0233\n",
      "Epoch 336\n"
     ]
    },
    {
     "name": "stderr",
     "output_type": "stream",
     "text": [
      "100%|██████████████████████████████████████████████████████████████████████████████████| 16/16 [00:20<00:00,  1.26s/it]\n"
     ]
    },
    {
     "name": "stdout",
     "output_type": "stream",
     "text": [
      "[336/500][15/16]\tLoss_D: 0.5032\tLoss_G: 2.6385\tD(x): 0.7957\tD(G(z)): 0.1335 / 0.1212\n",
      "Epoch 337\n"
     ]
    },
    {
     "name": "stderr",
     "output_type": "stream",
     "text": [
      "100%|██████████████████████████████████████████████████████████████████████████████████| 16/16 [00:20<00:00,  1.25s/it]\n"
     ]
    },
    {
     "name": "stdout",
     "output_type": "stream",
     "text": [
      "[337/500][15/16]\tLoss_D: 0.4318\tLoss_G: 2.1367\tD(x): 0.7356\tD(G(z)): 0.0718 / 0.2294\n",
      "Epoch 338\n"
     ]
    },
    {
     "name": "stderr",
     "output_type": "stream",
     "text": [
      "100%|██████████████████████████████████████████████████████████████████████████████████| 16/16 [00:20<00:00,  1.26s/it]\n"
     ]
    },
    {
     "name": "stdout",
     "output_type": "stream",
     "text": [
      "[338/500][15/16]\tLoss_D: 0.4806\tLoss_G: 3.6986\tD(x): 0.7278\tD(G(z)): 0.0352 / 0.0451\n",
      "Epoch 339\n"
     ]
    },
    {
     "name": "stderr",
     "output_type": "stream",
     "text": [
      "100%|██████████████████████████████████████████████████████████████████████████████████| 16/16 [00:20<00:00,  1.25s/it]\n"
     ]
    },
    {
     "name": "stdout",
     "output_type": "stream",
     "text": [
      "[339/500][15/16]\tLoss_D: 1.1015\tLoss_G: 8.1952\tD(x): 0.8900\tD(G(z)): 0.4807 / 0.0009\n",
      "Epoch 340\n"
     ]
    },
    {
     "name": "stderr",
     "output_type": "stream",
     "text": [
      "100%|██████████████████████████████████████████████████████████████████████████████████| 16/16 [00:19<00:00,  1.23s/it]\n"
     ]
    },
    {
     "name": "stdout",
     "output_type": "stream",
     "text": [
      "[340/500][15/16]\tLoss_D: 0.5514\tLoss_G: 5.8930\tD(x): 0.8605\tD(G(z)): 0.2504 / 0.0071\n",
      "Epoch 341\n"
     ]
    },
    {
     "name": "stderr",
     "output_type": "stream",
     "text": [
      "100%|██████████████████████████████████████████████████████████████████████████████████| 16/16 [00:19<00:00,  1.21s/it]\n"
     ]
    },
    {
     "name": "stdout",
     "output_type": "stream",
     "text": [
      "[341/500][15/16]\tLoss_D: 0.5551\tLoss_G: 3.7718\tD(x): 0.8405\tD(G(z)): 0.2428 / 0.0484\n",
      "Epoch 342\n"
     ]
    },
    {
     "name": "stderr",
     "output_type": "stream",
     "text": [
      "100%|██████████████████████████████████████████████████████████████████████████████████| 16/16 [00:20<00:00,  1.27s/it]\n"
     ]
    },
    {
     "name": "stdout",
     "output_type": "stream",
     "text": [
      "[342/500][15/16]\tLoss_D: 0.5285\tLoss_G: 5.3068\tD(x): 0.8809\tD(G(z)): 0.2580 / 0.0148\n",
      "Epoch 343\n"
     ]
    },
    {
     "name": "stderr",
     "output_type": "stream",
     "text": [
      "100%|██████████████████████████████████████████████████████████████████████████████████| 16/16 [00:19<00:00,  1.19s/it]\n"
     ]
    },
    {
     "name": "stdout",
     "output_type": "stream",
     "text": [
      "[343/500][15/16]\tLoss_D: 0.5853\tLoss_G: 4.9188\tD(x): 0.8739\tD(G(z)): 0.2693 / 0.0228\n",
      "Epoch 344\n"
     ]
    },
    {
     "name": "stderr",
     "output_type": "stream",
     "text": [
      "100%|██████████████████████████████████████████████████████████████████████████████████| 16/16 [00:19<00:00,  1.19s/it]\n"
     ]
    },
    {
     "name": "stdout",
     "output_type": "stream",
     "text": [
      "[344/500][15/16]\tLoss_D: 0.3325\tLoss_G: 1.9519\tD(x): 0.8517\tD(G(z)): 0.1292 / 0.2134\n",
      "Epoch 345\n"
     ]
    },
    {
     "name": "stderr",
     "output_type": "stream",
     "text": [
      "100%|██████████████████████████████████████████████████████████████████████████████████| 16/16 [00:18<00:00,  1.17s/it]\n"
     ]
    },
    {
     "name": "stdout",
     "output_type": "stream",
     "text": [
      "[345/500][15/16]\tLoss_D: 0.3066\tLoss_G: 5.0384\tD(x): 0.8854\tD(G(z)): 0.1417 / 0.0169\n",
      "Epoch 346\n"
     ]
    },
    {
     "name": "stderr",
     "output_type": "stream",
     "text": [
      "100%|██████████████████████████████████████████████████████████████████████████████████| 16/16 [00:18<00:00,  1.18s/it]\n"
     ]
    },
    {
     "name": "stdout",
     "output_type": "stream",
     "text": [
      "[346/500][15/16]\tLoss_D: 0.3377\tLoss_G: 4.8100\tD(x): 0.8800\tD(G(z)): 0.1688 / 0.0140\n",
      "Epoch 347\n"
     ]
    },
    {
     "name": "stderr",
     "output_type": "stream",
     "text": [
      "100%|██████████████████████████████████████████████████████████████████████████████████| 16/16 [00:19<00:00,  1.19s/it]\n"
     ]
    },
    {
     "name": "stdout",
     "output_type": "stream",
     "text": [
      "[347/500][15/16]\tLoss_D: 1.0371\tLoss_G: 1.1154\tD(x): 0.4963\tD(G(z)): 0.0412 / 0.4286\n",
      "Epoch 348\n"
     ]
    },
    {
     "name": "stderr",
     "output_type": "stream",
     "text": [
      "100%|██████████████████████████████████████████████████████████████████████████████████| 16/16 [00:18<00:00,  1.18s/it]\n"
     ]
    },
    {
     "name": "stdout",
     "output_type": "stream",
     "text": [
      "[348/500][15/16]\tLoss_D: 0.6812\tLoss_G: 4.4672\tD(x): 0.8457\tD(G(z)): 0.2867 / 0.0297\n",
      "Epoch 349\n"
     ]
    },
    {
     "name": "stderr",
     "output_type": "stream",
     "text": [
      "100%|██████████████████████████████████████████████████████████████████████████████████| 16/16 [00:19<00:00,  1.19s/it]\n"
     ]
    },
    {
     "name": "stdout",
     "output_type": "stream",
     "text": [
      "[349/500][15/16]\tLoss_D: 0.9570\tLoss_G: 2.0215\tD(x): 0.5944\tD(G(z)): 0.0667 / 0.2183\n",
      "Epoch 350\n"
     ]
    },
    {
     "name": "stderr",
     "output_type": "stream",
     "text": [
      "100%|██████████████████████████████████████████████████████████████████████████████████| 16/16 [00:18<00:00,  1.18s/it]\n"
     ]
    },
    {
     "name": "stdout",
     "output_type": "stream",
     "text": [
      "[350/500][15/16]\tLoss_D: 0.6465\tLoss_G: 2.6753\tD(x): 0.6300\tD(G(z)): 0.0304 / 0.1558\n",
      "Epoch 351\n"
     ]
    },
    {
     "name": "stderr",
     "output_type": "stream",
     "text": [
      "100%|██████████████████████████████████████████████████████████████████████████████████| 16/16 [00:19<00:00,  1.20s/it]\n"
     ]
    },
    {
     "name": "stdout",
     "output_type": "stream",
     "text": [
      "[351/500][15/16]\tLoss_D: 1.7811\tLoss_G: 1.5772\tD(x): 0.3471\tD(G(z)): 0.0200 / 0.3059\n",
      "Epoch 352\n"
     ]
    },
    {
     "name": "stderr",
     "output_type": "stream",
     "text": [
      "100%|██████████████████████████████████████████████████████████████████████████████████| 16/16 [00:18<00:00,  1.18s/it]\n"
     ]
    },
    {
     "name": "stdout",
     "output_type": "stream",
     "text": [
      "[352/500][15/16]\tLoss_D: 0.3197\tLoss_G: 2.7967\tD(x): 0.8193\tD(G(z)): 0.0721 / 0.1287\n",
      "Epoch 353\n"
     ]
    },
    {
     "name": "stderr",
     "output_type": "stream",
     "text": [
      "100%|██████████████████████████████████████████████████████████████████████████████████| 16/16 [00:19<00:00,  1.19s/it]\n"
     ]
    },
    {
     "name": "stdout",
     "output_type": "stream",
     "text": [
      "[353/500][15/16]\tLoss_D: 0.3224\tLoss_G: 3.4827\tD(x): 0.8679\tD(G(z)): 0.1245 / 0.0657\n",
      "Epoch 354\n"
     ]
    },
    {
     "name": "stderr",
     "output_type": "stream",
     "text": [
      "100%|██████████████████████████████████████████████████████████████████████████████████| 16/16 [00:18<00:00,  1.19s/it]\n"
     ]
    },
    {
     "name": "stdout",
     "output_type": "stream",
     "text": [
      "[354/500][15/16]\tLoss_D: 0.3416\tLoss_G: 4.0075\tD(x): 0.9179\tD(G(z)): 0.1861 / 0.0318\n",
      "Epoch 355\n"
     ]
    },
    {
     "name": "stderr",
     "output_type": "stream",
     "text": [
      "100%|██████████████████████████████████████████████████████████████████████████████████| 16/16 [00:19<00:00,  1.20s/it]\n"
     ]
    },
    {
     "name": "stdout",
     "output_type": "stream",
     "text": [
      "[355/500][15/16]\tLoss_D: 0.5135\tLoss_G: 5.0855\tD(x): 0.9400\tD(G(z)): 0.2724 / 0.0117\n",
      "Epoch 356\n"
     ]
    },
    {
     "name": "stderr",
     "output_type": "stream",
     "text": [
      "100%|██████████████████████████████████████████████████████████████████████████████████| 16/16 [00:19<00:00,  1.19s/it]\n"
     ]
    },
    {
     "name": "stdout",
     "output_type": "stream",
     "text": [
      "[356/500][15/16]\tLoss_D: 0.3359\tLoss_G: 2.9402\tD(x): 0.8096\tD(G(z)): 0.0768 / 0.1405\n",
      "Epoch 357\n"
     ]
    },
    {
     "name": "stderr",
     "output_type": "stream",
     "text": [
      "100%|██████████████████████████████████████████████████████████████████████████████████| 16/16 [00:20<00:00,  1.28s/it]\n"
     ]
    },
    {
     "name": "stdout",
     "output_type": "stream",
     "text": [
      "[357/500][15/16]\tLoss_D: 0.8386\tLoss_G: 4.8320\tD(x): 0.8260\tD(G(z)): 0.3439 / 0.0177\n",
      "Epoch 358\n"
     ]
    },
    {
     "name": "stderr",
     "output_type": "stream",
     "text": [
      "100%|██████████████████████████████████████████████████████████████████████████████████| 16/16 [00:20<00:00,  1.26s/it]\n"
     ]
    },
    {
     "name": "stdout",
     "output_type": "stream",
     "text": [
      "[358/500][15/16]\tLoss_D: 0.8678\tLoss_G: 3.5373\tD(x): 0.5496\tD(G(z)): 0.0428 / 0.0662\n",
      "Epoch 359\n"
     ]
    },
    {
     "name": "stderr",
     "output_type": "stream",
     "text": [
      "100%|██████████████████████████████████████████████████████████████████████████████████| 16/16 [00:20<00:00,  1.27s/it]\n"
     ]
    },
    {
     "name": "stdout",
     "output_type": "stream",
     "text": [
      "[359/500][15/16]\tLoss_D: 0.4931\tLoss_G: 3.0060\tD(x): 0.7703\tD(G(z)): 0.0928 / 0.1128\n",
      "Epoch 360\n"
     ]
    },
    {
     "name": "stderr",
     "output_type": "stream",
     "text": [
      "100%|██████████████████████████████████████████████████████████████████████████████████| 16/16 [00:20<00:00,  1.27s/it]\n"
     ]
    },
    {
     "name": "stdout",
     "output_type": "stream",
     "text": [
      "[360/500][15/16]\tLoss_D: 0.5945\tLoss_G: 4.5181\tD(x): 0.9363\tD(G(z)): 0.3249 / 0.0352\n",
      "Epoch 361\n"
     ]
    },
    {
     "name": "stderr",
     "output_type": "stream",
     "text": [
      "100%|██████████████████████████████████████████████████████████████████████████████████| 16/16 [00:20<00:00,  1.27s/it]\n"
     ]
    },
    {
     "name": "stdout",
     "output_type": "stream",
     "text": [
      "[361/500][15/16]\tLoss_D: 0.2883\tLoss_G: 3.9910\tD(x): 0.9073\tD(G(z)): 0.1444 / 0.0430\n",
      "Epoch 362\n"
     ]
    },
    {
     "name": "stderr",
     "output_type": "stream",
     "text": [
      "100%|██████████████████████████████████████████████████████████████████████████████████| 16/16 [00:20<00:00,  1.30s/it]\n"
     ]
    },
    {
     "name": "stdout",
     "output_type": "stream",
     "text": [
      "[362/500][15/16]\tLoss_D: 0.2985\tLoss_G: 3.4459\tD(x): 0.8446\tD(G(z)): 0.0830 / 0.0976\n",
      "Epoch 363\n"
     ]
    },
    {
     "name": "stderr",
     "output_type": "stream",
     "text": [
      "100%|██████████████████████████████████████████████████████████████████████████████████| 16/16 [00:20<00:00,  1.29s/it]\n"
     ]
    },
    {
     "name": "stdout",
     "output_type": "stream",
     "text": [
      "[363/500][15/16]\tLoss_D: 0.3927\tLoss_G: 3.7677\tD(x): 0.7741\tD(G(z)): 0.0470 / 0.0469\n",
      "Epoch 364\n"
     ]
    },
    {
     "name": "stderr",
     "output_type": "stream",
     "text": [
      "100%|██████████████████████████████████████████████████████████████████████████████████| 16/16 [00:20<00:00,  1.28s/it]\n"
     ]
    },
    {
     "name": "stdout",
     "output_type": "stream",
     "text": [
      "[364/500][15/16]\tLoss_D: 0.5897\tLoss_G: 1.9760\tD(x): 0.6918\tD(G(z)): 0.0428 / 0.2407\n",
      "Epoch 365\n"
     ]
    },
    {
     "name": "stderr",
     "output_type": "stream",
     "text": [
      "100%|██████████████████████████████████████████████████████████████████████████████████| 16/16 [00:20<00:00,  1.28s/it]\n"
     ]
    },
    {
     "name": "stdout",
     "output_type": "stream",
     "text": [
      "[365/500][15/16]\tLoss_D: 0.3808\tLoss_G: 4.5750\tD(x): 0.7989\tD(G(z)): 0.0958 / 0.0305\n",
      "Epoch 366\n"
     ]
    },
    {
     "name": "stderr",
     "output_type": "stream",
     "text": [
      "100%|██████████████████████████████████████████████████████████████████████████████████| 16/16 [00:20<00:00,  1.27s/it]\n"
     ]
    },
    {
     "name": "stdout",
     "output_type": "stream",
     "text": [
      "[366/500][15/16]\tLoss_D: 0.9271\tLoss_G: 2.9061\tD(x): 0.5418\tD(G(z)): 0.0702 / 0.1572\n",
      "Epoch 367\n"
     ]
    },
    {
     "name": "stderr",
     "output_type": "stream",
     "text": [
      "100%|██████████████████████████████████████████████████████████████████████████████████| 16/16 [00:20<00:00,  1.28s/it]\n"
     ]
    },
    {
     "name": "stdout",
     "output_type": "stream",
     "text": [
      "[367/500][15/16]\tLoss_D: 0.3256\tLoss_G: 2.7987\tD(x): 0.8195\tD(G(z)): 0.0594 / 0.1257\n",
      "Epoch 368\n"
     ]
    },
    {
     "name": "stderr",
     "output_type": "stream",
     "text": [
      "100%|██████████████████████████████████████████████████████████████████████████████████| 16/16 [00:20<00:00,  1.25s/it]\n"
     ]
    },
    {
     "name": "stdout",
     "output_type": "stream",
     "text": [
      "[368/500][15/16]\tLoss_D: 0.2129\tLoss_G: 4.1003\tD(x): 0.8669\tD(G(z)): 0.0497 / 0.0427\n",
      "Epoch 369\n"
     ]
    },
    {
     "name": "stderr",
     "output_type": "stream",
     "text": [
      "100%|██████████████████████████████████████████████████████████████████████████████████| 16/16 [00:20<00:00,  1.30s/it]\n"
     ]
    },
    {
     "name": "stdout",
     "output_type": "stream",
     "text": [
      "[369/500][15/16]\tLoss_D: 0.5500\tLoss_G: 4.0258\tD(x): 0.7472\tD(G(z)): 0.0933 / 0.0818\n",
      "Epoch 370\n"
     ]
    },
    {
     "name": "stderr",
     "output_type": "stream",
     "text": [
      "100%|██████████████████████████████████████████████████████████████████████████████████| 16/16 [00:20<00:00,  1.28s/it]\n"
     ]
    },
    {
     "name": "stdout",
     "output_type": "stream",
     "text": [
      "[370/500][15/16]\tLoss_D: 0.5304\tLoss_G: 2.4924\tD(x): 0.7355\tD(G(z)): 0.1108 / 0.1926\n",
      "Epoch 371\n"
     ]
    },
    {
     "name": "stderr",
     "output_type": "stream",
     "text": [
      "100%|██████████████████████████████████████████████████████████████████████████████████| 16/16 [00:20<00:00,  1.27s/it]\n"
     ]
    },
    {
     "name": "stdout",
     "output_type": "stream",
     "text": [
      "[371/500][15/16]\tLoss_D: 0.6629\tLoss_G: 3.6031\tD(x): 0.8140\tD(G(z)): 0.2144 / 0.0451\n",
      "Epoch 372\n"
     ]
    },
    {
     "name": "stderr",
     "output_type": "stream",
     "text": [
      "100%|██████████████████████████████████████████████████████████████████████████████████| 16/16 [00:20<00:00,  1.27s/it]\n"
     ]
    },
    {
     "name": "stdout",
     "output_type": "stream",
     "text": [
      "[372/500][15/16]\tLoss_D: 0.8897\tLoss_G: 6.4195\tD(x): 0.9356\tD(G(z)): 0.4443 / 0.0047\n",
      "Epoch 373\n"
     ]
    },
    {
     "name": "stderr",
     "output_type": "stream",
     "text": [
      "100%|██████████████████████████████████████████████████████████████████████████████████| 16/16 [00:20<00:00,  1.28s/it]\n"
     ]
    },
    {
     "name": "stdout",
     "output_type": "stream",
     "text": [
      "[373/500][15/16]\tLoss_D: 0.3297\tLoss_G: 3.5507\tD(x): 0.8572\tD(G(z)): 0.1076 / 0.0845\n",
      "Epoch 374\n"
     ]
    },
    {
     "name": "stderr",
     "output_type": "stream",
     "text": [
      "100%|██████████████████████████████████████████████████████████████████████████████████| 16/16 [00:20<00:00,  1.27s/it]\n"
     ]
    },
    {
     "name": "stdout",
     "output_type": "stream",
     "text": [
      "[374/500][15/16]\tLoss_D: 0.2490\tLoss_G: 4.4708\tD(x): 0.9109\tD(G(z)): 0.0997 / 0.0501\n",
      "Epoch 375\n"
     ]
    },
    {
     "name": "stderr",
     "output_type": "stream",
     "text": [
      "100%|██████████████████████████████████████████████████████████████████████████████████| 16/16 [00:21<00:00,  1.31s/it]\n"
     ]
    },
    {
     "name": "stdout",
     "output_type": "stream",
     "text": [
      "[375/500][15/16]\tLoss_D: 0.2601\tLoss_G: 2.6251\tD(x): 0.8945\tD(G(z)): 0.1226 / 0.1526\n",
      "Epoch 376\n"
     ]
    },
    {
     "name": "stderr",
     "output_type": "stream",
     "text": [
      "100%|██████████████████████████████████████████████████████████████████████████████████| 16/16 [00:20<00:00,  1.29s/it]\n"
     ]
    },
    {
     "name": "stdout",
     "output_type": "stream",
     "text": [
      "[376/500][15/16]\tLoss_D: 0.3906\tLoss_G: 4.9557\tD(x): 0.9448\tD(G(z)): 0.2294 / 0.0228\n",
      "Epoch 377\n"
     ]
    },
    {
     "name": "stderr",
     "output_type": "stream",
     "text": [
      "100%|██████████████████████████████████████████████████████████████████████████████████| 16/16 [00:20<00:00,  1.27s/it]\n"
     ]
    },
    {
     "name": "stdout",
     "output_type": "stream",
     "text": [
      "[377/500][15/16]\tLoss_D: 0.5819\tLoss_G: 4.6048\tD(x): 0.8704\tD(G(z)): 0.2674 / 0.0218\n",
      "Epoch 378\n"
     ]
    },
    {
     "name": "stderr",
     "output_type": "stream",
     "text": [
      "100%|██████████████████████████████████████████████████████████████████████████████████| 16/16 [00:21<00:00,  1.32s/it]\n"
     ]
    },
    {
     "name": "stdout",
     "output_type": "stream",
     "text": [
      "[378/500][15/16]\tLoss_D: 0.3936\tLoss_G: 4.1207\tD(x): 0.9200\tD(G(z)): 0.2021 / 0.0359\n",
      "Epoch 379\n"
     ]
    },
    {
     "name": "stderr",
     "output_type": "stream",
     "text": [
      "100%|██████████████████████████████████████████████████████████████████████████████████| 16/16 [00:20<00:00,  1.29s/it]\n"
     ]
    },
    {
     "name": "stdout",
     "output_type": "stream",
     "text": [
      "[379/500][15/16]\tLoss_D: 0.3083\tLoss_G: 5.1951\tD(x): 0.7988\tD(G(z)): 0.0495 / 0.0407\n",
      "Epoch 380\n"
     ]
    },
    {
     "name": "stderr",
     "output_type": "stream",
     "text": [
      "100%|██████████████████████████████████████████████████████████████████████████████████| 16/16 [00:21<00:00,  1.36s/it]\n"
     ]
    },
    {
     "name": "stdout",
     "output_type": "stream",
     "text": [
      "[380/500][15/16]\tLoss_D: 0.5078\tLoss_G: 4.1032\tD(x): 0.8285\tD(G(z)): 0.1450 / 0.0258\n",
      "Epoch 381\n"
     ]
    },
    {
     "name": "stderr",
     "output_type": "stream",
     "text": [
      "100%|██████████████████████████████████████████████████████████████████████████████████| 16/16 [00:21<00:00,  1.33s/it]\n"
     ]
    },
    {
     "name": "stdout",
     "output_type": "stream",
     "text": [
      "[381/500][15/16]\tLoss_D: 0.4310\tLoss_G: 4.7729\tD(x): 0.9701\tD(G(z)): 0.2622 / 0.0407\n",
      "Epoch 382\n"
     ]
    },
    {
     "name": "stderr",
     "output_type": "stream",
     "text": [
      "100%|██████████████████████████████████████████████████████████████████████████████████| 16/16 [00:21<00:00,  1.34s/it]\n"
     ]
    },
    {
     "name": "stdout",
     "output_type": "stream",
     "text": [
      "[382/500][15/16]\tLoss_D: 0.6731\tLoss_G: 6.2924\tD(x): 0.9172\tD(G(z)): 0.3607 / 0.0041\n",
      "Epoch 383\n"
     ]
    },
    {
     "name": "stderr",
     "output_type": "stream",
     "text": [
      "100%|██████████████████████████████████████████████████████████████████████████████████| 16/16 [00:19<00:00,  1.23s/it]\n"
     ]
    },
    {
     "name": "stdout",
     "output_type": "stream",
     "text": [
      "[383/500][15/16]\tLoss_D: 0.2403\tLoss_G: 4.6755\tD(x): 0.9561\tD(G(z)): 0.1539 / 0.0309\n",
      "Epoch 384\n"
     ]
    },
    {
     "name": "stderr",
     "output_type": "stream",
     "text": [
      "100%|██████████████████████████████████████████████████████████████████████████████████| 16/16 [00:18<00:00,  1.16s/it]\n"
     ]
    },
    {
     "name": "stdout",
     "output_type": "stream",
     "text": [
      "[384/500][15/16]\tLoss_D: 0.7991\tLoss_G: 5.7402\tD(x): 0.9308\tD(G(z)): 0.3762 / 0.0056\n",
      "Epoch 385\n"
     ]
    },
    {
     "name": "stderr",
     "output_type": "stream",
     "text": [
      "100%|██████████████████████████████████████████████████████████████████████████████████| 16/16 [00:18<00:00,  1.19s/it]\n"
     ]
    },
    {
     "name": "stdout",
     "output_type": "stream",
     "text": [
      "[385/500][15/16]\tLoss_D: 0.3269\tLoss_G: 4.2212\tD(x): 0.8649\tD(G(z)): 0.1177 / 0.0479\n",
      "Epoch 386\n"
     ]
    },
    {
     "name": "stderr",
     "output_type": "stream",
     "text": [
      "100%|██████████████████████████████████████████████████████████████████████████████████| 16/16 [00:18<00:00,  1.16s/it]\n"
     ]
    },
    {
     "name": "stdout",
     "output_type": "stream",
     "text": [
      "[386/500][15/16]\tLoss_D: 0.3150\tLoss_G: 3.6876\tD(x): 0.8952\tD(G(z)): 0.1461 / 0.0603\n",
      "Epoch 387\n"
     ]
    },
    {
     "name": "stderr",
     "output_type": "stream",
     "text": [
      "100%|██████████████████████████████████████████████████████████████████████████████████| 16/16 [00:18<00:00,  1.16s/it]\n"
     ]
    },
    {
     "name": "stdout",
     "output_type": "stream",
     "text": [
      "[387/500][15/16]\tLoss_D: 0.6668\tLoss_G: 3.9044\tD(x): 0.6994\tD(G(z)): 0.1484 / 0.0417\n",
      "Epoch 388\n"
     ]
    },
    {
     "name": "stderr",
     "output_type": "stream",
     "text": [
      "100%|██████████████████████████████████████████████████████████████████████████████████| 16/16 [00:19<00:00,  1.20s/it]\n"
     ]
    },
    {
     "name": "stdout",
     "output_type": "stream",
     "text": [
      "[388/500][15/16]\tLoss_D: 0.7714\tLoss_G: 5.5728\tD(x): 0.8549\tD(G(z)): 0.2768 / 0.0050\n",
      "Epoch 389\n"
     ]
    },
    {
     "name": "stderr",
     "output_type": "stream",
     "text": [
      "100%|██████████████████████████████████████████████████████████████████████████████████| 16/16 [00:19<00:00,  1.19s/it]\n"
     ]
    },
    {
     "name": "stdout",
     "output_type": "stream",
     "text": [
      "[389/500][15/16]\tLoss_D: 0.4435\tLoss_G: 4.0998\tD(x): 0.8594\tD(G(z)): 0.2120 / 0.0485\n",
      "Epoch 390\n"
     ]
    },
    {
     "name": "stderr",
     "output_type": "stream",
     "text": [
      "100%|██████████████████████████████████████████████████████████████████████████████████| 16/16 [00:18<00:00,  1.17s/it]\n"
     ]
    },
    {
     "name": "stdout",
     "output_type": "stream",
     "text": [
      "[390/500][15/16]\tLoss_D: 0.4977\tLoss_G: 4.5740\tD(x): 0.8609\tD(G(z)): 0.2112 / 0.0334\n",
      "Epoch 391\n"
     ]
    },
    {
     "name": "stderr",
     "output_type": "stream",
     "text": [
      "100%|██████████████████████████████████████████████████████████████████████████████████| 16/16 [00:19<00:00,  1.19s/it]\n"
     ]
    },
    {
     "name": "stdout",
     "output_type": "stream",
     "text": [
      "[391/500][15/16]\tLoss_D: 0.2902\tLoss_G: 3.8535\tD(x): 0.8588\tD(G(z)): 0.1015 / 0.0704\n",
      "Epoch 392\n"
     ]
    },
    {
     "name": "stderr",
     "output_type": "stream",
     "text": [
      "100%|██████████████████████████████████████████████████████████████████████████████████| 16/16 [00:18<00:00,  1.17s/it]\n"
     ]
    },
    {
     "name": "stdout",
     "output_type": "stream",
     "text": [
      "[392/500][15/16]\tLoss_D: 0.6753\tLoss_G: 5.6955\tD(x): 0.9360\tD(G(z)): 0.3941 / 0.0111\n",
      "Epoch 393\n"
     ]
    },
    {
     "name": "stderr",
     "output_type": "stream",
     "text": [
      "100%|██████████████████████████████████████████████████████████████████████████████████| 16/16 [00:18<00:00,  1.17s/it]\n"
     ]
    },
    {
     "name": "stdout",
     "output_type": "stream",
     "text": [
      "[393/500][15/16]\tLoss_D: 0.5543\tLoss_G: 4.8570\tD(x): 0.8783\tD(G(z)): 0.2707 / 0.0157\n",
      "Epoch 394\n"
     ]
    },
    {
     "name": "stderr",
     "output_type": "stream",
     "text": [
      "100%|██████████████████████████████████████████████████████████████████████████████████| 16/16 [00:18<00:00,  1.17s/it]\n"
     ]
    },
    {
     "name": "stdout",
     "output_type": "stream",
     "text": [
      "[394/500][15/16]\tLoss_D: 0.3447\tLoss_G: 5.0432\tD(x): 0.9081\tD(G(z)): 0.1886 / 0.0146\n",
      "Epoch 395\n"
     ]
    },
    {
     "name": "stderr",
     "output_type": "stream",
     "text": [
      "100%|██████████████████████████████████████████████████████████████████████████████████| 16/16 [00:18<00:00,  1.18s/it]\n"
     ]
    },
    {
     "name": "stdout",
     "output_type": "stream",
     "text": [
      "[395/500][15/16]\tLoss_D: 0.2750\tLoss_G: 4.4966\tD(x): 0.9706\tD(G(z)): 0.1784 / 0.0247\n",
      "Epoch 396\n"
     ]
    },
    {
     "name": "stderr",
     "output_type": "stream",
     "text": [
      "100%|██████████████████████████████████████████████████████████████████████████████████| 16/16 [00:18<00:00,  1.18s/it]\n"
     ]
    },
    {
     "name": "stdout",
     "output_type": "stream",
     "text": [
      "[396/500][15/16]\tLoss_D: 0.1984\tLoss_G: 4.9409\tD(x): 0.9607\tD(G(z)): 0.1294 / 0.0326\n",
      "Epoch 397\n"
     ]
    },
    {
     "name": "stderr",
     "output_type": "stream",
     "text": [
      "100%|██████████████████████████████████████████████████████████████████████████████████| 16/16 [00:18<00:00,  1.17s/it]\n"
     ]
    },
    {
     "name": "stdout",
     "output_type": "stream",
     "text": [
      "[397/500][15/16]\tLoss_D: 0.3643\tLoss_G: 4.0756\tD(x): 0.9293\tD(G(z)): 0.1992 / 0.0585\n",
      "Epoch 398\n"
     ]
    },
    {
     "name": "stderr",
     "output_type": "stream",
     "text": [
      "100%|██████████████████████████████████████████████████████████████████████████████████| 16/16 [00:18<00:00,  1.19s/it]\n"
     ]
    },
    {
     "name": "stdout",
     "output_type": "stream",
     "text": [
      "[398/500][15/16]\tLoss_D: 0.4246\tLoss_G: 3.3487\tD(x): 0.8737\tD(G(z)): 0.1554 / 0.0917\n",
      "Epoch 399\n"
     ]
    },
    {
     "name": "stderr",
     "output_type": "stream",
     "text": [
      "100%|██████████████████████████████████████████████████████████████████████████████████| 16/16 [00:18<00:00,  1.18s/it]\n"
     ]
    },
    {
     "name": "stdout",
     "output_type": "stream",
     "text": [
      "[399/500][15/16]\tLoss_D: 0.3420\tLoss_G: 2.7533\tD(x): 0.7846\tD(G(z)): 0.0245 / 0.1624\n",
      "Epoch 400\n"
     ]
    },
    {
     "name": "stderr",
     "output_type": "stream",
     "text": [
      "100%|██████████████████████████████████████████████████████████████████████████████████| 16/16 [00:18<00:00,  1.18s/it]\n"
     ]
    },
    {
     "name": "stdout",
     "output_type": "stream",
     "text": [
      "[400/500][15/16]\tLoss_D: 1.2487\tLoss_G: 2.1844\tD(x): 0.4926\tD(G(z)): 0.0082 / 0.2459\n",
      "Epoch 401\n"
     ]
    },
    {
     "name": "stderr",
     "output_type": "stream",
     "text": [
      "100%|██████████████████████████████████████████████████████████████████████████████████| 16/16 [00:18<00:00,  1.18s/it]\n"
     ]
    },
    {
     "name": "stdout",
     "output_type": "stream",
     "text": [
      "[401/500][15/16]\tLoss_D: 0.1707\tLoss_G: 5.0062\tD(x): 0.9502\tD(G(z)): 0.0994 / 0.0232\n",
      "Epoch 402\n"
     ]
    },
    {
     "name": "stderr",
     "output_type": "stream",
     "text": [
      "100%|██████████████████████████████████████████████████████████████████████████████████| 16/16 [00:19<00:00,  1.20s/it]\n"
     ]
    },
    {
     "name": "stdout",
     "output_type": "stream",
     "text": [
      "[402/500][15/16]\tLoss_D: 0.3676\tLoss_G: 4.3310\tD(x): 0.8036\tD(G(z)): 0.0918 / 0.0350\n",
      "Epoch 403\n"
     ]
    },
    {
     "name": "stderr",
     "output_type": "stream",
     "text": [
      "100%|██████████████████████████████████████████████████████████████████████████████████| 16/16 [00:18<00:00,  1.18s/it]\n"
     ]
    },
    {
     "name": "stdout",
     "output_type": "stream",
     "text": [
      "[403/500][15/16]\tLoss_D: 0.5699\tLoss_G: 1.9788\tD(x): 0.6967\tD(G(z)): 0.0458 / 0.2120\n",
      "Epoch 404\n"
     ]
    },
    {
     "name": "stderr",
     "output_type": "stream",
     "text": [
      "100%|██████████████████████████████████████████████████████████████████████████████████| 16/16 [00:19<00:00,  1.24s/it]\n"
     ]
    },
    {
     "name": "stdout",
     "output_type": "stream",
     "text": [
      "[404/500][15/16]\tLoss_D: 0.2491\tLoss_G: 4.1356\tD(x): 0.8914\tD(G(z)): 0.1053 / 0.0539\n",
      "Epoch 405\n"
     ]
    },
    {
     "name": "stderr",
     "output_type": "stream",
     "text": [
      "100%|██████████████████████████████████████████████████████████████████████████████████| 16/16 [00:18<00:00,  1.18s/it]\n"
     ]
    },
    {
     "name": "stdout",
     "output_type": "stream",
     "text": [
      "[405/500][15/16]\tLoss_D: 0.2650\tLoss_G: 4.0893\tD(x): 0.8777\tD(G(z)): 0.1052 / 0.0660\n",
      "Epoch 406\n"
     ]
    },
    {
     "name": "stderr",
     "output_type": "stream",
     "text": [
      "100%|██████████████████████████████████████████████████████████████████████████████████| 16/16 [00:18<00:00,  1.16s/it]\n"
     ]
    },
    {
     "name": "stdout",
     "output_type": "stream",
     "text": [
      "[406/500][15/16]\tLoss_D: 0.1287\tLoss_G: 3.2456\tD(x): 0.9484\tD(G(z)): 0.0659 / 0.0945\n",
      "Epoch 407\n"
     ]
    },
    {
     "name": "stderr",
     "output_type": "stream",
     "text": [
      "100%|██████████████████████████████████████████████████████████████████████████████████| 16/16 [00:18<00:00,  1.17s/it]\n"
     ]
    },
    {
     "name": "stdout",
     "output_type": "stream",
     "text": [
      "[407/500][15/16]\tLoss_D: 0.2642\tLoss_G: 2.7554\tD(x): 0.8993\tD(G(z)): 0.0967 / 0.1420\n",
      "Epoch 408\n"
     ]
    },
    {
     "name": "stderr",
     "output_type": "stream",
     "text": [
      "100%|██████████████████████████████████████████████████████████████████████████████████| 16/16 [00:18<00:00,  1.18s/it]\n"
     ]
    },
    {
     "name": "stdout",
     "output_type": "stream",
     "text": [
      "[408/500][15/16]\tLoss_D: 0.4204\tLoss_G: 6.8481\tD(x): 0.9272\tD(G(z)): 0.2223 / 0.0029\n",
      "Epoch 409\n"
     ]
    },
    {
     "name": "stderr",
     "output_type": "stream",
     "text": [
      "100%|██████████████████████████████████████████████████████████████████████████████████| 16/16 [00:18<00:00,  1.16s/it]\n"
     ]
    },
    {
     "name": "stdout",
     "output_type": "stream",
     "text": [
      "[409/500][15/16]\tLoss_D: 0.3605\tLoss_G: 2.5101\tD(x): 0.8291\tD(G(z)): 0.0954 / 0.2322\n",
      "Epoch 410\n"
     ]
    },
    {
     "name": "stderr",
     "output_type": "stream",
     "text": [
      "100%|██████████████████████████████████████████████████████████████████████████████████| 16/16 [00:18<00:00,  1.16s/it]\n"
     ]
    },
    {
     "name": "stdout",
     "output_type": "stream",
     "text": [
      "[410/500][15/16]\tLoss_D: 0.3343\tLoss_G: 3.4493\tD(x): 0.8502\tD(G(z)): 0.1135 / 0.0823\n",
      "Epoch 411\n"
     ]
    },
    {
     "name": "stderr",
     "output_type": "stream",
     "text": [
      "100%|██████████████████████████████████████████████████████████████████████████████████| 16/16 [00:18<00:00,  1.17s/it]\n"
     ]
    },
    {
     "name": "stdout",
     "output_type": "stream",
     "text": [
      "[411/500][15/16]\tLoss_D: 0.3548\tLoss_G: 3.1953\tD(x): 0.8310\tD(G(z)): 0.1059 / 0.1140\n",
      "Epoch 412\n"
     ]
    },
    {
     "name": "stderr",
     "output_type": "stream",
     "text": [
      "100%|██████████████████████████████████████████████████████████████████████████████████| 16/16 [00:18<00:00,  1.16s/it]\n"
     ]
    },
    {
     "name": "stdout",
     "output_type": "stream",
     "text": [
      "[412/500][15/16]\tLoss_D: 0.2783\tLoss_G: 2.7561\tD(x): 0.8679\tD(G(z)): 0.0816 / 0.1699\n",
      "Epoch 413\n"
     ]
    },
    {
     "name": "stderr",
     "output_type": "stream",
     "text": [
      "100%|██████████████████████████████████████████████████████████████████████████████████| 16/16 [00:18<00:00,  1.17s/it]\n"
     ]
    },
    {
     "name": "stdout",
     "output_type": "stream",
     "text": [
      "[413/500][15/16]\tLoss_D: 1.1787\tLoss_G: 2.3134\tD(x): 0.5033\tD(G(z)): 0.0033 / 0.2485\n",
      "Epoch 414\n"
     ]
    },
    {
     "name": "stderr",
     "output_type": "stream",
     "text": [
      "100%|██████████████████████████████████████████████████████████████████████████████████| 16/16 [00:18<00:00,  1.14s/it]\n"
     ]
    },
    {
     "name": "stdout",
     "output_type": "stream",
     "text": [
      "[414/500][15/16]\tLoss_D: 0.1339\tLoss_G: 3.8739\tD(x): 0.9648\tD(G(z)): 0.0873 / 0.0403\n",
      "Epoch 415\n"
     ]
    },
    {
     "name": "stderr",
     "output_type": "stream",
     "text": [
      "100%|██████████████████████████████████████████████████████████████████████████████████| 16/16 [00:18<00:00,  1.16s/it]\n"
     ]
    },
    {
     "name": "stdout",
     "output_type": "stream",
     "text": [
      "[415/500][15/16]\tLoss_D: 0.7030\tLoss_G: 2.1246\tD(x): 0.6026\tD(G(z)): 0.0090 / 0.2064\n",
      "Epoch 416\n"
     ]
    },
    {
     "name": "stderr",
     "output_type": "stream",
     "text": [
      "100%|██████████████████████████████████████████████████████████████████████████████████| 16/16 [00:18<00:00,  1.16s/it]\n"
     ]
    },
    {
     "name": "stdout",
     "output_type": "stream",
     "text": [
      "[416/500][15/16]\tLoss_D: 0.2434\tLoss_G: 3.5965\tD(x): 0.8753\tD(G(z)): 0.0562 / 0.0680\n",
      "Epoch 417\n"
     ]
    },
    {
     "name": "stderr",
     "output_type": "stream",
     "text": [
      "100%|██████████████████████████████████████████████████████████████████████████████████| 16/16 [00:18<00:00,  1.17s/it]\n"
     ]
    },
    {
     "name": "stdout",
     "output_type": "stream",
     "text": [
      "[417/500][15/16]\tLoss_D: 0.4721\tLoss_G: 3.0980\tD(x): 0.8454\tD(G(z)): 0.1567 / 0.1324\n",
      "Epoch 418\n"
     ]
    },
    {
     "name": "stderr",
     "output_type": "stream",
     "text": [
      "100%|██████████████████████████████████████████████████████████████████████████████████| 16/16 [00:18<00:00,  1.18s/it]\n"
     ]
    },
    {
     "name": "stdout",
     "output_type": "stream",
     "text": [
      "[418/500][15/16]\tLoss_D: 0.8037\tLoss_G: 5.0630\tD(x): 0.9549\tD(G(z)): 0.3897 / 0.0269\n",
      "Epoch 419\n"
     ]
    },
    {
     "name": "stderr",
     "output_type": "stream",
     "text": [
      "100%|██████████████████████████████████████████████████████████████████████████████████| 16/16 [00:18<00:00,  1.14s/it]\n"
     ]
    },
    {
     "name": "stdout",
     "output_type": "stream",
     "text": [
      "[419/500][15/16]\tLoss_D: 0.3129\tLoss_G: 2.1916\tD(x): 0.8816\tD(G(z)): 0.1447 / 0.1897\n",
      "Epoch 420\n"
     ]
    },
    {
     "name": "stderr",
     "output_type": "stream",
     "text": [
      "100%|██████████████████████████████████████████████████████████████████████████████████| 16/16 [00:18<00:00,  1.15s/it]\n"
     ]
    },
    {
     "name": "stdout",
     "output_type": "stream",
     "text": [
      "[420/500][15/16]\tLoss_D: 0.5322\tLoss_G: 5.4419\tD(x): 0.9307\tD(G(z)): 0.2637 / 0.0144\n",
      "Epoch 421\n"
     ]
    },
    {
     "name": "stderr",
     "output_type": "stream",
     "text": [
      "100%|██████████████████████████████████████████████████████████████████████████████████| 16/16 [00:18<00:00,  1.17s/it]\n"
     ]
    },
    {
     "name": "stdout",
     "output_type": "stream",
     "text": [
      "[421/500][15/16]\tLoss_D: 0.3256\tLoss_G: 5.2848\tD(x): 0.8780\tD(G(z)): 0.1492 / 0.0240\n",
      "Epoch 422\n"
     ]
    },
    {
     "name": "stderr",
     "output_type": "stream",
     "text": [
      "100%|██████████████████████████████████████████████████████████████████████████████████| 16/16 [00:18<00:00,  1.18s/it]\n"
     ]
    },
    {
     "name": "stdout",
     "output_type": "stream",
     "text": [
      "[422/500][15/16]\tLoss_D: 0.4624\tLoss_G: 5.1216\tD(x): 0.8614\tD(G(z)): 0.1887 / 0.0377\n",
      "Epoch 423\n"
     ]
    },
    {
     "name": "stderr",
     "output_type": "stream",
     "text": [
      "100%|██████████████████████████████████████████████████████████████████████████████████| 16/16 [00:18<00:00,  1.15s/it]\n"
     ]
    },
    {
     "name": "stdout",
     "output_type": "stream",
     "text": [
      "[423/500][15/16]\tLoss_D: 0.3382\tLoss_G: 3.7704\tD(x): 0.8390\tD(G(z)): 0.1101 / 0.0845\n",
      "Epoch 424\n"
     ]
    },
    {
     "name": "stderr",
     "output_type": "stream",
     "text": [
      "100%|██████████████████████████████████████████████████████████████████████████████████| 16/16 [00:18<00:00,  1.16s/it]\n"
     ]
    },
    {
     "name": "stdout",
     "output_type": "stream",
     "text": [
      "[424/500][15/16]\tLoss_D: 0.3228\tLoss_G: 4.1912\tD(x): 0.8613\tD(G(z)): 0.1130 / 0.0355\n",
      "Epoch 425\n"
     ]
    },
    {
     "name": "stderr",
     "output_type": "stream",
     "text": [
      "100%|██████████████████████████████████████████████████████████████████████████████████| 16/16 [00:18<00:00,  1.15s/it]\n"
     ]
    },
    {
     "name": "stdout",
     "output_type": "stream",
     "text": [
      "[425/500][15/16]\tLoss_D: 0.3103\tLoss_G: 3.2817\tD(x): 0.8737\tD(G(z)): 0.0953 / 0.1073\n",
      "Epoch 426\n"
     ]
    },
    {
     "name": "stderr",
     "output_type": "stream",
     "text": [
      "100%|██████████████████████████████████████████████████████████████████████████████████| 16/16 [00:18<00:00,  1.16s/it]\n"
     ]
    },
    {
     "name": "stdout",
     "output_type": "stream",
     "text": [
      "[426/500][15/16]\tLoss_D: 0.2915\tLoss_G: 4.1558\tD(x): 0.8445\tD(G(z)): 0.0821 / 0.0347\n",
      "Epoch 427\n"
     ]
    },
    {
     "name": "stderr",
     "output_type": "stream",
     "text": [
      "100%|██████████████████████████████████████████████████████████████████████████████████| 16/16 [00:18<00:00,  1.15s/it]\n"
     ]
    },
    {
     "name": "stdout",
     "output_type": "stream",
     "text": [
      "[427/500][15/16]\tLoss_D: 0.4558\tLoss_G: 5.3899\tD(x): 0.9633\tD(G(z)): 0.2804 / 0.0132\n",
      "Epoch 428\n"
     ]
    },
    {
     "name": "stderr",
     "output_type": "stream",
     "text": [
      "100%|██████████████████████████████████████████████████████████████████████████████████| 16/16 [00:18<00:00,  1.17s/it]\n"
     ]
    },
    {
     "name": "stdout",
     "output_type": "stream",
     "text": [
      "[428/500][15/16]\tLoss_D: 0.3577\tLoss_G: 5.2079\tD(x): 0.9336\tD(G(z)): 0.2011 / 0.0130\n",
      "Epoch 429\n"
     ]
    },
    {
     "name": "stderr",
     "output_type": "stream",
     "text": [
      "100%|██████████████████████████████████████████████████████████████████████████████████| 16/16 [00:18<00:00,  1.15s/it]\n"
     ]
    },
    {
     "name": "stdout",
     "output_type": "stream",
     "text": [
      "[429/500][15/16]\tLoss_D: 0.5554\tLoss_G: 5.2734\tD(x): 0.8297\tD(G(z)): 0.1909 / 0.0106\n",
      "Epoch 430\n"
     ]
    },
    {
     "name": "stderr",
     "output_type": "stream",
     "text": [
      "100%|██████████████████████████████████████████████████████████████████████████████████| 16/16 [00:18<00:00,  1.15s/it]\n"
     ]
    },
    {
     "name": "stdout",
     "output_type": "stream",
     "text": [
      "[430/500][15/16]\tLoss_D: 0.6816\tLoss_G: 2.7177\tD(x): 0.6179\tD(G(z)): 0.0516 / 0.1412\n",
      "Epoch 431\n"
     ]
    },
    {
     "name": "stderr",
     "output_type": "stream",
     "text": [
      "100%|██████████████████████████████████████████████████████████████████████████████████| 16/16 [00:18<00:00,  1.17s/it]\n"
     ]
    },
    {
     "name": "stdout",
     "output_type": "stream",
     "text": [
      "[431/500][15/16]\tLoss_D: 0.1756\tLoss_G: 2.7332\tD(x): 0.8998\tD(G(z)): 0.0547 / 0.1306\n",
      "Epoch 432\n"
     ]
    },
    {
     "name": "stderr",
     "output_type": "stream",
     "text": [
      "100%|██████████████████████████████████████████████████████████████████████████████████| 16/16 [00:18<00:00,  1.16s/it]\n"
     ]
    },
    {
     "name": "stdout",
     "output_type": "stream",
     "text": [
      "[432/500][15/16]\tLoss_D: 0.5523\tLoss_G: 3.5055\tD(x): 0.7242\tD(G(z)): 0.0498 / 0.0629\n",
      "Epoch 433\n"
     ]
    },
    {
     "name": "stderr",
     "output_type": "stream",
     "text": [
      "100%|██████████████████████████████████████████████████████████████████████████████████| 16/16 [00:18<00:00,  1.15s/it]\n"
     ]
    },
    {
     "name": "stdout",
     "output_type": "stream",
     "text": [
      "[433/500][15/16]\tLoss_D: 0.3001\tLoss_G: 3.8656\tD(x): 0.8811\tD(G(z)): 0.1257 / 0.0750\n",
      "Epoch 434\n"
     ]
    },
    {
     "name": "stderr",
     "output_type": "stream",
     "text": [
      "100%|██████████████████████████████████████████████████████████████████████████████████| 16/16 [00:18<00:00,  1.15s/it]\n"
     ]
    },
    {
     "name": "stdout",
     "output_type": "stream",
     "text": [
      "[434/500][15/16]\tLoss_D: 0.3228\tLoss_G: 5.0540\tD(x): 0.8840\tD(G(z)): 0.1483 / 0.0266\n",
      "Epoch 435\n"
     ]
    },
    {
     "name": "stderr",
     "output_type": "stream",
     "text": [
      "100%|██████████████████████████████████████████████████████████████████████████████████| 16/16 [00:18<00:00,  1.14s/it]\n"
     ]
    },
    {
     "name": "stdout",
     "output_type": "stream",
     "text": [
      "[435/500][15/16]\tLoss_D: 0.3172\tLoss_G: 3.8886\tD(x): 0.9300\tD(G(z)): 0.1801 / 0.0548\n",
      "Epoch 436\n"
     ]
    },
    {
     "name": "stderr",
     "output_type": "stream",
     "text": [
      "100%|██████████████████████████████████████████████████████████████████████████████████| 16/16 [00:18<00:00,  1.16s/it]\n"
     ]
    },
    {
     "name": "stdout",
     "output_type": "stream",
     "text": [
      "[436/500][15/16]\tLoss_D: 0.5030\tLoss_G: 3.5135\tD(x): 0.6857\tD(G(z)): 0.0121 / 0.0999\n",
      "Epoch 437\n"
     ]
    },
    {
     "name": "stderr",
     "output_type": "stream",
     "text": [
      "100%|██████████████████████████████████████████████████████████████████████████████████| 16/16 [00:18<00:00,  1.15s/it]\n"
     ]
    },
    {
     "name": "stdout",
     "output_type": "stream",
     "text": [
      "[437/500][15/16]\tLoss_D: 0.3220\tLoss_G: 5.1338\tD(x): 0.8582\tD(G(z)): 0.1101 / 0.0272\n",
      "Epoch 438\n"
     ]
    },
    {
     "name": "stderr",
     "output_type": "stream",
     "text": [
      "100%|██████████████████████████████████████████████████████████████████████████████████| 16/16 [00:18<00:00,  1.15s/it]\n"
     ]
    },
    {
     "name": "stdout",
     "output_type": "stream",
     "text": [
      "[438/500][15/16]\tLoss_D: 0.2425\tLoss_G: 4.6206\tD(x): 0.9274\tD(G(z)): 0.1346 / 0.0282\n",
      "Epoch 439\n"
     ]
    },
    {
     "name": "stderr",
     "output_type": "stream",
     "text": [
      "100%|██████████████████████████████████████████████████████████████████████████████████| 16/16 [00:18<00:00,  1.14s/it]\n"
     ]
    },
    {
     "name": "stdout",
     "output_type": "stream",
     "text": [
      "[439/500][15/16]\tLoss_D: 0.2931\tLoss_G: 2.6848\tD(x): 0.8113\tD(G(z)): 0.0443 / 0.1790\n",
      "Epoch 440\n"
     ]
    },
    {
     "name": "stderr",
     "output_type": "stream",
     "text": [
      "100%|██████████████████████████████████████████████████████████████████████████████████| 16/16 [00:18<00:00,  1.16s/it]\n"
     ]
    },
    {
     "name": "stdout",
     "output_type": "stream",
     "text": [
      "[440/500][15/16]\tLoss_D: 0.2187\tLoss_G: 3.3453\tD(x): 0.9427\tD(G(z)): 0.1208 / 0.1156\n",
      "Epoch 441\n"
     ]
    },
    {
     "name": "stderr",
     "output_type": "stream",
     "text": [
      "100%|██████████████████████████████████████████████████████████████████████████████████| 16/16 [00:18<00:00,  1.15s/it]\n"
     ]
    },
    {
     "name": "stdout",
     "output_type": "stream",
     "text": [
      "[441/500][15/16]\tLoss_D: 0.3656\tLoss_G: 3.5041\tD(x): 0.8181\tD(G(z)): 0.0366 / 0.0669\n",
      "Epoch 442\n"
     ]
    },
    {
     "name": "stderr",
     "output_type": "stream",
     "text": [
      "100%|██████████████████████████████████████████████████████████████████████████████████| 16/16 [00:18<00:00,  1.14s/it]\n"
     ]
    },
    {
     "name": "stdout",
     "output_type": "stream",
     "text": [
      "[442/500][15/16]\tLoss_D: 1.1959\tLoss_G: 8.1457\tD(x): 0.9757\tD(G(z)): 0.5103 / 0.0007\n",
      "Epoch 443\n"
     ]
    },
    {
     "name": "stderr",
     "output_type": "stream",
     "text": [
      "100%|██████████████████████████████████████████████████████████████████████████████████| 16/16 [00:18<00:00,  1.17s/it]\n"
     ]
    },
    {
     "name": "stdout",
     "output_type": "stream",
     "text": [
      "[443/500][15/16]\tLoss_D: 0.4232\tLoss_G: 3.5420\tD(x): 0.8396\tD(G(z)): 0.0731 / 0.0655\n",
      "Epoch 444\n"
     ]
    },
    {
     "name": "stderr",
     "output_type": "stream",
     "text": [
      "100%|██████████████████████████████████████████████████████████████████████████████████| 16/16 [00:18<00:00,  1.17s/it]\n"
     ]
    },
    {
     "name": "stdout",
     "output_type": "stream",
     "text": [
      "[444/500][15/16]\tLoss_D: 0.3002\tLoss_G: 3.9127\tD(x): 0.8529\tD(G(z)): 0.0866 / 0.0563\n",
      "Epoch 445\n"
     ]
    },
    {
     "name": "stderr",
     "output_type": "stream",
     "text": [
      "100%|██████████████████████████████████████████████████████████████████████████████████| 16/16 [00:18<00:00,  1.15s/it]\n"
     ]
    },
    {
     "name": "stdout",
     "output_type": "stream",
     "text": [
      "[445/500][15/16]\tLoss_D: 0.3314\tLoss_G: 4.4974\tD(x): 0.8192\tD(G(z)): 0.0679 / 0.0216\n",
      "Epoch 446\n"
     ]
    },
    {
     "name": "stderr",
     "output_type": "stream",
     "text": [
      "100%|██████████████████████████████████████████████████████████████████████████████████| 16/16 [00:18<00:00,  1.16s/it]\n"
     ]
    },
    {
     "name": "stdout",
     "output_type": "stream",
     "text": [
      "[446/500][15/16]\tLoss_D: 0.4248\tLoss_G: 2.9585\tD(x): 0.7279\tD(G(z)): 0.0141 / 0.1212\n",
      "Epoch 447\n"
     ]
    },
    {
     "name": "stderr",
     "output_type": "stream",
     "text": [
      "100%|██████████████████████████████████████████████████████████████████████████████████| 16/16 [00:18<00:00,  1.14s/it]\n"
     ]
    },
    {
     "name": "stdout",
     "output_type": "stream",
     "text": [
      "[447/500][15/16]\tLoss_D: 0.1721\tLoss_G: 4.6689\tD(x): 0.8718\tD(G(z)): 0.0135 / 0.0227\n",
      "Epoch 448\n"
     ]
    },
    {
     "name": "stderr",
     "output_type": "stream",
     "text": [
      "100%|██████████████████████████████████████████████████████████████████████████████████| 16/16 [00:18<00:00,  1.14s/it]\n"
     ]
    },
    {
     "name": "stdout",
     "output_type": "stream",
     "text": [
      "[448/500][15/16]\tLoss_D: 0.2261\tLoss_G: 3.9807\tD(x): 0.9248\tD(G(z)): 0.0874 / 0.0587\n",
      "Epoch 449\n"
     ]
    },
    {
     "name": "stderr",
     "output_type": "stream",
     "text": [
      "100%|██████████████████████████████████████████████████████████████████████████████████| 16/16 [00:18<00:00,  1.15s/it]\n"
     ]
    },
    {
     "name": "stdout",
     "output_type": "stream",
     "text": [
      "[449/500][15/16]\tLoss_D: 0.4196\tLoss_G: 3.1121\tD(x): 0.7861\tD(G(z)): 0.0432 / 0.0886\n",
      "Epoch 450\n"
     ]
    },
    {
     "name": "stderr",
     "output_type": "stream",
     "text": [
      "100%|██████████████████████████████████████████████████████████████████████████████████| 16/16 [00:18<00:00,  1.16s/it]\n"
     ]
    },
    {
     "name": "stdout",
     "output_type": "stream",
     "text": [
      "[450/500][15/16]\tLoss_D: 0.1411\tLoss_G: 3.9612\tD(x): 0.9112\tD(G(z)): 0.0365 / 0.0494\n",
      "Epoch 451\n"
     ]
    },
    {
     "name": "stderr",
     "output_type": "stream",
     "text": [
      "100%|██████████████████████████████████████████████████████████████████████████████████| 16/16 [00:18<00:00,  1.17s/it]\n"
     ]
    },
    {
     "name": "stdout",
     "output_type": "stream",
     "text": [
      "[451/500][15/16]\tLoss_D: 0.1771\tLoss_G: 4.1501\tD(x): 0.9345\tD(G(z)): 0.0879 / 0.0500\n",
      "Epoch 452\n"
     ]
    },
    {
     "name": "stderr",
     "output_type": "stream",
     "text": [
      "100%|██████████████████████████████████████████████████████████████████████████████████| 16/16 [00:18<00:00,  1.15s/it]\n"
     ]
    },
    {
     "name": "stdout",
     "output_type": "stream",
     "text": [
      "[452/500][15/16]\tLoss_D: 0.5130\tLoss_G: 2.5243\tD(x): 0.7091\tD(G(z)): 0.0201 / 0.2033\n",
      "Epoch 453\n"
     ]
    },
    {
     "name": "stderr",
     "output_type": "stream",
     "text": [
      "100%|██████████████████████████████████████████████████████████████████████████████████| 16/16 [00:18<00:00,  1.16s/it]\n"
     ]
    },
    {
     "name": "stdout",
     "output_type": "stream",
     "text": [
      "[453/500][15/16]\tLoss_D: 0.3457\tLoss_G: 4.3314\tD(x): 0.9330\tD(G(z)): 0.1895 / 0.0265\n",
      "Epoch 454\n"
     ]
    },
    {
     "name": "stderr",
     "output_type": "stream",
     "text": [
      "100%|██████████████████████████████████████████████████████████████████████████████████| 16/16 [00:18<00:00,  1.16s/it]\n"
     ]
    },
    {
     "name": "stdout",
     "output_type": "stream",
     "text": [
      "[454/500][15/16]\tLoss_D: 0.3728\tLoss_G: 4.6304\tD(x): 0.9548\tD(G(z)): 0.2330 / 0.0266\n",
      "Epoch 455\n"
     ]
    },
    {
     "name": "stderr",
     "output_type": "stream",
     "text": [
      "100%|██████████████████████████████████████████████████████████████████████████████████| 16/16 [00:18<00:00,  1.14s/it]\n"
     ]
    },
    {
     "name": "stdout",
     "output_type": "stream",
     "text": [
      "[455/500][15/16]\tLoss_D: 0.2869\tLoss_G: 3.4715\tD(x): 0.9379\tD(G(z)): 0.1642 / 0.1060\n",
      "Epoch 456\n"
     ]
    },
    {
     "name": "stderr",
     "output_type": "stream",
     "text": [
      "100%|██████████████████████████████████████████████████████████████████████████████████| 16/16 [00:18<00:00,  1.14s/it]\n"
     ]
    },
    {
     "name": "stdout",
     "output_type": "stream",
     "text": [
      "[456/500][15/16]\tLoss_D: 0.2235\tLoss_G: 4.5910\tD(x): 0.8569\tD(G(z)): 0.0314 / 0.0457\n",
      "Epoch 457\n"
     ]
    },
    {
     "name": "stderr",
     "output_type": "stream",
     "text": [
      "100%|██████████████████████████████████████████████████████████████████████████████████| 16/16 [00:18<00:00,  1.17s/it]\n"
     ]
    },
    {
     "name": "stdout",
     "output_type": "stream",
     "text": [
      "[457/500][15/16]\tLoss_D: 0.1494\tLoss_G: 4.3750\tD(x): 0.9198\tD(G(z)): 0.0546 / 0.0485\n",
      "Epoch 458\n"
     ]
    },
    {
     "name": "stderr",
     "output_type": "stream",
     "text": [
      "100%|██████████████████████████████████████████████████████████████████████████████████| 16/16 [00:18<00:00,  1.15s/it]\n"
     ]
    },
    {
     "name": "stdout",
     "output_type": "stream",
     "text": [
      "[458/500][15/16]\tLoss_D: 0.3125\tLoss_G: 2.7868\tD(x): 0.8566\tD(G(z)): 0.0663 / 0.1441\n",
      "Epoch 459\n"
     ]
    },
    {
     "name": "stderr",
     "output_type": "stream",
     "text": [
      "100%|██████████████████████████████████████████████████████████████████████████████████| 16/16 [00:18<00:00,  1.17s/it]\n"
     ]
    },
    {
     "name": "stdout",
     "output_type": "stream",
     "text": [
      "[459/500][15/16]\tLoss_D: 0.4471\tLoss_G: 4.4935\tD(x): 0.8796\tD(G(z)): 0.1437 / 0.0343\n",
      "Epoch 460\n"
     ]
    },
    {
     "name": "stderr",
     "output_type": "stream",
     "text": [
      "100%|██████████████████████████████████████████████████████████████████████████████████| 16/16 [00:18<00:00,  1.15s/it]\n"
     ]
    },
    {
     "name": "stdout",
     "output_type": "stream",
     "text": [
      "[460/500][15/16]\tLoss_D: 0.2047\tLoss_G: 4.6132\tD(x): 0.9354\tD(G(z)): 0.1097 / 0.0289\n",
      "Epoch 461\n"
     ]
    },
    {
     "name": "stderr",
     "output_type": "stream",
     "text": [
      "100%|██████████████████████████████████████████████████████████████████████████████████| 16/16 [00:18<00:00,  1.16s/it]\n"
     ]
    },
    {
     "name": "stdout",
     "output_type": "stream",
     "text": [
      "[461/500][15/16]\tLoss_D: 0.7077\tLoss_G: 5.5175\tD(x): 0.8836\tD(G(z)): 0.2828 / 0.0101\n",
      "Epoch 462\n"
     ]
    },
    {
     "name": "stderr",
     "output_type": "stream",
     "text": [
      "100%|██████████████████████████████████████████████████████████████████████████████████| 16/16 [00:18<00:00,  1.16s/it]\n"
     ]
    },
    {
     "name": "stdout",
     "output_type": "stream",
     "text": [
      "[462/500][15/16]\tLoss_D: 0.2433\tLoss_G: 3.2368\tD(x): 0.9461\tD(G(z)): 0.1502 / 0.0590\n",
      "Epoch 463\n"
     ]
    },
    {
     "name": "stderr",
     "output_type": "stream",
     "text": [
      "100%|██████████████████████████████████████████████████████████████████████████████████| 16/16 [00:18<00:00,  1.14s/it]\n"
     ]
    },
    {
     "name": "stdout",
     "output_type": "stream",
     "text": [
      "[463/500][15/16]\tLoss_D: 0.4082\tLoss_G: 6.9468\tD(x): 0.9250\tD(G(z)): 0.2436 / 0.0053\n",
      "Epoch 464\n"
     ]
    },
    {
     "name": "stderr",
     "output_type": "stream",
     "text": [
      "100%|██████████████████████████████████████████████████████████████████████████████████| 16/16 [00:18<00:00,  1.16s/it]\n"
     ]
    },
    {
     "name": "stdout",
     "output_type": "stream",
     "text": [
      "[464/500][15/16]\tLoss_D: 0.3734\tLoss_G: 3.0413\tD(x): 0.8155\tD(G(z)): 0.1006 / 0.1666\n",
      "Epoch 465\n"
     ]
    },
    {
     "name": "stderr",
     "output_type": "stream",
     "text": [
      "100%|██████████████████████████████████████████████████████████████████████████████████| 16/16 [00:18<00:00,  1.16s/it]\n"
     ]
    },
    {
     "name": "stdout",
     "output_type": "stream",
     "text": [
      "[465/500][15/16]\tLoss_D: 0.3853\tLoss_G: 5.2307\tD(x): 0.9143\tD(G(z)): 0.1664 / 0.0106\n",
      "Epoch 466\n"
     ]
    },
    {
     "name": "stderr",
     "output_type": "stream",
     "text": [
      "100%|██████████████████████████████████████████████████████████████████████████████████| 16/16 [00:18<00:00,  1.15s/it]\n"
     ]
    },
    {
     "name": "stdout",
     "output_type": "stream",
     "text": [
      "[466/500][15/16]\tLoss_D: 0.5709\tLoss_G: 1.9472\tD(x): 0.6600\tD(G(z)): 0.0299 / 0.2638\n",
      "Epoch 467\n"
     ]
    },
    {
     "name": "stderr",
     "output_type": "stream",
     "text": [
      "100%|██████████████████████████████████████████████████████████████████████████████████| 16/16 [00:18<00:00,  1.15s/it]\n"
     ]
    },
    {
     "name": "stdout",
     "output_type": "stream",
     "text": [
      "[467/500][15/16]\tLoss_D: 0.1503\tLoss_G: 4.5865\tD(x): 0.9758\tD(G(z)): 0.1051 / 0.0373\n",
      "Epoch 468\n"
     ]
    },
    {
     "name": "stderr",
     "output_type": "stream",
     "text": [
      "100%|██████████████████████████████████████████████████████████████████████████████████| 16/16 [00:18<00:00,  1.16s/it]\n"
     ]
    },
    {
     "name": "stdout",
     "output_type": "stream",
     "text": [
      "[468/500][15/16]\tLoss_D: 0.2072\tLoss_G: 3.9925\tD(x): 0.9303\tD(G(z)): 0.0918 / 0.0493\n",
      "Epoch 469\n"
     ]
    },
    {
     "name": "stderr",
     "output_type": "stream",
     "text": [
      "100%|██████████████████████████████████████████████████████████████████████████████████| 16/16 [00:18<00:00,  1.18s/it]\n"
     ]
    },
    {
     "name": "stdout",
     "output_type": "stream",
     "text": [
      "[469/500][15/16]\tLoss_D: 0.2669\tLoss_G: 4.2297\tD(x): 0.8151\tD(G(z)): 0.0339 / 0.0422\n",
      "Epoch 470\n"
     ]
    },
    {
     "name": "stderr",
     "output_type": "stream",
     "text": [
      "100%|██████████████████████████████████████████████████████████████████████████████████| 16/16 [00:18<00:00,  1.18s/it]\n"
     ]
    },
    {
     "name": "stdout",
     "output_type": "stream",
     "text": [
      "[470/500][15/16]\tLoss_D: 0.6552\tLoss_G: 5.6713\tD(x): 0.9570\tD(G(z)): 0.2964 / 0.0118\n",
      "Epoch 471\n"
     ]
    },
    {
     "name": "stderr",
     "output_type": "stream",
     "text": [
      "100%|██████████████████████████████████████████████████████████████████████████████████| 16/16 [00:18<00:00,  1.19s/it]\n"
     ]
    },
    {
     "name": "stdout",
     "output_type": "stream",
     "text": [
      "[471/500][15/16]\tLoss_D: 0.3650\tLoss_G: 2.5145\tD(x): 0.7849\tD(G(z)): 0.0471 / 0.1989\n",
      "Epoch 472\n"
     ]
    },
    {
     "name": "stderr",
     "output_type": "stream",
     "text": [
      "100%|██████████████████████████████████████████████████████████████████████████████████| 16/16 [00:18<00:00,  1.17s/it]\n"
     ]
    },
    {
     "name": "stdout",
     "output_type": "stream",
     "text": [
      "[472/500][15/16]\tLoss_D: 0.4237\tLoss_G: 3.7974\tD(x): 0.8324\tD(G(z)): 0.1415 / 0.0718\n",
      "Epoch 473\n"
     ]
    },
    {
     "name": "stderr",
     "output_type": "stream",
     "text": [
      "100%|██████████████████████████████████████████████████████████████████████████████████| 16/16 [00:18<00:00,  1.16s/it]\n"
     ]
    },
    {
     "name": "stdout",
     "output_type": "stream",
     "text": [
      "[473/500][15/16]\tLoss_D: 0.1908\tLoss_G: 3.3007\tD(x): 0.8655\tD(G(z)): 0.0142 / 0.1172\n",
      "Epoch 474\n"
     ]
    },
    {
     "name": "stderr",
     "output_type": "stream",
     "text": [
      "100%|██████████████████████████████████████████████████████████████████████████████████| 16/16 [00:18<00:00,  1.15s/it]\n"
     ]
    },
    {
     "name": "stdout",
     "output_type": "stream",
     "text": [
      "[474/500][15/16]\tLoss_D: 0.4430\tLoss_G: 6.1923\tD(x): 0.9625\tD(G(z)): 0.2632 / 0.0125\n",
      "Epoch 475\n"
     ]
    },
    {
     "name": "stderr",
     "output_type": "stream",
     "text": [
      "100%|██████████████████████████████████████████████████████████████████████████████████| 16/16 [00:18<00:00,  1.18s/it]\n"
     ]
    },
    {
     "name": "stdout",
     "output_type": "stream",
     "text": [
      "[475/500][15/16]\tLoss_D: 0.3717\tLoss_G: 4.4904\tD(x): 0.8224\tD(G(z)): 0.0561 / 0.0572\n",
      "Epoch 476\n"
     ]
    },
    {
     "name": "stderr",
     "output_type": "stream",
     "text": [
      "100%|██████████████████████████████████████████████████████████████████████████████████| 16/16 [00:18<00:00,  1.16s/it]\n"
     ]
    },
    {
     "name": "stdout",
     "output_type": "stream",
     "text": [
      "[476/500][15/16]\tLoss_D: 0.4991\tLoss_G: 3.4759\tD(x): 0.7778\tD(G(z)): 0.0497 / 0.1293\n",
      "Epoch 477\n"
     ]
    },
    {
     "name": "stderr",
     "output_type": "stream",
     "text": [
      "100%|██████████████████████████████████████████████████████████████████████████████████| 16/16 [00:18<00:00,  1.18s/it]\n"
     ]
    },
    {
     "name": "stdout",
     "output_type": "stream",
     "text": [
      "[477/500][15/16]\tLoss_D: 0.2622\tLoss_G: 4.3608\tD(x): 0.8702\tD(G(z)): 0.0691 / 0.0429\n",
      "Epoch 478\n"
     ]
    },
    {
     "name": "stderr",
     "output_type": "stream",
     "text": [
      "100%|██████████████████████████████████████████████████████████████████████████████████| 16/16 [00:18<00:00,  1.16s/it]\n"
     ]
    },
    {
     "name": "stdout",
     "output_type": "stream",
     "text": [
      "[478/500][15/16]\tLoss_D: 0.7452\tLoss_G: 5.4120\tD(x): 0.8714\tD(G(z)): 0.3090 / 0.0178\n",
      "Epoch 479\n"
     ]
    },
    {
     "name": "stderr",
     "output_type": "stream",
     "text": [
      "100%|██████████████████████████████████████████████████████████████████████████████████| 16/16 [00:18<00:00,  1.16s/it]\n"
     ]
    },
    {
     "name": "stdout",
     "output_type": "stream",
     "text": [
      "[479/500][15/16]\tLoss_D: 0.7455\tLoss_G: 1.5751\tD(x): 0.5746\tD(G(z)): 0.0528 / 0.3489\n",
      "Epoch 480\n"
     ]
    },
    {
     "name": "stderr",
     "output_type": "stream",
     "text": [
      "100%|██████████████████████████████████████████████████████████████████████████████████| 16/16 [00:18<00:00,  1.15s/it]\n"
     ]
    },
    {
     "name": "stdout",
     "output_type": "stream",
     "text": [
      "[480/500][15/16]\tLoss_D: 0.4868\tLoss_G: 3.2079\tD(x): 0.7016\tD(G(z)): 0.0430 / 0.1122\n",
      "Epoch 481\n"
     ]
    },
    {
     "name": "stderr",
     "output_type": "stream",
     "text": [
      "100%|██████████████████████████████████████████████████████████████████████████████████| 16/16 [00:18<00:00,  1.17s/it]\n"
     ]
    },
    {
     "name": "stdout",
     "output_type": "stream",
     "text": [
      "[481/500][15/16]\tLoss_D: 0.4112\tLoss_G: 3.3662\tD(x): 0.8521\tD(G(z)): 0.1483 / 0.0938\n",
      "Epoch 482\n"
     ]
    },
    {
     "name": "stderr",
     "output_type": "stream",
     "text": [
      "100%|██████████████████████████████████████████████████████████████████████████████████| 16/16 [00:18<00:00,  1.15s/it]\n"
     ]
    },
    {
     "name": "stdout",
     "output_type": "stream",
     "text": [
      "[482/500][15/16]\tLoss_D: 0.2649\tLoss_G: 4.4026\tD(x): 0.8587\tD(G(z)): 0.0330 / 0.0248\n",
      "Epoch 483\n"
     ]
    },
    {
     "name": "stderr",
     "output_type": "stream",
     "text": [
      "100%|██████████████████████████████████████████████████████████████████████████████████| 16/16 [00:18<00:00,  1.18s/it]\n"
     ]
    },
    {
     "name": "stdout",
     "output_type": "stream",
     "text": [
      "[483/500][15/16]\tLoss_D: 0.4475\tLoss_G: 3.6312\tD(x): 0.8337\tD(G(z)): 0.0650 / 0.0984\n",
      "Epoch 484\n"
     ]
    },
    {
     "name": "stderr",
     "output_type": "stream",
     "text": [
      "100%|██████████████████████████████████████████████████████████████████████████████████| 16/16 [00:18<00:00,  1.15s/it]\n"
     ]
    },
    {
     "name": "stdout",
     "output_type": "stream",
     "text": [
      "[484/500][15/16]\tLoss_D: 0.2878\tLoss_G: 4.9425\tD(x): 0.9015\tD(G(z)): 0.0984 / 0.0230\n",
      "Epoch 485\n"
     ]
    },
    {
     "name": "stderr",
     "output_type": "stream",
     "text": [
      "100%|██████████████████████████████████████████████████████████████████████████████████| 16/16 [00:18<00:00,  1.16s/it]\n"
     ]
    },
    {
     "name": "stdout",
     "output_type": "stream",
     "text": [
      "[485/500][15/16]\tLoss_D: 0.1967\tLoss_G: 4.8178\tD(x): 0.9587\tD(G(z)): 0.1217 / 0.0222\n",
      "Epoch 486\n"
     ]
    },
    {
     "name": "stderr",
     "output_type": "stream",
     "text": [
      "100%|██████████████████████████████████████████████████████████████████████████████████| 16/16 [00:18<00:00,  1.16s/it]\n"
     ]
    },
    {
     "name": "stdout",
     "output_type": "stream",
     "text": [
      "[486/500][15/16]\tLoss_D: 0.6163\tLoss_G: 1.6784\tD(x): 0.6479\tD(G(z)): 0.0344 / 0.3456\n",
      "Epoch 487\n"
     ]
    },
    {
     "name": "stderr",
     "output_type": "stream",
     "text": [
      "100%|██████████████████████████████████████████████████████████████████████████████████| 16/16 [00:18<00:00,  1.15s/it]\n"
     ]
    },
    {
     "name": "stdout",
     "output_type": "stream",
     "text": [
      "[487/500][15/16]\tLoss_D: 0.3328\tLoss_G: 4.8703\tD(x): 0.9863\tD(G(z)): 0.1997 / 0.0267\n",
      "Epoch 488\n"
     ]
    },
    {
     "name": "stderr",
     "output_type": "stream",
     "text": [
      "100%|██████████████████████████████████████████████████████████████████████████████████| 16/16 [00:18<00:00,  1.16s/it]\n"
     ]
    },
    {
     "name": "stdout",
     "output_type": "stream",
     "text": [
      "[488/500][15/16]\tLoss_D: 0.3549\tLoss_G: 4.5971\tD(x): 0.9205\tD(G(z)): 0.1680 / 0.0272\n",
      "Epoch 489\n"
     ]
    },
    {
     "name": "stderr",
     "output_type": "stream",
     "text": [
      "100%|██████████████████████████████████████████████████████████████████████████████████| 16/16 [00:18<00:00,  1.15s/it]\n"
     ]
    },
    {
     "name": "stdout",
     "output_type": "stream",
     "text": [
      "[489/500][15/16]\tLoss_D: 0.2857\tLoss_G: 4.8837\tD(x): 0.8426\tD(G(z)): 0.0749 / 0.0217\n",
      "Epoch 490\n"
     ]
    },
    {
     "name": "stderr",
     "output_type": "stream",
     "text": [
      "100%|██████████████████████████████████████████████████████████████████████████████████| 16/16 [00:19<00:00,  1.21s/it]\n"
     ]
    },
    {
     "name": "stdout",
     "output_type": "stream",
     "text": [
      "[490/500][15/16]\tLoss_D: 0.5543\tLoss_G: 3.4809\tD(x): 0.7548\tD(G(z)): 0.1117 / 0.0992\n",
      "Epoch 491\n"
     ]
    },
    {
     "name": "stderr",
     "output_type": "stream",
     "text": [
      "100%|██████████████████████████████████████████████████████████████████████████████████| 16/16 [00:19<00:00,  1.23s/it]\n"
     ]
    },
    {
     "name": "stdout",
     "output_type": "stream",
     "text": [
      "[491/500][15/16]\tLoss_D: 0.1714\tLoss_G: 3.6824\tD(x): 0.8853\tD(G(z)): 0.0281 / 0.1028\n",
      "Epoch 492\n"
     ]
    },
    {
     "name": "stderr",
     "output_type": "stream",
     "text": [
      "100%|██████████████████████████████████████████████████████████████████████████████████| 16/16 [00:18<00:00,  1.17s/it]\n"
     ]
    },
    {
     "name": "stdout",
     "output_type": "stream",
     "text": [
      "[492/500][15/16]\tLoss_D: 0.4027\tLoss_G: 4.6248\tD(x): 0.8744\tD(G(z)): 0.1768 / 0.0233\n",
      "Epoch 493\n"
     ]
    },
    {
     "name": "stderr",
     "output_type": "stream",
     "text": [
      "100%|██████████████████████████████████████████████████████████████████████████████████| 16/16 [00:18<00:00,  1.14s/it]\n"
     ]
    },
    {
     "name": "stdout",
     "output_type": "stream",
     "text": [
      "[493/500][15/16]\tLoss_D: 0.2888\tLoss_G: 2.9962\tD(x): 0.8479\tD(G(z)): 0.0620 / 0.1359\n",
      "Epoch 494\n"
     ]
    },
    {
     "name": "stderr",
     "output_type": "stream",
     "text": [
      "100%|██████████████████████████████████████████████████████████████████████████████████| 16/16 [00:19<00:00,  1.19s/it]\n"
     ]
    },
    {
     "name": "stdout",
     "output_type": "stream",
     "text": [
      "[494/500][15/16]\tLoss_D: 0.8588\tLoss_G: 3.2269\tD(x): 0.5886\tD(G(z)): 0.0273 / 0.1119\n",
      "Epoch 495\n"
     ]
    },
    {
     "name": "stderr",
     "output_type": "stream",
     "text": [
      "100%|██████████████████████████████████████████████████████████████████████████████████| 16/16 [00:18<00:00,  1.15s/it]\n"
     ]
    },
    {
     "name": "stdout",
     "output_type": "stream",
     "text": [
      "[495/500][15/16]\tLoss_D: 0.4178\tLoss_G: 4.9428\tD(x): 0.9352\tD(G(z)): 0.2321 / 0.0289\n",
      "Epoch 496\n"
     ]
    },
    {
     "name": "stderr",
     "output_type": "stream",
     "text": [
      "100%|██████████████████████████████████████████████████████████████████████████████████| 16/16 [00:18<00:00,  1.17s/it]\n"
     ]
    },
    {
     "name": "stdout",
     "output_type": "stream",
     "text": [
      "[496/500][15/16]\tLoss_D: 0.6257\tLoss_G: 1.4662\tD(x): 0.6515\tD(G(z)): 0.0617 / 0.3387\n",
      "Epoch 497\n"
     ]
    },
    {
     "name": "stderr",
     "output_type": "stream",
     "text": [
      "100%|██████████████████████████████████████████████████████████████████████████████████| 16/16 [00:18<00:00,  1.15s/it]\n"
     ]
    },
    {
     "name": "stdout",
     "output_type": "stream",
     "text": [
      "[497/500][15/16]\tLoss_D: 0.4420\tLoss_G: 5.1966\tD(x): 0.9185\tD(G(z)): 0.2280 / 0.0401\n",
      "Epoch 498\n"
     ]
    },
    {
     "name": "stderr",
     "output_type": "stream",
     "text": [
      "100%|██████████████████████████████████████████████████████████████████████████████████| 16/16 [00:18<00:00,  1.16s/it]\n"
     ]
    },
    {
     "name": "stdout",
     "output_type": "stream",
     "text": [
      "[498/500][15/16]\tLoss_D: 0.5693\tLoss_G: 5.7538\tD(x): 0.9738\tD(G(z)): 0.2924 / 0.0135\n",
      "Epoch 499\n"
     ]
    },
    {
     "name": "stderr",
     "output_type": "stream",
     "text": [
      "100%|██████████████████████████████████████████████████████████████████████████████████| 16/16 [00:18<00:00,  1.16s/it]\n"
     ]
    },
    {
     "name": "stdout",
     "output_type": "stream",
     "text": [
      "[499/500][15/16]\tLoss_D: 0.3701\tLoss_G: 4.1979\tD(x): 0.8759\tD(G(z)): 0.0836 / 0.0850\n",
      "Epoch 500\n"
     ]
    },
    {
     "name": "stderr",
     "output_type": "stream",
     "text": [
      "100%|██████████████████████████████████████████████████████████████████████████████████| 16/16 [00:18<00:00,  1.16s/it]"
     ]
    },
    {
     "name": "stdout",
     "output_type": "stream",
     "text": [
      "[500/500][15/16]\tLoss_D: 0.3625\tLoss_G: 5.3951\tD(x): 0.8091\tD(G(z)): 0.0835 / 0.0184\n"
     ]
    },
    {
     "name": "stderr",
     "output_type": "stream",
     "text": [
      "\n"
     ]
    }
   ],
   "source": [
    "METRIC_FIELDS = [\n",
    "    'train.D_x',\n",
    "    'train.D_G_z1',\n",
    "    'train.D_G_z2',\n",
    "    'train.G_losses',\n",
    "    'train.D_losses',\n",
    "]\n",
    "metrics = {field: list() for field in METRIC_FIELDS}\n",
    "\n",
    "if nc==1:\n",
    "    mu = (0.5)\n",
    "    sigma = (0.5)\n",
    "    transform = transforms.Compose([#transforms.RandomHorizontalFlip(),\n",
    "                                    transforms.Grayscale(num_output_channels=1),\n",
    "                                    transforms.Resize((64,64)),\n",
    "                                    transforms.ToTensor(),\n",
    "                                    transforms.Normalize(mu, sigma)])\n",
    "elif nc==3:\n",
    "    mu = (0.5,0.5,0.5)\n",
    "    sigma = (0.5,0.5,0.5)\n",
    "    #Originally authors used just scaling\n",
    "    transform = transforms.Compose([#transforms.RandomHorizontalFlip(),\n",
    "                                    transforms.Resize((64,64)),\n",
    "                                    transforms.ToTensor(),\n",
    "                                    transforms.Normalize(mu, sigma)])\n",
    "else:\n",
    "    print(\"Tranformation not defined for this option\")\n",
    "\n",
    "train_path='../project/data/normal/set/'\n",
    "#train_path='../project/data/pneumonia/set/'\n",
    "\n",
    "train_set = datasets.ImageFolder(train_path, transform=transform)\n",
    "\n",
    "generator = Generator().to(device)\n",
    "discriminator = Discriminator().to(device)\n",
    "generator.apply(weights_init)\n",
    "discriminator.apply(weights_init)\n",
    "gen_optimizer = optim.Adam(generator.parameters(), lr=lr, betas=(beta1, beta2))\n",
    "dis_optimizer = optim.Adam(discriminator.parameters(), lr=lr_d, betas=(beta1, beta2))\n",
    "\n",
    "train_loader = torch.utils.data.DataLoader(train_set, batch_size=batch_size, shuffle=True)\n",
    "train_gan(generator, discriminator, gen_optimizer, dis_optimizer, train_loader, num_epochs, metrics)\n",
    "        \n",
    "    "
   ]
  },
  {
   "cell_type": "code",
   "execution_count": null,
   "id": "943462a9",
   "metadata": {},
   "outputs": [],
   "source": []
  }
 ],
 "metadata": {
  "kernelspec": {
   "display_name": "Python 3 (ipykernel)",
   "language": "python",
   "name": "python3"
  },
  "language_info": {
   "codemirror_mode": {
    "name": "ipython",
    "version": 3
   },
   "file_extension": ".py",
   "mimetype": "text/x-python",
   "name": "python",
   "nbconvert_exporter": "python",
   "pygments_lexer": "ipython3",
   "version": "3.9.7"
  }
 },
 "nbformat": 4,
 "nbformat_minor": 5
}
